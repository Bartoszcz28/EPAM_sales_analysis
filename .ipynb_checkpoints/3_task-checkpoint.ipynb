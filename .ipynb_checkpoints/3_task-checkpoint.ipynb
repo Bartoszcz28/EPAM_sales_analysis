{
 "cells": [
  {
   "cell_type": "code",
   "execution_count": 1,
   "id": "023a76f3",
   "metadata": {},
   "outputs": [
    {
     "name": "stderr",
     "output_type": "stream",
     "text": [
      "WARNING: An illegal reflective access operation has occurred\n",
      "WARNING: Illegal reflective access by org.apache.spark.unsafe.Platform (file:/usr/local/spark-3.1.2-bin-hadoop3.2/jars/spark-unsafe_2.12-3.1.2.jar) to constructor java.nio.DirectByteBuffer(long,int)\n",
      "WARNING: Please consider reporting this to the maintainers of org.apache.spark.unsafe.Platform\n",
      "WARNING: Use --illegal-access=warn to enable warnings of further illegal reflective access operations\n",
      "WARNING: All illegal access operations will be denied in a future release\n",
      "22/08/13 17:32:18 WARN NativeCodeLoader: Unable to load native-hadoop library for your platform... using builtin-java classes where applicable\n",
      "Using Spark's default log4j profile: org/apache/spark/log4j-defaults.properties\n",
      "Setting default log level to \"WARN\".\n",
      "To adjust logging level use sc.setLogLevel(newLevel). For SparkR, use setLogLevel(newLevel).\n",
      "22/08/13 17:32:19 WARN Utils: Service 'SparkUI' could not bind on port 4040. Attempting port 4041.\n",
      "22/08/13 17:32:19 WARN Utils: Service 'SparkUI' could not bind on port 4041. Attempting port 4042.\n",
      "22/08/13 17:32:19 WARN Utils: Service 'SparkUI' could not bind on port 4042. Attempting port 4043.\n",
      "22/08/13 17:32:19 WARN Utils: Service 'SparkUI' could not bind on port 4043. Attempting port 4044.\n"
     ]
    }
   ],
   "source": [
    "from pyspark.sql import SparkSession\n",
    "from pyspark.sql.types import TimestampType\n",
    "from pyspark.sql.functions import *\n",
    "\n",
    "spark = SparkSession.builder.getOrCreate()"
   ]
  },
  {
   "cell_type": "code",
   "execution_count": 2,
   "id": "a1d629e4",
   "metadata": {},
   "outputs": [
    {
     "name": "stderr",
     "output_type": "stream",
     "text": [
      "                                                                                \r"
     ]
    }
   ],
   "source": [
    "\n",
    "# 4\n",
    "olist_order_payments_dataset = spark.read.options(header='True', inferSchema='True', delimiter=',') \\\n",
    "                            .csv(\"data/olist_order_payments_dataset.csv\")\n",
    "# 6\n",
    "olist_orders_dataset = spark.read.options(header='True', inferSchema='True', delimiter=',') \\\n",
    "                            .csv(\"data/olist_orders_dataset.csv\")"
   ]
  },
  {
   "cell_type": "code",
   "execution_count": 9,
   "id": "8d37dbce",
   "metadata": {},
   "outputs": [
    {
     "name": "stdout",
     "output_type": "stream",
     "text": [
      "+--------------------+-------------+\n",
      "|          order_id_2|payment_value|\n",
      "+--------------------+-------------+\n",
      "|b81ef226f3fe1789b...|        99.33|\n",
      "|a9810da82917af2d9...|        24.39|\n",
      "|25e8ea4e93396b6fa...|        65.71|\n",
      "|ba78997921bbcdc13...|       107.78|\n",
      "|42fdf880ba16b47b5...|       128.45|\n",
      "|298fcdf1f73eb413e...|        96.12|\n",
      "|771ee386b001f0620...|        81.16|\n",
      "|3d7239c394a212faa...|        51.84|\n",
      "|1f78449c87a54faf9...|       341.09|\n",
      "|0573b5e23cbd79800...|        51.95|\n",
      "|d88e0d5fa41661ce0...|       188.73|\n",
      "|2480f727e869fdeb3...|        141.9|\n",
      "|616105c9352a9668c...|        75.78|\n",
      "|cf95215a722f3ebf2...|       102.66|\n",
      "|769214176682788a9...|       105.28|\n",
      "|12e5cfe0e4716b59a...|       157.45|\n",
      "|61059985a6fc0ad64...|       132.04|\n",
      "|79da3f5fe31ad1e45...|        98.94|\n",
      "|8ac09207f415d55ac...|       244.15|\n",
      "|b2349a3f20dfbeef6...|       136.71|\n",
      "+--------------------+-------------+\n",
      "only showing top 20 rows\n",
      "\n"
     ]
    }
   ],
   "source": [
    "payments = olist_order_payments_dataset.select(col(\"order_id\").alias(\"order_id_2\"), \"payment_value\")\n",
    "payments.show()"
   ]
  },
  {
   "cell_type": "code",
   "execution_count": 10,
   "id": "96373c11",
   "metadata": {},
   "outputs": [
    {
     "name": "stdout",
     "output_type": "stream",
     "text": [
      "+--------------------+--------------------+------------+------------------------+-------------------+----------------------------+-----------------------------+-----------------------------+\n",
      "|            order_id|         customer_id|order_status|order_purchase_timestamp|  order_approved_at|order_delivered_carrier_date|order_delivered_customer_date|order_estimated_delivery_date|\n",
      "+--------------------+--------------------+------------+------------------------+-------------------+----------------------------+-----------------------------+-----------------------------+\n",
      "|e481f51cbdc54678b...|9ef432eb625129730...|   delivered|     2017-10-02 10:56:33|2017-10-02 11:07:15|         2017-10-04 19:55:00|          2017-10-10 21:25:13|          2017-10-18 00:00:00|\n",
      "|53cdb2fc8bc7dce0b...|b0830fb4747a6c6d2...|   delivered|     2018-07-24 20:41:37|2018-07-26 03:24:27|         2018-07-26 14:31:00|          2018-08-07 15:27:45|          2018-08-13 00:00:00|\n",
      "|47770eb9100c2d0c4...|41ce2a54c0b03bf34...|   delivered|     2018-08-08 08:38:49|2018-08-08 08:55:23|         2018-08-08 13:50:00|          2018-08-17 18:06:29|          2018-09-04 00:00:00|\n",
      "|949d5b44dbf5de918...|f88197465ea7920ad...|   delivered|     2017-11-18 19:28:06|2017-11-18 19:45:59|         2017-11-22 13:39:59|          2017-12-02 00:28:42|          2017-12-15 00:00:00|\n",
      "|ad21c59c0840e6cb8...|8ab97904e6daea886...|   delivered|     2018-02-13 21:18:39|2018-02-13 22:20:29|         2018-02-14 19:46:34|          2018-02-16 18:17:02|          2018-02-26 00:00:00|\n",
      "|a4591c265e18cb1dc...|503740e9ca751ccdd...|   delivered|     2017-07-09 21:57:05|2017-07-09 22:10:13|         2017-07-11 14:58:04|          2017-07-26 10:57:55|          2017-08-01 00:00:00|\n",
      "|136cce7faa42fdb2c...|ed0271e0b7da060a3...|    invoiced|     2017-04-11 12:22:08|2017-04-13 13:25:17|                        null|                         null|          2017-05-09 00:00:00|\n",
      "|6514b8ad8028c9f2c...|9bdf08b4b3b52b552...|   delivered|     2017-05-16 13:10:30|2017-05-16 13:22:11|         2017-05-22 10:07:46|          2017-05-26 12:55:51|          2017-06-07 00:00:00|\n",
      "|76c6e866289321a7c...|f54a9f0e6b351c431...|   delivered|     2017-01-23 18:29:09|2017-01-25 02:50:47|         2017-01-26 14:16:31|          2017-02-02 14:08:10|          2017-03-06 00:00:00|\n",
      "|e69bfb5eb88e0ed6a...|31ad1d1b63eb99624...|   delivered|     2017-07-29 11:55:02|2017-07-29 12:05:32|         2017-08-10 19:45:24|          2017-08-16 17:14:30|          2017-08-23 00:00:00|\n",
      "|e6ce16cb79ec1d90b...|494dded5b201313c6...|   delivered|     2017-05-16 19:41:10|2017-05-16 19:50:18|         2017-05-18 11:40:40|          2017-05-29 11:18:31|          2017-06-07 00:00:00|\n",
      "|34513ce0c4fab462a...|7711cf624183d843a...|   delivered|     2017-07-13 19:58:11|2017-07-13 20:10:08|         2017-07-14 18:43:29|          2017-07-19 14:04:48|          2017-08-08 00:00:00|\n",
      "|82566a660a982b15f...|d3e3b74c766bc6214...|   delivered|     2018-06-07 10:06:19|2018-06-09 03:13:12|         2018-06-11 13:29:00|          2018-06-19 12:05:52|          2018-07-18 00:00:00|\n",
      "|5ff96c15d0b717ac6...|19402a48fe860416a...|   delivered|     2018-07-25 17:44:10|2018-07-25 17:55:14|         2018-07-26 13:16:00|          2018-07-30 15:52:25|          2018-08-08 00:00:00|\n",
      "|432aaf21d85167c2c...|3df704f53d3f1d481...|   delivered|     2018-03-01 14:14:28|2018-03-01 15:10:47|         2018-03-02 21:09:20|          2018-03-12 23:36:26|          2018-03-21 00:00:00|\n",
      "|dcb36b511fcac050b...|3b6828a50ffe54694...|   delivered|     2018-06-07 19:03:12|2018-06-12 23:31:02|         2018-06-11 14:54:00|          2018-06-21 15:34:32|          2018-07-04 00:00:00|\n",
      "|403b97836b0c04a62...|738b086814c6fcc74...|   delivered|     2018-01-02 19:00:43|2018-01-02 19:09:04|         2018-01-03 18:19:09|          2018-01-20 01:38:59|          2018-02-06 00:00:00|\n",
      "|116f0b09343b49556...|3187789bec9909876...|   delivered|     2017-12-26 23:41:31|2017-12-26 23:50:22|         2017-12-28 18:33:05|          2018-01-08 22:36:36|          2018-01-29 00:00:00|\n",
      "|85ce859fd6dc634de...|059f7fc5719c7da6c...|   delivered|     2017-11-21 00:03:41|2017-11-21 00:14:22|         2017-11-23 21:32:26|          2017-11-27 18:28:00|          2017-12-11 00:00:00|\n",
      "|83018ec114eee8641...|7f8c8b9c2ae27bf33...|   delivered|     2017-10-26 15:54:26|2017-10-26 16:08:14|         2017-10-26 21:46:53|          2017-11-08 22:22:00|          2017-11-23 00:00:00|\n",
      "+--------------------+--------------------+------------+------------------------+-------------------+----------------------------+-----------------------------+-----------------------------+\n",
      "only showing top 20 rows\n",
      "\n"
     ]
    }
   ],
   "source": [
    "olist_orders_dataset.show()"
   ]
  },
  {
   "cell_type": "code",
   "execution_count": 13,
   "id": "b3caa04d",
   "metadata": {},
   "outputs": [
    {
     "name": "stdout",
     "output_type": "stream",
     "text": [
      "+--------------------+-------------+--------------------+------------------------+\n",
      "|            order_id|payment_value|         customer_id|order_purchase_timestamp|\n",
      "+--------------------+-------------+--------------------+------------------------+\n",
      "|e481f51cbdc54678b...|        18.59|9ef432eb625129730...|              2017-10-02|\n",
      "|e481f51cbdc54678b...|          2.0|9ef432eb625129730...|              2017-10-02|\n",
      "|e481f51cbdc54678b...|        18.12|9ef432eb625129730...|              2017-10-02|\n",
      "|53cdb2fc8bc7dce0b...|       141.46|b0830fb4747a6c6d2...|              2018-07-24|\n",
      "|47770eb9100c2d0c4...|       179.12|41ce2a54c0b03bf34...|              2018-08-08|\n",
      "|949d5b44dbf5de918...|         72.2|f88197465ea7920ad...|              2017-11-18|\n",
      "|ad21c59c0840e6cb8...|        28.62|8ab97904e6daea886...|              2018-02-13|\n",
      "|a4591c265e18cb1dc...|       175.26|503740e9ca751ccdd...|              2017-07-09|\n",
      "|136cce7faa42fdb2c...|        65.95|ed0271e0b7da060a3...|              2017-04-11|\n",
      "|6514b8ad8028c9f2c...|        75.16|9bdf08b4b3b52b552...|              2017-05-16|\n",
      "|76c6e866289321a7c...|        35.95|f54a9f0e6b351c431...|              2017-01-23|\n",
      "|e69bfb5eb88e0ed6a...|         8.34|31ad1d1b63eb99624...|              2017-07-29|\n",
      "|e69bfb5eb88e0ed6a...|       161.42|31ad1d1b63eb99624...|              2017-07-29|\n",
      "|e6ce16cb79ec1d90b...|       259.06|494dded5b201313c6...|              2017-05-16|\n",
      "|34513ce0c4fab462a...|       114.13|7711cf624183d843a...|              2017-07-13|\n",
      "|82566a660a982b15f...|        50.13|d3e3b74c766bc6214...|              2018-06-07|\n",
      "|5ff96c15d0b717ac6...|         32.7|19402a48fe860416a...|              2018-07-25|\n",
      "|432aaf21d85167c2c...|        54.36|3df704f53d3f1d481...|              2018-03-01|\n",
      "|dcb36b511fcac050b...|       146.45|3b6828a50ffe54694...|              2018-06-07|\n",
      "|403b97836b0c04a62...|      1376.45|738b086814c6fcc74...|              2018-01-02|\n",
      "+--------------------+-------------+--------------------+------------------------+\n",
      "only showing top 20 rows\n",
      "\n"
     ]
    }
   ],
   "source": [
    "join_table = payments.join(olist_orders_dataset, payments.order_id_2==olist_orders_dataset.order_id, \"Inner\")\n",
    "join_table = join_table.select(\"order_id\",\"payment_value\",\"customer_id\", \"order_purchase_timestamp\")\n",
    "join_table = join_table.withColumn('order_purchase_timestamp',to_date(unix_timestamp \\\n",
    "            (join_table.order_purchase_timestamp, 'yyyy-MM-dd HH:mm:ss').cast('timestamp')))\n",
    "join_table.show()"
   ]
  },
  {
   "cell_type": "code",
   "execution_count": 15,
   "id": "816b5a9c",
   "metadata": {},
   "outputs": [],
   "source": [
    "join_table.createOrReplaceTempView(\"join_table\")"
   ]
  },
  {
   "cell_type": "markdown",
   "id": "02a99fee",
   "metadata": {},
   "source": [
    "#### 3)\tFind maximum spending customers for every month of last year.\n",
    "\n",
    "What mean last year when the newest data is from 2018?   \n",
    "Last year of existing data?"
   ]
  },
  {
   "cell_type": "code",
   "execution_count": 22,
   "id": "8a1aa5fd",
   "metadata": {},
   "outputs": [
    {
     "name": "stdout",
     "output_type": "stream",
     "text": [
      "+-----------------------------+\n",
      "|max(order_purchase_timestamp)|\n",
      "+-----------------------------+\n",
      "|                   2018-10-17|\n",
      "+-----------------------------+\n",
      "\n"
     ]
    }
   ],
   "source": [
    "spark.sql(\"\"\"\n",
    "            SELECT\n",
    "            max(order_purchase_timestamp)\n",
    "            FROM join_table\n",
    "            \"\"\").show()"
   ]
  },
  {
   "cell_type": "code",
   "execution_count": 14,
   "id": "7a37880a",
   "metadata": {},
   "outputs": [
    {
     "data": {
      "text/plain": [
       "[('order_id', 'string'),\n",
       " ('payment_value', 'double'),\n",
       " ('customer_id', 'string'),\n",
       " ('order_purchase_timestamp', 'date')]"
      ]
     },
     "execution_count": 14,
     "metadata": {},
     "output_type": "execute_result"
    }
   ],
   "source": [
    "join_table.dtypes"
   ]
  },
  {
   "cell_type": "code",
   "execution_count": 19,
   "id": "484a98ba",
   "metadata": {},
   "outputs": [
    {
     "name": "stdout",
     "output_type": "stream",
     "text": [
      "+--------------------+------------------+\n",
      "|         customer_id|sum(payment_value)|\n",
      "+--------------------+------------------+\n",
      "|f54a9f0e6b351c431...|             35.95|\n",
      "|2a1dfb647f32f4390...|            508.17|\n",
      "|4f28355e5c17a4a42...|            153.72|\n",
      "|4632eb5a8f175f6fe...|             91.66|\n",
      "|843ff05b30ce4f75b...|            102.74|\n",
      "|a4156bb8aff5d6722...|            206.87|\n",
      "|1099d033c74a027a7...|              61.7|\n",
      "|7a3bd3b37285f0ab2...|            473.12|\n",
      "|5fff39f1b59dc4d2f...|             90.58|\n",
      "|18f6ca10777417c93...|             61.36|\n",
      "|f1e46939e6408b3e6...|              53.0|\n",
      "|a8695124db570d100...|             85.24|\n",
      "|545b9a267af9ba134...|            130.83|\n",
      "|90d7075599361b694...|             84.28|\n",
      "|a340ce6c3570e68d4...|            122.69|\n",
      "|ce0681e1c3f70e145...|             82.73|\n",
      "|ee905ec97794ec6e9...|170.23000000000002|\n",
      "|b74ca180d63f9ae04...|             98.62|\n",
      "|0de46efc7d10114ac...|             124.8|\n",
      "|8bdae6b4ff9bc7f4c...|            376.56|\n",
      "+--------------------+------------------+\n",
      "only showing top 20 rows\n",
      "\n"
     ]
    }
   ],
   "source": [
    "df = spark.sql(\"\"\"\n",
    "               SELECT\n",
    "               customer_id,\n",
    "               SUM(payment_value)\n",
    "               FROM join_table\n",
    "               GROUP BY customer_id\n",
    "               \n",
    "               \n",
    "               \n",
    "               \n",
    "               \"\"\")\n",
    "df.show()"
   ]
  },
  {
   "cell_type": "code",
   "execution_count": null,
   "id": "a2f97d7e",
   "metadata": {},
   "outputs": [],
   "source": []
  }
 ],
 "metadata": {
  "kernelspec": {
   "display_name": "Python 3 (ipykernel)",
   "language": "python",
   "name": "python3"
  },
  "language_info": {
   "codemirror_mode": {
    "name": "ipython",
    "version": 3
   },
   "file_extension": ".py",
   "mimetype": "text/x-python",
   "name": "python",
   "nbconvert_exporter": "python",
   "pygments_lexer": "ipython3",
   "version": "3.9.7"
  }
 },
 "nbformat": 4,
 "nbformat_minor": 5
}
