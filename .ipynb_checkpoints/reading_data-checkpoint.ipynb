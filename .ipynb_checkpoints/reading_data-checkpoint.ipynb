{
 "cells": [
  {
   "cell_type": "code",
   "execution_count": 1,
   "id": "775e8245",
   "metadata": {},
   "outputs": [
    {
     "name": "stderr",
     "output_type": "stream",
     "text": [
      "WARNING: An illegal reflective access operation has occurred\n",
      "WARNING: Illegal reflective access by org.apache.spark.unsafe.Platform (file:/usr/local/spark-3.1.2-bin-hadoop3.2/jars/spark-unsafe_2.12-3.1.2.jar) to constructor java.nio.DirectByteBuffer(long,int)\n",
      "WARNING: Please consider reporting this to the maintainers of org.apache.spark.unsafe.Platform\n",
      "WARNING: Use --illegal-access=warn to enable warnings of further illegal reflective access operations\n",
      "WARNING: All illegal access operations will be denied in a future release\n",
      "22/08/13 08:01:21 WARN NativeCodeLoader: Unable to load native-hadoop library for your platform... using builtin-java classes where applicable\n",
      "Using Spark's default log4j profile: org/apache/spark/log4j-defaults.properties\n",
      "Setting default log level to \"WARN\".\n",
      "To adjust logging level use sc.setLogLevel(newLevel). For SparkR, use setLogLevel(newLevel).\n",
      "22/08/13 08:01:22 WARN Utils: Service 'SparkUI' could not bind on port 4040. Attempting port 4041.\n"
     ]
    }
   ],
   "source": [
    "from pyspark.sql import SparkSession\n",
    "from pyspark.sql.functions import *\n",
    "from pyspark.sql.types import TimestampType\n",
    "\n",
    "\n",
    "\n",
    "from pyspark.sql import SparkSession\n",
    "from pyspark.sql.types import TimestampType\n",
    "from pyspark.sql.functions import *\n",
    "\n",
    "spark = SparkSession.builder.getOrCreate()"
   ]
  },
  {
   "cell_type": "code",
   "execution_count": 2,
   "id": "02b02244",
   "metadata": {},
   "outputs": [
    {
     "name": "stderr",
     "output_type": "stream",
     "text": [
      "                                                                                \r"
     ]
    }
   ],
   "source": [
    "# df = spark.read.options(delimiter=',').option(\"header\",True).csv(\"data/olist_customers_dataset.csv\")\n",
    "# 1\n",
    "olist_customers_dataset = spark.read.options(header='True', inferSchema='True', delimiter=',') \\\n",
    "                            .csv(\"data/olist_customers_dataset.csv\")\n",
    "# 2\n",
    "olist_geolocation_dataset = spark.read.options(header='True', inferSchema='True', delimiter=',') \\\n",
    "                            .csv(\"data/olist_geolocation_dataset.csv\")\n",
    "# 3\n",
    "olist_order_items_dataset = spark.read.options(header='True', inferSchema='True', delimiter=',') \\\n",
    "                            .csv(\"data/olist_order_items_dataset.csv\")\n",
    "# 4\n",
    "olist_order_payments_dataset = spark.read.options(header='True', inferSchema='True', delimiter=',') \\\n",
    "                            .csv(\"data/olist_order_payments_dataset.csv\")\n",
    "# 5\n",
    "olist_order_reviews_dataset = spark.read.options(header='True', inferSchema='True', delimiter=',') \\\n",
    "                            .csv(\"data/olist_order_reviews_dataset.csv\")\n",
    "# 6\n",
    "olist_orders_dataset = spark.read.options(header='True', inferSchema='True', delimiter=',') \\\n",
    "                            .csv(\"data/olist_orders_dataset.csv\")\n",
    "# 7\n",
    "olist_products_dataset = spark.read.options(header='True', inferSchema='True', delimiter=',') \\\n",
    "                            .csv(\"data/olist_products_dataset.csv\")\n",
    "# 8\n",
    "olist_sellers_dataset = spark.read.options(header='True', inferSchema='True', delimiter=',') \\\n",
    "                            .csv(\"data/olist_sellers_dataset.csv\")\n",
    "# 9\n",
    "product_category_name_translation = spark.read.options(header='True', inferSchema='True', delimiter=',') \\\n",
    "                            .csv(\"data/product_category_name_translation.csv\")"
   ]
  },
  {
   "cell_type": "code",
   "execution_count": 3,
   "id": "ca419c9a",
   "metadata": {},
   "outputs": [
    {
     "name": "stdout",
     "output_type": "stream",
     "text": [
      "+--------------------+--------------------+------------------------+--------------------+--------------+\n",
      "|         customer_id|  customer_unique_id|customer_zip_code_prefix|       customer_city|customer_state|\n",
      "+--------------------+--------------------+------------------------+--------------------+--------------+\n",
      "|06b8999e2fba1a1fb...|861eff4711a542e4b...|                   14409|              franca|            SP|\n",
      "|18955e83d337fd6b2...|290c77bc529b7ac93...|                    9790|sao bernardo do c...|            SP|\n",
      "|4e7b3e00288586ebd...|060e732b5b29e8181...|                    1151|           sao paulo|            SP|\n",
      "|b2b6027bc5c5109e5...|259dac757896d24d7...|                    8775|     mogi das cruzes|            SP|\n",
      "|4f2d8ab171c80ec83...|345ecd01c38d18a90...|                   13056|            campinas|            SP|\n",
      "+--------------------+--------------------+------------------------+--------------------+--------------+\n",
      "only showing top 5 rows\n",
      "\n",
      "+---------------------------+-------------------+------------------+----------------+-----------------+\n",
      "|geolocation_zip_code_prefix|    geolocation_lat|   geolocation_lng|geolocation_city|geolocation_state|\n",
      "+---------------------------+-------------------+------------------+----------------+-----------------+\n",
      "|                       1037| -23.54562128115268|-46.63929204800168|       sao paulo|               SP|\n",
      "|                       1046|-23.546081127035535|-46.64482029837157|       sao paulo|               SP|\n",
      "|                       1046| -23.54612896641469|-46.64295148361138|       sao paulo|               SP|\n",
      "|                       1041|  -23.5443921648681|-46.63949930627844|       sao paulo|               SP|\n",
      "|                       1035|-23.541577961711493|-46.64160722329613|       sao paulo|               SP|\n",
      "+---------------------------+-------------------+------------------+----------------+-----------------+\n",
      "only showing top 5 rows\n",
      "\n",
      "+--------------------+-------------+--------------------+--------------------+-------------------+-----+-------------+\n",
      "|            order_id|order_item_id|          product_id|           seller_id|shipping_limit_date|price|freight_value|\n",
      "+--------------------+-------------+--------------------+--------------------+-------------------+-----+-------------+\n",
      "|00010242fe8c5a6d1...|            1|4244733e06e7ecb49...|48436dade18ac8b2b...|2017-09-19 09:45:35| 58.9|        13.29|\n",
      "|00018f77f2f0320c5...|            1|e5f2d52b802189ee6...|dd7ddc04e1b6c2c61...|2017-05-03 11:05:13|239.9|        19.93|\n",
      "|000229ec398224ef6...|            1|c777355d18b72b67a...|5b51032eddd242adc...|2018-01-18 14:48:30|199.0|        17.87|\n",
      "|00024acbcdf0a6daa...|            1|7634da152a4610f15...|9d7a1d34a50524090...|2018-08-15 10:10:18|12.99|        12.79|\n",
      "|00042b26cf59d7ce6...|            1|ac6c3623068f30de0...|df560393f3a51e745...|2017-02-13 13:57:51|199.9|        18.14|\n",
      "+--------------------+-------------+--------------------+--------------------+-------------------+-----+-------------+\n",
      "only showing top 5 rows\n",
      "\n",
      "+--------------------+------------------+------------+--------------------+-------------+\n",
      "|            order_id|payment_sequential|payment_type|payment_installments|payment_value|\n",
      "+--------------------+------------------+------------+--------------------+-------------+\n",
      "|b81ef226f3fe1789b...|                 1| credit_card|                   8|        99.33|\n",
      "|a9810da82917af2d9...|                 1| credit_card|                   1|        24.39|\n",
      "|25e8ea4e93396b6fa...|                 1| credit_card|                   1|        65.71|\n",
      "|ba78997921bbcdc13...|                 1| credit_card|                   8|       107.78|\n",
      "|42fdf880ba16b47b5...|                 1| credit_card|                   2|       128.45|\n",
      "+--------------------+------------------+------------+--------------------+-------------+\n",
      "only showing top 5 rows\n",
      "\n",
      "+--------------------+--------------------+------------+--------------------+----------------------+--------------------+-----------------------+\n",
      "|           review_id|            order_id|review_score|review_comment_title|review_comment_message|review_creation_date|review_answer_timestamp|\n",
      "+--------------------+--------------------+------------+--------------------+----------------------+--------------------+-----------------------+\n",
      "|7bc2406110b926393...|73fc7af87114b3971...|           4|                null|                  null| 2018-01-18 00:00:00|    2018-01-18 21:46:59|\n",
      "|80e641a11e56f04c1...|a548910a1c6147796...|           5|                null|                  null| 2018-03-10 00:00:00|    2018-03-11 03:05:13|\n",
      "|228ce5500dc1d8e02...|f9e4b658b201a9f2e...|           5|                null|                  null| 2018-02-17 00:00:00|    2018-02-18 14:36:24|\n",
      "|e64fb393e7b32834b...|658677c97b385a9be...|           5|                null|  Recebi bem antes ...| 2017-04-21 00:00:00|    2017-04-21 22:02:06|\n",
      "|f7c4243c7fe1938f1...|8e6bfb81e283fa7e4...|           5|                null|  Parabéns lojas la...| 2018-03-01 00:00:00|    2018-03-02 10:26:53|\n",
      "+--------------------+--------------------+------------+--------------------+----------------------+--------------------+-----------------------+\n",
      "only showing top 5 rows\n",
      "\n",
      "+--------------------+--------------------+------------+------------------------+-------------------+----------------------------+-----------------------------+-----------------------------+\n",
      "|            order_id|         customer_id|order_status|order_purchase_timestamp|  order_approved_at|order_delivered_carrier_date|order_delivered_customer_date|order_estimated_delivery_date|\n",
      "+--------------------+--------------------+------------+------------------------+-------------------+----------------------------+-----------------------------+-----------------------------+\n",
      "|e481f51cbdc54678b...|9ef432eb625129730...|   delivered|     2017-10-02 10:56:33|2017-10-02 11:07:15|         2017-10-04 19:55:00|          2017-10-10 21:25:13|          2017-10-18 00:00:00|\n",
      "|53cdb2fc8bc7dce0b...|b0830fb4747a6c6d2...|   delivered|     2018-07-24 20:41:37|2018-07-26 03:24:27|         2018-07-26 14:31:00|          2018-08-07 15:27:45|          2018-08-13 00:00:00|\n",
      "|47770eb9100c2d0c4...|41ce2a54c0b03bf34...|   delivered|     2018-08-08 08:38:49|2018-08-08 08:55:23|         2018-08-08 13:50:00|          2018-08-17 18:06:29|          2018-09-04 00:00:00|\n",
      "|949d5b44dbf5de918...|f88197465ea7920ad...|   delivered|     2017-11-18 19:28:06|2017-11-18 19:45:59|         2017-11-22 13:39:59|          2017-12-02 00:28:42|          2017-12-15 00:00:00|\n",
      "|ad21c59c0840e6cb8...|8ab97904e6daea886...|   delivered|     2018-02-13 21:18:39|2018-02-13 22:20:29|         2018-02-14 19:46:34|          2018-02-16 18:17:02|          2018-02-26 00:00:00|\n",
      "+--------------------+--------------------+------------+------------------------+-------------------+----------------------------+-----------------------------+-----------------------------+\n",
      "only showing top 5 rows\n",
      "\n",
      "+--------------------+---------------------+-------------------+--------------------------+------------------+----------------+-----------------+-----------------+----------------+\n",
      "|          product_id|product_category_name|product_name_lenght|product_description_lenght|product_photos_qty|product_weight_g|product_length_cm|product_height_cm|product_width_cm|\n",
      "+--------------------+---------------------+-------------------+--------------------------+------------------+----------------+-----------------+-----------------+----------------+\n",
      "|1e9e8ef04dbcff454...|           perfumaria|                 40|                       287|                 1|             225|               16|               10|              14|\n",
      "|3aa071139cb16b67c...|                artes|                 44|                       276|                 1|            1000|               30|               18|              20|\n",
      "|96bd76ec8810374ed...|        esporte_lazer|                 46|                       250|                 1|             154|               18|                9|              15|\n",
      "|cef67bcfe19066a93...|                bebes|                 27|                       261|                 1|             371|               26|                4|              26|\n",
      "|9dc1a7de274444849...| utilidades_domest...|                 37|                       402|                 4|             625|               20|               17|              13|\n",
      "+--------------------+---------------------+-------------------+--------------------------+------------------+----------------+-----------------+-----------------+----------------+\n",
      "only showing top 5 rows\n",
      "\n"
     ]
    },
    {
     "name": "stdout",
     "output_type": "stream",
     "text": [
      "+--------------------+----------------------+-----------------+------------+\n",
      "|           seller_id|seller_zip_code_prefix|      seller_city|seller_state|\n",
      "+--------------------+----------------------+-----------------+------------+\n",
      "|3442f8959a84dea7e...|                 13023|         campinas|          SP|\n",
      "|d1b65fc7debc3361e...|                 13844|       mogi guacu|          SP|\n",
      "|ce3ad9de960102d06...|                 20031|   rio de janeiro|          RJ|\n",
      "|c0f3eea2e14555b6f...|                  4195|        sao paulo|          SP|\n",
      "|51a04a8a6bdcb23de...|                 12914|braganca paulista|          SP|\n",
      "+--------------------+----------------------+-----------------+------------+\n",
      "only showing top 5 rows\n",
      "\n",
      "+---------------------+-----------------------------+\n",
      "|product_category_name|product_category_name_english|\n",
      "+---------------------+-----------------------------+\n",
      "|         beleza_saude|                health_beauty|\n",
      "| informatica_acess...|         computers_accesso...|\n",
      "|           automotivo|                         auto|\n",
      "|      cama_mesa_banho|               bed_bath_table|\n",
      "|     moveis_decoracao|              furniture_decor|\n",
      "+---------------------+-----------------------------+\n",
      "only showing top 5 rows\n",
      "\n"
     ]
    }
   ],
   "source": [
    "olist_customers_dataset.show(5)\n",
    "olist_geolocation_dataset.show(5)\n",
    "olist_order_items_dataset.show(5)\n",
    "olist_order_payments_dataset.show(5)\n",
    "olist_order_reviews_dataset.show(5)\n",
    "olist_orders_dataset.show(5)\n",
    "olist_products_dataset.show(5)\n",
    "olist_sellers_dataset.show(5)\n",
    "product_category_name_translation.show(5)"
   ]
  },
  {
   "cell_type": "code",
   "execution_count": 4,
   "id": "9f12f5f5",
   "metadata": {},
   "outputs": [
    {
     "name": "stdout",
     "output_type": "stream",
     "text": [
      "['customer_id', 'customer_unique_id', 'customer_zip_code_prefix', 'customer_city', 'customer_state']\n",
      "\n",
      "['geolocation_zip_code_prefix', 'geolocation_lat', 'geolocation_lng', 'geolocation_city', 'geolocation_state']\n",
      "\n",
      "['order_id', 'order_item_id', 'product_id', 'seller_id', 'shipping_limit_date', 'price', 'freight_value']\n",
      "\n",
      "['order_id', 'payment_sequential', 'payment_type', 'payment_installments', 'payment_value']\n",
      "\n",
      "['review_id', 'order_id', 'review_score', 'review_comment_title', 'review_comment_message', 'review_creation_date', 'review_answer_timestamp']\n",
      "\n",
      "['order_id', 'customer_id', 'order_status', 'order_purchase_timestamp', 'order_approved_at', 'order_delivered_carrier_date', 'order_delivered_customer_date', 'order_estimated_delivery_date']\n",
      "\n",
      "['product_id', 'product_category_name', 'product_name_lenght', 'product_description_lenght', 'product_photos_qty', 'product_weight_g', 'product_length_cm', 'product_height_cm', 'product_width_cm']\n",
      "\n",
      "['seller_id', 'seller_zip_code_prefix', 'seller_city', 'seller_state']\n",
      "\n",
      "['product_category_name', 'product_category_name_english']\n"
     ]
    }
   ],
   "source": [
    "print(olist_customers_dataset.columns)\n",
    "print()\n",
    "print(olist_geolocation_dataset.columns)\n",
    "print()\n",
    "print(olist_order_items_dataset.columns)\n",
    "print()\n",
    "print(olist_order_payments_dataset.columns)\n",
    "print()\n",
    "print(olist_order_reviews_dataset.columns)\n",
    "print()\n",
    "print(olist_orders_dataset.columns)\n",
    "print()\n",
    "print(olist_products_dataset.columns)\n",
    "print()\n",
    "print(olist_sellers_dataset.columns)\n",
    "print()\n",
    "print(product_category_name_translation.columns)"
   ]
  },
  {
   "cell_type": "code",
   "execution_count": 5,
   "id": "41d38c82",
   "metadata": {},
   "outputs": [
    {
     "name": "stdout",
     "output_type": "stream",
     "text": [
      "<bound method DataFrame.printSchema of DataFrame[order_id: string, customer_id: string, order_status: string, order_purchase_timestamp: string, order_approved_at: string, order_delivered_carrier_date: string, order_delivered_customer_date: string, order_estimated_delivery_date: string]>\n"
     ]
    }
   ],
   "source": [
    "print(olist_orders_dataset.printSchema)"
   ]
  },
  {
   "cell_type": "code",
   "execution_count": 6,
   "id": "c1733f59",
   "metadata": {},
   "outputs": [],
   "source": [
    "# olist_orders_dataset, order_estimated_delivery_date, order_delivered_customer_date"
   ]
  },
  {
   "cell_type": "code",
   "execution_count": 7,
   "id": "debbda66",
   "metadata": {},
   "outputs": [
    {
     "name": "stdout",
     "output_type": "stream",
     "text": [
      "+--------------------+-----------------------------+-----------------------------+\n",
      "|            order_id|order_estimated_delivery_date|order_delivered_customer_date|\n",
      "+--------------------+-----------------------------+-----------------------------+\n",
      "|e481f51cbdc54678b...|          2017-10-18 00:00:00|          2017-10-10 21:25:13|\n",
      "|53cdb2fc8bc7dce0b...|          2018-08-13 00:00:00|          2018-08-07 15:27:45|\n",
      "|47770eb9100c2d0c4...|          2018-09-04 00:00:00|          2018-08-17 18:06:29|\n",
      "|949d5b44dbf5de918...|          2017-12-15 00:00:00|          2017-12-02 00:28:42|\n",
      "|ad21c59c0840e6cb8...|          2018-02-26 00:00:00|          2018-02-16 18:17:02|\n",
      "|a4591c265e18cb1dc...|          2017-08-01 00:00:00|          2017-07-26 10:57:55|\n",
      "|136cce7faa42fdb2c...|          2017-05-09 00:00:00|                         null|\n",
      "|6514b8ad8028c9f2c...|          2017-06-07 00:00:00|          2017-05-26 12:55:51|\n",
      "|76c6e866289321a7c...|          2017-03-06 00:00:00|          2017-02-02 14:08:10|\n",
      "|e69bfb5eb88e0ed6a...|          2017-08-23 00:00:00|          2017-08-16 17:14:30|\n",
      "|e6ce16cb79ec1d90b...|          2017-06-07 00:00:00|          2017-05-29 11:18:31|\n",
      "|34513ce0c4fab462a...|          2017-08-08 00:00:00|          2017-07-19 14:04:48|\n",
      "|82566a660a982b15f...|          2018-07-18 00:00:00|          2018-06-19 12:05:52|\n",
      "|5ff96c15d0b717ac6...|          2018-08-08 00:00:00|          2018-07-30 15:52:25|\n",
      "|432aaf21d85167c2c...|          2018-03-21 00:00:00|          2018-03-12 23:36:26|\n",
      "|dcb36b511fcac050b...|          2018-07-04 00:00:00|          2018-06-21 15:34:32|\n",
      "|403b97836b0c04a62...|          2018-02-06 00:00:00|          2018-01-20 01:38:59|\n",
      "|116f0b09343b49556...|          2018-01-29 00:00:00|          2018-01-08 22:36:36|\n",
      "|85ce859fd6dc634de...|          2017-12-11 00:00:00|          2017-11-27 18:28:00|\n",
      "|83018ec114eee8641...|          2017-11-23 00:00:00|          2017-11-08 22:22:00|\n",
      "+--------------------+-----------------------------+-----------------------------+\n",
      "only showing top 20 rows\n",
      "\n"
     ]
    }
   ],
   "source": [
    "olist_orders_dataset.select(\"order_id\",\"order_estimated_delivery_date\",\"order_delivered_customer_date\").show()"
   ]
  },
  {
   "cell_type": "code",
   "execution_count": 17,
   "id": "5c1cafbe",
   "metadata": {},
   "outputs": [],
   "source": [
    "df = olist_orders_dataset.withColumn('order_estimated_delivery_date_n',to_date(unix_timestamp \\\n",
    "            (olist_orders_dataset.order_estimated_delivery_date, 'yyyy-MM-dd HH:mm:ss').cast('timestamp'))) \\\n",
    "                        .withColumn('order_delivered_customer_date_n',to_date(unix_timestamp \\\n",
    "            (olist_orders_dataset.order_delivered_customer_date, 'yyyy-MM-dd HH:mm:ss').cast('timestamp')))"
   ]
  },
  {
   "cell_type": "code",
   "execution_count": 18,
   "id": "4fccaf50",
   "metadata": {},
   "outputs": [
    {
     "data": {
      "text/plain": [
       "[('order_id', 'string'),\n",
       " ('customer_id', 'string'),\n",
       " ('order_status', 'string'),\n",
       " ('order_purchase_timestamp', 'string'),\n",
       " ('order_approved_at', 'string'),\n",
       " ('order_delivered_carrier_date', 'string'),\n",
       " ('order_delivered_customer_date', 'string'),\n",
       " ('order_estimated_delivery_date', 'string'),\n",
       " ('order_estimated_delivery_date_n', 'date'),\n",
       " ('order_delivered_customer_date_n', 'date')]"
      ]
     },
     "execution_count": 18,
     "metadata": {},
     "output_type": "execute_result"
    }
   ],
   "source": [
    "df.dtypes"
   ]
  },
  {
   "cell_type": "code",
   "execution_count": 21,
   "id": "84cfc1fe",
   "metadata": {},
   "outputs": [
    {
     "data": {
      "text/plain": [
       "99441"
      ]
     },
     "execution_count": 21,
     "metadata": {},
     "output_type": "execute_result"
    }
   ],
   "source": [
    "df.count()"
   ]
  },
  {
   "cell_type": "code",
   "execution_count": 23,
   "id": "6b21f168",
   "metadata": {},
   "outputs": [],
   "source": [
    "s = df.select(\"order_id\",\"order_estimated_delivery_date_n\",\"order_delivered_customer_date_n\") \\\n",
    "            .filter(df.order_estimated_delivery_date_n < df.order_delivered_customer_date_n).count()"
   ]
  },
  {
   "cell_type": "code",
   "execution_count": 32,
   "id": "936f5c33",
   "metadata": {},
   "outputs": [
    {
     "name": "stdout",
     "output_type": "stream",
     "text": [
      "<class 'float'>\n"
     ]
    }
   ],
   "source": [
    "print(type(s/df.count()))"
   ]
  },
  {
   "cell_type": "code",
   "execution_count": null,
   "id": "b823e782",
   "metadata": {},
   "outputs": [],
   "source": [
    "olist_orders_dataset.createOrReplaceTempView(\"olist_orders_dataset\")\n",
    "spark.sql(\"\"\"SELECT order_id, CONVERT(order_estimated_delivery_date,'yyyy-mm-dd hh:mi:ss'), order_delivered_customer_date \n",
    "            FROM olist_orders_dataset\"\"\").show()"
   ]
  },
  {
   "cell_type": "code",
   "execution_count": null,
   "id": "37876b64",
   "metadata": {},
   "outputs": [],
   "source": []
  }
 ],
 "metadata": {
  "kernelspec": {
   "display_name": "Python 3 (ipykernel)",
   "language": "python",
   "name": "python3"
  },
  "language_info": {
   "codemirror_mode": {
    "name": "ipython",
    "version": 3
   },
   "file_extension": ".py",
   "mimetype": "text/x-python",
   "name": "python",
   "nbconvert_exporter": "python",
   "pygments_lexer": "ipython3",
   "version": "3.9.7"
  }
 },
 "nbformat": 4,
 "nbformat_minor": 5
}
