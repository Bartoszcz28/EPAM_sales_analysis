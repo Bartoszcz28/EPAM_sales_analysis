{
 "cells": [
  {
   "cell_type": "code",
   "execution_count": 1,
   "id": "a0d0330c",
   "metadata": {},
   "outputs": [
    {
     "name": "stderr",
     "output_type": "stream",
     "text": [
      "WARNING: An illegal reflective access operation has occurred\n",
      "WARNING: Illegal reflective access by org.apache.spark.unsafe.Platform (file:/usr/local/spark-3.1.2-bin-hadoop3.2/jars/spark-unsafe_2.12-3.1.2.jar) to constructor java.nio.DirectByteBuffer(long,int)\n",
      "WARNING: Please consider reporting this to the maintainers of org.apache.spark.unsafe.Platform\n",
      "WARNING: Use --illegal-access=warn to enable warnings of further illegal reflective access operations\n",
      "WARNING: All illegal access operations will be denied in a future release\n",
      "22/08/17 08:43:03 WARN NativeCodeLoader: Unable to load native-hadoop library for your platform... using builtin-java classes where applicable\n",
      "Using Spark's default log4j profile: org/apache/spark/log4j-defaults.properties\n",
      "Setting default log level to \"WARN\".\n",
      "To adjust logging level use sc.setLogLevel(newLevel). For SparkR, use setLogLevel(newLevel).\n"
     ]
    }
   ],
   "source": [
    "from pyspark.sql import SparkSession\n",
    "from pyspark.sql.functions import *\n",
    "from pyspark.sql.types import TimestampType\n",
    "import pyspark.sql.functions as F\n",
    "\n",
    "import matplotlib.pyplot as plt\n",
    "plt.rc(\"axes\", axisbelow=True)\n",
    "\n",
    "import os\n",
    "\n",
    "spark = SparkSession.builder.getOrCreate()"
   ]
  },
  {
   "cell_type": "code",
   "execution_count": 2,
   "id": "412dfbd0",
   "metadata": {},
   "outputs": [
    {
     "name": "stderr",
     "output_type": "stream",
     "text": [
      "\r",
      "[Stage 1:===========>                                               (1 + 4) / 5]\r",
      "\r",
      "                                                                                \r"
     ]
    }
   ],
   "source": [
    "# Reading csv file\n",
    "olist_orders_dataset = spark.read.options(header='True', inferSchema='True', delimiter=',') \\\n",
    "                            .csv(\"ecommerce_data/olist_orders_dataset.csv\")"
   ]
  },
  {
   "cell_type": "code",
   "execution_count": 3,
   "id": "7cf9fcfb",
   "metadata": {},
   "outputs": [
    {
     "name": "stdout",
     "output_type": "stream",
     "text": [
      "+--------------------+-----------------------------+-----------------------------+\n",
      "|            order_id|order_estimated_delivery_date|order_delivered_customer_date|\n",
      "+--------------------+-----------------------------+-----------------------------+\n",
      "|e481f51cbdc54678b...|          2017-10-18 00:00:00|          2017-10-10 21:25:13|\n",
      "|53cdb2fc8bc7dce0b...|          2018-08-13 00:00:00|          2018-08-07 15:27:45|\n",
      "|47770eb9100c2d0c4...|          2018-09-04 00:00:00|          2018-08-17 18:06:29|\n",
      "|949d5b44dbf5de918...|          2017-12-15 00:00:00|          2017-12-02 00:28:42|\n",
      "|ad21c59c0840e6cb8...|          2018-02-26 00:00:00|          2018-02-16 18:17:02|\n",
      "|a4591c265e18cb1dc...|          2017-08-01 00:00:00|          2017-07-26 10:57:55|\n",
      "|136cce7faa42fdb2c...|          2017-05-09 00:00:00|                         null|\n",
      "|6514b8ad8028c9f2c...|          2017-06-07 00:00:00|          2017-05-26 12:55:51|\n",
      "|76c6e866289321a7c...|          2017-03-06 00:00:00|          2017-02-02 14:08:10|\n",
      "|e69bfb5eb88e0ed6a...|          2017-08-23 00:00:00|          2017-08-16 17:14:30|\n",
      "|e6ce16cb79ec1d90b...|          2017-06-07 00:00:00|          2017-05-29 11:18:31|\n",
      "|34513ce0c4fab462a...|          2017-08-08 00:00:00|          2017-07-19 14:04:48|\n",
      "|82566a660a982b15f...|          2018-07-18 00:00:00|          2018-06-19 12:05:52|\n",
      "|5ff96c15d0b717ac6...|          2018-08-08 00:00:00|          2018-07-30 15:52:25|\n",
      "|432aaf21d85167c2c...|          2018-03-21 00:00:00|          2018-03-12 23:36:26|\n",
      "|dcb36b511fcac050b...|          2018-07-04 00:00:00|          2018-06-21 15:34:32|\n",
      "|403b97836b0c04a62...|          2018-02-06 00:00:00|          2018-01-20 01:38:59|\n",
      "|116f0b09343b49556...|          2018-01-29 00:00:00|          2018-01-08 22:36:36|\n",
      "|85ce859fd6dc634de...|          2017-12-11 00:00:00|          2017-11-27 18:28:00|\n",
      "|83018ec114eee8641...|          2017-11-23 00:00:00|          2017-11-08 22:22:00|\n",
      "+--------------------+-----------------------------+-----------------------------+\n",
      "only showing top 20 rows\n",
      "\n"
     ]
    }
   ],
   "source": [
    "orders_date = olist_orders_dataset.select(\"order_id\",\"order_estimated_delivery_date\",\"order_delivered_customer_date\")\n",
    "orders_date.show()"
   ]
  },
  {
   "cell_type": "code",
   "execution_count": 4,
   "id": "65421a47",
   "metadata": {},
   "outputs": [],
   "source": [
    "orders_date = orders_date.withColumn('order_estimated_delivery_date',to_date(unix_timestamp \\\n",
    "            (orders_date.order_estimated_delivery_date, 'yyyy-MM-dd HH:mm:ss').cast('timestamp'))) \\\n",
    "                        .withColumn('order_delivered_customer_date',to_date(unix_timestamp \\\n",
    "            (orders_date.order_delivered_customer_date, 'yyyy-MM-dd HH:mm:ss').cast('timestamp')))"
   ]
  },
  {
   "cell_type": "markdown",
   "id": "fa9702f3",
   "metadata": {},
   "source": [
    "### Number of all orders: 99441"
   ]
  },
  {
   "cell_type": "code",
   "execution_count": 5,
   "id": "f535c5aa",
   "metadata": {},
   "outputs": [
    {
     "data": {
      "text/plain": [
       "99441"
      ]
     },
     "execution_count": 5,
     "metadata": {},
     "output_type": "execute_result"
    }
   ],
   "source": [
    "orders_date.count()"
   ]
  },
  {
   "cell_type": "markdown",
   "id": "2a1a10d2",
   "metadata": {},
   "source": [
    "### Null values in  \"order_delivered_customer_date\" column we treat as not delivered orders"
   ]
  },
  {
   "cell_type": "code",
   "execution_count": 6,
   "id": "b886f2df",
   "metadata": {},
   "outputs": [
    {
     "name": "stdout",
     "output_type": "stream",
     "text": [
      "Null values in column order_id: 0\n",
      "Null values in column order_estimated_delivery_date: 0\n",
      "Null values in column order_delivered_customer_date: 2965\n"
     ]
    }
   ],
   "source": [
    "# Checking missing values\n",
    "print(f\"Null values in column order_id: {orders_date.where(F.col('order_id').isNull()).count()}\")\n",
    "print(f\"Null values in column order_estimated_delivery_date: {orders_date.where(F.col('order_estimated_delivery_date').isNull()).count()}\")\n",
    "print(f\"Null values in column order_delivered_customer_date: {orders_date.where(F.col('order_delivered_customer_date').isNull()).count()}\")"
   ]
  },
  {
   "cell_type": "markdown",
   "id": "044f8d18",
   "metadata": {},
   "source": [
    "### The number of never orders is 2965, which is 3% of all orders"
   ]
  },
  {
   "cell_type": "code",
   "execution_count": 7,
   "id": "6842f148",
   "metadata": {},
   "outputs": [
    {
     "name": "stdout",
     "output_type": "stream",
     "text": [
      "Number of undelivered orders: 2965\n",
      "Percentage of undelivered orders: 2.981667521444877\n"
     ]
    }
   ],
   "source": [
    "print(f\"Number of undelivered orders: {orders_date.where(F.col('order_delivered_customer_date').isNull()).count()}\")\n",
    "print(f\"Percentage of undelivered orders: {orders_date.where(F.col('order_delivered_customer_date').isNull()).count()/orders_date.count()*100}\")"
   ]
  },
  {
   "cell_type": "code",
   "execution_count": 8,
   "id": "66e6bd6c",
   "metadata": {},
   "outputs": [],
   "source": [
    "delayed_orders = orders_date.select(\"order_id\",\"order_estimated_delivery_date\",\"order_delivered_customer_date\") \\\n",
    "            .filter(orders_date.order_estimated_delivery_date < orders_date.order_delivered_customer_date)"
   ]
  },
  {
   "cell_type": "markdown",
   "id": "ac830cfb",
   "metadata": {},
   "source": [
    "### Delayed Orders\n",
    "Delayed orders do not include orders that have not been delivered"
   ]
  },
  {
   "cell_type": "code",
   "execution_count": 9,
   "id": "62dd49a3",
   "metadata": {},
   "outputs": [
    {
     "name": "stdout",
     "output_type": "stream",
     "text": [
      "+--------------------+-----------------------------+-----------------------------+\n",
      "|            order_id|order_estimated_delivery_date|order_delivered_customer_date|\n",
      "+--------------------+-----------------------------+-----------------------------+\n",
      "|203096f03d82e0dff...|                   2017-09-28|                   2017-10-09|\n",
      "|fbf9ac61453ac646c...|                   2018-03-12|                   2018-03-21|\n",
      "|6ea2f835b4556291f...|                   2017-12-21|                   2017-12-28|\n",
      "|66e4624ae69e7dc89...|                   2018-04-02|                   2018-04-03|\n",
      "|a685d016c8a26f71a...|                   2017-03-30|                   2017-04-06|\n",
      "|6a0a8bfbbe700284f...|                   2017-12-11|                   2017-12-28|\n",
      "|a5474c0071dd5d107...|                   2018-08-02|                   2018-08-03|\n",
      "|9d531c565e28c3e0d...|                   2017-12-22|                   2018-01-23|\n",
      "|8fc207e94fa91a764...|                   2017-12-19|                   2018-01-20|\n",
      "|33a3edb84b9df4cb4...|                   2018-03-16|                   2018-03-22|\n",
      "|3f849648ffbabb056...|                   2018-06-06|                   2018-06-07|\n",
      "|f31535f21d145b234...|                   2018-03-05|                   2018-04-23|\n",
      "|fb9b2930f4a30f96c...|                   2017-12-14|                   2017-12-17|\n",
      "|4906eeadde5f70b30...|                   2018-01-03|                   2018-01-09|\n",
      "|16c24987724018f73...|                   2017-06-09|                   2017-06-16|\n",
      "|f11e9516ca2b6091b...|                   2018-03-19|                   2018-03-28|\n",
      "|b60b53ad0bb7dacac...|                   2017-05-18|                   2017-05-23|\n",
      "|da8be3bb62e9bf01e...|                   2017-05-04|                   2017-05-08|\n",
      "|690199d6a2c51ff57...|                   2018-04-11|                   2018-05-14|\n",
      "|7b58fca3faf09217a...|                   2018-03-28|                   2018-04-12|\n",
      "+--------------------+-----------------------------+-----------------------------+\n",
      "only showing top 20 rows\n",
      "\n"
     ]
    }
   ],
   "source": [
    "delayed_orders.show()"
   ]
  },
  {
   "cell_type": "markdown",
   "id": "3e91ee48",
   "metadata": {},
   "source": [
    "### The number of delayed orders is 6535, which is 6.5% of all orders"
   ]
  },
  {
   "cell_type": "code",
   "execution_count": 10,
   "id": "040208c4",
   "metadata": {},
   "outputs": [
    {
     "name": "stdout",
     "output_type": "stream",
     "text": [
      "orders delayed orders: 6535\n",
      "Procent delayed orders: 6.571736004263835\n"
     ]
    }
   ],
   "source": [
    "print(f\"orders delayed orders: {delayed_orders.count()}\")\n",
    "print(f\"Procent delayed orders: {delayed_orders.count()/orders_date.count()*100}\")"
   ]
  },
  {
   "cell_type": "markdown",
   "id": "2b18b71f",
   "metadata": {},
   "source": [
    "### The number of undelivered & delayed orders is 9500, which is 9.5% of all orders"
   ]
  },
  {
   "cell_type": "code",
   "execution_count": 11,
   "id": "00038d2c",
   "metadata": {},
   "outputs": [
    {
     "name": "stdout",
     "output_type": "stream",
     "text": [
      "Number of undelivered & delayed orders: 9500\n",
      "Percent of undelivered & delayed orders: 9.553403525708712\n"
     ]
    }
   ],
   "source": [
    "print(f\"Number of undelivered & delayed orders: {orders_date.where(F.col('order_delivered_customer_date').isNull()).count()+delayed_orders.count()}\")\n",
    "print(f\"Percent of undelivered & delayed orders: {(orders_date.where(F.col('order_delivered_customer_date').isNull()).count()+delayed_orders.count())/orders_date.count()*100}\")"
   ]
  },
  {
   "cell_type": "markdown",
   "id": "952e32e2",
   "metadata": {},
   "source": [
    "### Make a schedule chart for all & delayed orders"
   ]
  },
  {
   "cell_type": "code",
   "execution_count": 12,
   "id": "f2423982",
   "metadata": {},
   "outputs": [],
   "source": [
    "#  preparing directory for plots\n",
    "try:\n",
    "    os.mkdir(\"plots\")\n",
    "except OSError as error:\n",
    "    pass"
   ]
  },
  {
   "cell_type": "markdown",
   "id": "1f0cdf3a",
   "metadata": {},
   "source": [
    "## "
   ]
  },
  {
   "cell_type": "code",
   "execution_count": 13,
   "id": "c5ba0608",
   "metadata": {
    "scrolled": false
   },
   "outputs": [
    {
     "data": {
      "image/png": "[encoded data removed]",
      "text/plain": [
       "<Figure size 432x288 with 1 Axes>"
      ]
     },
     "metadata": {},
     "output_type": "display_data"
    }
   ],
   "source": [
    "labels_ud = \"Delivered & Not Delayed\", \"Undelivered & Delayed\"\n",
    "delayed_orders_count = delayed_orders.count()\n",
    "undelivered_orders_count = orders_date.where(F.col('order_delivered_customer_date').isNull()).count()\n",
    "\n",
    "explode = (0, .15, .3)\n",
    "\n",
    "labels_d = \"Delivered on time\", \"Delivered with delay\", \"Undelivered\"\n",
    "data_d = [\n",
    "    orders_date.count() - (undelivered_orders_count + delayed_orders_count),\n",
    "    delayed_orders_count,\n",
    "    undelivered_orders_count \n",
    "]\n",
    "\n",
    "fig, ax = plt.subplots()\n",
    "ax.pie(data_d, explode=explode, labels=labels_d, autopct=\"%1.1f%%\", shadow=True, startangle=90)\n",
    "ax.axis(\"equal\")\n",
    "\n",
    "plt.title(\"Orders\")\n",
    "plt.savefig(\"plots/task_1_pie_chart.pdf\")\n",
    "\n",
    "plt.show()"
   ]
  },
  {
   "cell_type": "code",
   "execution_count": 14,
   "id": "6dbea99b",
   "metadata": {},
   "outputs": [
    {
     "name": "stderr",
     "output_type": "stream",
     "text": [
      "                                                                                \r"
     ]
    },
    {
     "data": {
      "image/png": "[encoded data removed]",
      "text/plain": [
       "<Figure size 432x288 with 1 Axes>"
      ]
     },
     "metadata": {
      "needs_background": "light"
     },
     "output_type": "display_data"
    }
   ],
   "source": [
    "delayed_orders.createOrReplaceTempView(\"delayed_orders\")\n",
    "delayed_days = spark.sql(\"\"\"\n",
    "    SELECT days_delayed, COUNT(*) as no_orders FROM\n",
    "        (SELECT *, DATEDIFF(order_delivered_customer_date, order_estimated_delivery_date) days_delayed FROM delayed_orders)\n",
    "        GROUP BY days_delayed\n",
    "        ORDER BY days_delayed\n",
    "    ;\n",
    "\"\"\")\n",
    "\n",
    "x = delayed_days.select(\"days_delayed\").rdd.flatMap(lambda _: _).collect()\n",
    "y = delayed_days.select(\"no_orders\").rdd.flatMap(lambda _: _).collect()\n",
    "\n",
    "plt.grid(which=\"both\")\n",
    "plt.bar(x[:50], [100 * i / delayed_orders_count for i in y[:50]])\n",
    "plt.title(\"Distribution of delayed orders\")\n",
    "plt.xlabel(\"number of days delayed\")\n",
    "plt.ylabel(\"percentage of delayed orders [%]\")\n",
    "plt.savefig(\"plots/task_1_distribution_of_delayed_orders.pdf\")\n",
    "plt.show()"
   ]
  },
  {
   "cell_type": "code",
   "execution_count": null,
   "id": "0171f7fc",
   "metadata": {},
   "outputs": [],
   "source": []
  }
 ],
 "metadata": {
  "kernelspec": {
   "display_name": "Python 3 (ipykernel)",
   "language": "python",
   "name": "python3"
  },
  "language_info": {
   "codemirror_mode": {
    "name": "ipython",
    "version": 3
   },
   "file_extension": ".py",
   "mimetype": "text/x-python",
   "name": "python",
   "nbconvert_exporter": "python",
   "pygments_lexer": "ipython3",
   "version": "3.9.7"
  }
 },
 "nbformat": 4,
 "nbformat_minor": 5
}
