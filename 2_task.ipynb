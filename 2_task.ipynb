{
 "cells": [
  {
   "cell_type": "code",
   "execution_count": 1,
   "id": "ef40d8d4",
   "metadata": {},
   "outputs": [
    {
     "name": "stderr",
     "output_type": "stream",
     "text": [
      "WARNING: An illegal reflective access operation has occurred\n",
      "WARNING: Illegal reflective access by org.apache.spark.unsafe.Platform (file:/usr/local/spark-3.1.2-bin-hadoop3.2/jars/spark-unsafe_2.12-3.1.2.jar) to constructor java.nio.DirectByteBuffer(long,int)\n",
      "WARNING: Please consider reporting this to the maintainers of org.apache.spark.unsafe.Platform\n",
      "WARNING: Use --illegal-access=warn to enable warnings of further illegal reflective access operations\n",
      "WARNING: All illegal access operations will be denied in a future release\n",
      "22/08/13 15:31:49 WARN NativeCodeLoader: Unable to load native-hadoop library for your platform... using builtin-java classes where applicable\n",
      "Using Spark's default log4j profile: org/apache/spark/log4j-defaults.properties\n",
      "Setting default log level to \"WARN\".\n",
      "To adjust logging level use sc.setLogLevel(newLevel). For SparkR, use setLogLevel(newLevel).\n",
      "22/08/13 15:31:50 WARN Utils: Service 'SparkUI' could not bind on port 4040. Attempting port 4041.\n",
      "22/08/13 15:31:50 WARN Utils: Service 'SparkUI' could not bind on port 4041. Attempting port 4042.\n",
      "22/08/13 15:31:50 WARN Utils: Service 'SparkUI' could not bind on port 4042. Attempting port 4043.\n"
     ]
    }
   ],
   "source": [
    "from pyspark.sql import SparkSession\n",
    "from pyspark.sql.functions import *\n",
    "from pyspark.sql.types import TimestampType\n",
    "import pyspark.sql.functions as F\n",
    "\n",
    "spark = SparkSession.builder.getOrCreate()"
   ]
  },
  {
   "cell_type": "code",
   "execution_count": 2,
   "id": "b6beb5b1",
   "metadata": {},
   "outputs": [
    {
     "name": "stderr",
     "output_type": "stream",
     "text": [
      "\r",
      "[Stage 3:=============================>                             (2 + 2) / 4]\r",
      "\r",
      "                                                                                \r"
     ]
    }
   ],
   "source": [
    "# Reading csv file\n",
    "olist_products_dataset = spark.read.options(header='True', inferSchema='True', delimiter=',') \\\n",
    "                            .csv(\"data/olist_products_dataset.csv\")\n",
    "olist_order_items_dataset = spark.read.options(header='True', inferSchema='True', delimiter=',') \\\n",
    "                            .csv(\"data/olist_order_items_dataset.csv\")\n"
   ]
  },
  {
   "cell_type": "code",
   "execution_count": 3,
   "id": "3e131915",
   "metadata": {},
   "outputs": [
    {
     "name": "stdout",
     "output_type": "stream",
     "text": [
      "+--------------------+\n",
      "|        product_id_2|\n",
      "+--------------------+\n",
      "|4244733e06e7ecb49...|\n",
      "|e5f2d52b802189ee6...|\n",
      "|c777355d18b72b67a...|\n",
      "|7634da152a4610f15...|\n",
      "|ac6c3623068f30de0...|\n",
      "|ef92defde845ab845...|\n",
      "|8d4f2bb7e93e6710a...|\n",
      "|557d850972a7d6f79...|\n",
      "|310ae3c140ff94b03...|\n",
      "|4535b0e1091c278df...|\n",
      "|d63c1011f49d98b97...|\n",
      "|f177554ea93259a5b...|\n",
      "|99a4788cb24856965...|\n",
      "|368c6c730842d7801...|\n",
      "|368c6c730842d7801...|\n",
      "|8cab8abac59158715...|\n",
      "|3f27ac8e699df3d30...|\n",
      "|4fa33915031a8cde0...|\n",
      "|b50c950aba0dcead2...|\n",
      "|5ed9eaf534f6936b5...|\n",
      "+--------------------+\n",
      "only showing top 20 rows\n",
      "\n"
     ]
    }
   ],
   "source": [
    "order_items = olist_order_items_dataset.select(col(\"product_id\").alias(\"product_id_2\"))\n",
    "order_items.show()"
   ]
  },
  {
   "cell_type": "code",
   "execution_count": 4,
   "id": "c7ede501",
   "metadata": {},
   "outputs": [
    {
     "name": "stdout",
     "output_type": "stream",
     "text": [
      "+--------------------+---------------------+\n",
      "|          product_id|product_category_name|\n",
      "+--------------------+---------------------+\n",
      "|1e9e8ef04dbcff454...|           perfumaria|\n",
      "|3aa071139cb16b67c...|                artes|\n",
      "|96bd76ec8810374ed...|        esporte_lazer|\n",
      "|cef67bcfe19066a93...|                bebes|\n",
      "|9dc1a7de274444849...| utilidades_domest...|\n",
      "|41d3672d4792049fa...| instrumentos_musi...|\n",
      "|732bd381ad09e530f...|           cool_stuff|\n",
      "|2548af3e6e77a690c...|     moveis_decoracao|\n",
      "|37cc742be07708b53...|     eletrodomesticos|\n",
      "|8c92109888e8cdf9d...|           brinquedos|\n",
      "|14aa47b7fe5c25522...|      cama_mesa_banho|\n",
      "|03b63c5fc16691530...|                bebes|\n",
      "|cf55509ea8edaaac1...| instrumentos_musi...|\n",
      "|7bb6f29c2be577161...|     moveis_decoracao|\n",
      "|eb31436580a610f20...| construcao_ferram...|\n",
      "|3bb7f144022e67327...|        esporte_lazer|\n",
      "|6a2fb4dd53d2cdb88...|           perfumaria|\n",
      "|a1b71017a84f92fd8...| informatica_acess...|\n",
      "|a0736b92e52f6cead...|     moveis_decoracao|\n",
      "|f53103a77d9cf245e...|      cama_mesa_banho|\n",
      "+--------------------+---------------------+\n",
      "only showing top 20 rows\n",
      "\n"
     ]
    }
   ],
   "source": [
    "products = olist_products_dataset.select(\"product_id\", \"product_category_name\")\n",
    "products.show()"
   ]
  },
  {
   "cell_type": "code",
   "execution_count": 5,
   "id": "47afe5f1",
   "metadata": {},
   "outputs": [
    {
     "name": "stdout",
     "output_type": "stream",
     "text": [
      "+--------------------+-------------+--------------------+--------------------+-------------------+------+-------------+\n",
      "|            order_id|order_item_id|          product_id|           seller_id|shipping_limit_date| price|freight_value|\n",
      "+--------------------+-------------+--------------------+--------------------+-------------------+------+-------------+\n",
      "|00010242fe8c5a6d1...|            1|4244733e06e7ecb49...|48436dade18ac8b2b...|2017-09-19 09:45:35|  58.9|        13.29|\n",
      "|00018f77f2f0320c5...|            1|e5f2d52b802189ee6...|dd7ddc04e1b6c2c61...|2017-05-03 11:05:13| 239.9|        19.93|\n",
      "|000229ec398224ef6...|            1|c777355d18b72b67a...|5b51032eddd242adc...|2018-01-18 14:48:30| 199.0|        17.87|\n",
      "|00024acbcdf0a6daa...|            1|7634da152a4610f15...|9d7a1d34a50524090...|2018-08-15 10:10:18| 12.99|        12.79|\n",
      "|00042b26cf59d7ce6...|            1|ac6c3623068f30de0...|df560393f3a51e745...|2017-02-13 13:57:51| 199.9|        18.14|\n",
      "|00048cc3ae777c65d...|            1|ef92defde845ab845...|6426d21aca402a131...|2017-05-23 03:55:27|  21.9|        12.69|\n",
      "|00054e8431b9d7675...|            1|8d4f2bb7e93e6710a...|7040e82f899a04d1b...|2017-12-14 12:10:31|  19.9|        11.85|\n",
      "|000576fe39319847c...|            1|557d850972a7d6f79...|5996cddab893a4652...|2018-07-10 12:30:45| 810.0|        70.75|\n",
      "|0005a1a1728c9d785...|            1|310ae3c140ff94b03...|a416b6a846a117243...|2018-03-26 18:31:29|145.95|        11.65|\n",
      "|0005f50442cb953dc...|            1|4535b0e1091c278df...|ba143b05f0110f0dc...|2018-07-06 14:10:56| 53.99|         11.4|\n",
      "|00061f2a7bc09da83...|            1|d63c1011f49d98b97...|cc419e0650a3c5ba7...|2018-03-29 22:28:09| 59.99|         8.88|\n",
      "|00063b381e2406b52...|            1|f177554ea93259a5b...|8602a61d680a10a82...|2018-07-31 17:30:39|  45.0|        12.98|\n",
      "|0006ec9db01a64e59...|            1|99a4788cb24856965...|4a3ca9315b744ce9f...|2018-07-26 17:24:20|  74.0|        23.32|\n",
      "|0008288aa423d2a3f...|            1|368c6c730842d7801...|1f50f920176fa81da...|2018-02-21 02:55:52|  49.9|        13.37|\n",
      "|0008288aa423d2a3f...|            2|368c6c730842d7801...|1f50f920176fa81da...|2018-02-21 02:55:52|  49.9|        13.37|\n",
      "|0009792311464db53...|            1|8cab8abac59158715...|530ec6109d11eaaf8...|2018-08-17 12:15:10|  99.9|        27.65|\n",
      "|0009c9a17f916a706...|            1|3f27ac8e699df3d30...|fcb5ace8bcc92f757...|2018-05-02 09:31:53| 639.0|        11.34|\n",
      "|000aed2e25dbad2f9...|            1|4fa33915031a8cde0...|fe2032dab1a61af87...|2018-05-16 20:57:03| 144.0|         8.77|\n",
      "|000c3e6612759851c...|            1|b50c950aba0dcead2...|218d46b86c1881d02...|2017-08-21 03:33:13|  99.0|        13.71|\n",
      "|000e562887b1f2006...|            1|5ed9eaf534f6936b5...|8cbac7e12637ed9cf...|2018-02-28 12:08:37|  25.0|        16.11|\n",
      "+--------------------+-------------+--------------------+--------------------+-------------------+------+-------------+\n",
      "only showing top 20 rows\n",
      "\n"
     ]
    }
   ],
   "source": [
    "olist_order_items_dataset.show()"
   ]
  },
  {
   "cell_type": "code",
   "execution_count": 6,
   "id": "74e11f27",
   "metadata": {},
   "outputs": [
    {
     "name": "stdout",
     "output_type": "stream",
     "text": [
      "+--------------------+---------------------+\n",
      "|          product_id|product_category_name|\n",
      "+--------------------+---------------------+\n",
      "|4244733e06e7ecb49...|           cool_stuff|\n",
      "|e5f2d52b802189ee6...|             pet_shop|\n",
      "|c777355d18b72b67a...|     moveis_decoracao|\n",
      "|7634da152a4610f15...|           perfumaria|\n",
      "|ac6c3623068f30de0...|   ferramentas_jardim|\n",
      "|ef92defde845ab845...| utilidades_domest...|\n",
      "|8d4f2bb7e93e6710a...|            telefonia|\n",
      "|557d850972a7d6f79...|   ferramentas_jardim|\n",
      "|310ae3c140ff94b03...|         beleza_saude|\n",
      "|4535b0e1091c278df...|      livros_tecnicos|\n",
      "|d63c1011f49d98b97...|         beleza_saude|\n",
      "|f177554ea93259a5b...| fashion_bolsas_e_...|\n",
      "|99a4788cb24856965...|      cama_mesa_banho|\n",
      "|368c6c730842d7801...|   ferramentas_jardim|\n",
      "|368c6c730842d7801...|   ferramentas_jardim|\n",
      "|8cab8abac59158715...|        esporte_lazer|\n",
      "|3f27ac8e699df3d30...|       consoles_games|\n",
      "|4fa33915031a8cde0...|           perfumaria|\n",
      "|b50c950aba0dcead2...|        esporte_lazer|\n",
      "|5ed9eaf534f6936b5...|           cool_stuff|\n",
      "+--------------------+---------------------+\n",
      "only showing top 20 rows\n",
      "\n"
     ]
    }
   ],
   "source": [
    "join_table = order_items.join(products, order_items.product_id_2==products.product_id, \"Inner\")\n",
    "join_table = join_table.select(join_table.columns[-2:])\n",
    "join_table.show()"
   ]
  },
  {
   "cell_type": "code",
   "execution_count": 7,
   "id": "6c62343d",
   "metadata": {},
   "outputs": [
    {
     "data": {
      "text/plain": [
       "112650"
      ]
     },
     "execution_count": 7,
     "metadata": {},
     "output_type": "execute_result"
    }
   ],
   "source": [
    "join_table.count()"
   ]
  },
  {
   "cell_type": "code",
   "execution_count": 8,
   "id": "92c69a1f",
   "metadata": {},
   "outputs": [
    {
     "name": "stdout",
     "output_type": "stream",
     "text": [
      "+--------------------+---------------------+\n",
      "|          product_id|product_category_name|\n",
      "+--------------------+---------------------+\n",
      "|4244733e06e7ecb49...|           cool_stuff|\n",
      "|e5f2d52b802189ee6...|             pet_shop|\n",
      "|c777355d18b72b67a...|     moveis_decoracao|\n",
      "|7634da152a4610f15...|           perfumaria|\n",
      "|ac6c3623068f30de0...|   ferramentas_jardim|\n",
      "|ef92defde845ab845...| utilidades_domest...|\n",
      "|8d4f2bb7e93e6710a...|            telefonia|\n",
      "|557d850972a7d6f79...|   ferramentas_jardim|\n",
      "|310ae3c140ff94b03...|         beleza_saude|\n",
      "|4535b0e1091c278df...|      livros_tecnicos|\n",
      "|d63c1011f49d98b97...|         beleza_saude|\n",
      "|f177554ea93259a5b...| fashion_bolsas_e_...|\n",
      "|99a4788cb24856965...|      cama_mesa_banho|\n",
      "|368c6c730842d7801...|   ferramentas_jardim|\n",
      "|368c6c730842d7801...|   ferramentas_jardim|\n",
      "|8cab8abac59158715...|        esporte_lazer|\n",
      "|3f27ac8e699df3d30...|       consoles_games|\n",
      "|4fa33915031a8cde0...|           perfumaria|\n",
      "|b50c950aba0dcead2...|        esporte_lazer|\n",
      "|5ed9eaf534f6936b5...|           cool_stuff|\n",
      "+--------------------+---------------------+\n",
      "only showing top 20 rows\n",
      "\n"
     ]
    }
   ],
   "source": [
    "join_table.show()"
   ]
  },
  {
   "cell_type": "code",
   "execution_count": 9,
   "id": "9a1c002d",
   "metadata": {},
   "outputs": [],
   "source": [
    "join_table.createOrReplaceTempView(\"join_table\")\n",
    "products.createOrReplaceTempView(\"products\")"
   ]
  },
  {
   "cell_type": "code",
   "execution_count": 10,
   "id": "c55d616b",
   "metadata": {},
   "outputs": [
    {
     "name": "stdout",
     "output_type": "stream",
     "text": [
      "+---------------------+-----------------+\n",
      "|product_category_name|count(product_id)|\n",
      "+---------------------+-----------------+\n",
      "|                  pcs|               30|\n",
      "|                bebes|              919|\n",
      "|                artes|               55|\n",
      "|            cine_foto|               28|\n",
      "|     moveis_decoracao|             2657|\n",
      "|             pc_gamer|                3|\n",
      "| construcao_ferram...|              400|\n",
      "| tablets_impressao...|                9|\n",
      "| fashion_roupa_mas...|               95|\n",
      "|    artigos_de_festas|               26|\n",
      "|     artigos_de_natal|               65|\n",
      "|           la_cuisine|               10|\n",
      "|               flores|               14|\n",
      "|      livros_tecnicos|              123|\n",
      "|                 null|              610|\n",
      "|       telefonia_fixa|              116|\n",
      "| construcao_ferram...|               91|\n",
      "|           cool_stuff|              789|\n",
      "|     eletrodomesticos|              370|\n",
      "|    livros_importados|               31|\n",
      "+---------------------+-----------------+\n",
      "only showing top 20 rows\n",
      "\n"
     ]
    }
   ],
   "source": [
    "df = spark.sql(\"\"\"SELECT product_category_name, COUNT(product_id) \n",
    "                  FROM products\n",
    "                  GROUP BY product_category_name\"\"\")\n",
    "df.show()"
   ]
  },
  {
   "cell_type": "code",
   "execution_count": 12,
   "id": "51157de7",
   "metadata": {},
   "outputs": [
    {
     "name": "stderr",
     "output_type": "stream",
     "text": [
      "\r",
      "[Stage 26:=====================================>               (140 + 10) / 200]\r",
      "\r",
      "[Stage 26:=====================================================>(197 + 3) / 200]\r"
     ]
    },
    {
     "name": "stdout",
     "output_type": "stream",
     "text": [
      "+---------------------+--------------------+------+\n",
      "|product_category_name|          product_id|amount|\n",
      "+---------------------+--------------------+------+\n",
      "|     moveis_decoracao|aca2eb7d00ea1a7b8...|   527|\n",
      "|      cama_mesa_banho|99a4788cb24856965...|   488|\n",
      "|   ferramentas_jardim|422879e10f4668299...|   484|\n",
      "|   ferramentas_jardim|389d119b48cf3043d...|   392|\n",
      "|   ferramentas_jardim|368c6c730842d7801...|   388|\n",
      "|   ferramentas_jardim|53759a2ecddad2bb8...|   373|\n",
      "| informatica_acess...|d1c427060a0f73f6b...|   343|\n",
      "|   relogios_presentes|53b36df67ebb7c415...|   323|\n",
      "|         beleza_saude|154e7e31ebfa09220...|   281|\n",
      "| informatica_acess...|3dd2a17168ec895c7...|   274|\n",
      "|         beleza_saude|2b4609f8948be1887...|   260|\n",
      "|         beleza_saude|7c1bd920dbdf22470...|   231|\n",
      "|   relogios_presentes|a62e25e09e05e6faf...|   226|\n",
      "|                 null|5a848e4ab52fd5445...|   197|\n",
      "|         beleza_saude|bb50f2e236e5eea01...|   195|\n",
      "|   relogios_presentes|e0d64dcfaa3b6db5c...|   194|\n",
      "| utilidades_domest...|42a2c92a0979a949c...|   183|\n",
      "| informatica_acess...|e53e557d5a159f5aa...|   183|\n",
      "|     moveis_decoracao|b532349fe46b38fbc...|   169|\n",
      "|        casa_conforto|35afc973633aaeb6b...|   165|\n",
      "+---------------------+--------------------+------+\n",
      "only showing top 20 rows\n",
      "\n"
     ]
    },
    {
     "name": "stderr",
     "output_type": "stream",
     "text": [
      "\r",
      "                                                                                \r"
     ]
    }
   ],
   "source": [
    "df = spark.sql(\"\"\"SELECT\n",
    "                  product_category_name,\n",
    "                  product_id, \n",
    "                  COUNT(product_id) AS amount\n",
    "                  FROM join_table\n",
    "                  GROUP BY product_category_name, product_id\n",
    "                  ORDER BY amount DESC\n",
    "                  \"\"\")\n",
    "df.show()"
   ]
  },
  {
   "cell_type": "code",
   "execution_count": 13,
   "id": "fa28e83b",
   "metadata": {},
   "outputs": [
    {
     "name": "stderr",
     "output_type": "stream",
     "text": [
      "\r",
      "[Stage 29:=========================>                             (94 + 9) / 200]\r",
      "\r",
      "[Stage 29:===============================================>      (177 + 9) / 200]\r"
     ]
    },
    {
     "name": "stdout",
     "output_type": "stream",
     "text": [
      "+---------------------+-------------+\n",
      "|product_category_name|running_total|\n",
      "+---------------------+-------------+\n",
      "|                  pcs|          203|\n",
      "|                  pcs|          203|\n",
      "|                  pcs|          203|\n",
      "+---------------------+-------------+\n",
      "\n"
     ]
    },
    {
     "name": "stderr",
     "output_type": "stream",
     "text": [
      "\r",
      "                                                                                \r"
     ]
    }
   ],
   "source": [
    "df = spark.sql(\"\"\"SELECT \n",
    "                  product_category_name,\n",
    "                  COUNT(product_id) OVER(PARTITION BY product_category_name ) AS running_total\n",
    "                  FROM join_table\n",
    "                  LIMIT 3\n",
    "                  \"\"\")\n",
    "df.show()"
   ]
  },
  {
   "cell_type": "code",
   "execution_count": 14,
   "id": "4f5baf3d",
   "metadata": {},
   "outputs": [
    {
     "name": "stdout",
     "output_type": "stream",
     "text": [
      "+---------------------+--------------------+---+\n",
      "|product_category_name|          product_id|FIR|\n",
      "+---------------------+--------------------+---+\n",
      "| informatica_acess...|00e4ded51458037ec...|  1|\n",
      "|           perfumaria|03d7ad0ce97624c93...|  4|\n",
      "|           perfumaria|03d7ad0ce97624c93...|  4|\n",
      "|           perfumaria|03d7ad0ce97624c93...|  4|\n",
      "|           perfumaria|03d7ad0ce97624c93...|  4|\n",
      "|      cama_mesa_banho|04008f5a086abe248...|  1|\n",
      "|         beleza_saude|05f0fe07929d35be0...|  5|\n",
      "|         beleza_saude|05f0fe07929d35be0...|  5|\n",
      "|         beleza_saude|05f0fe07929d35be0...|  5|\n",
      "|         beleza_saude|05f0fe07929d35be0...|  5|\n",
      "|         beleza_saude|05f0fe07929d35be0...|  5|\n",
      "|      cama_mesa_banho|06dce482ace017e78...| 10|\n",
      "|      cama_mesa_banho|06dce482ace017e78...| 10|\n",
      "|      cama_mesa_banho|06dce482ace017e78...| 10|\n",
      "|      cama_mesa_banho|06dce482ace017e78...| 10|\n",
      "|      cama_mesa_banho|06dce482ace017e78...| 10|\n",
      "|      cama_mesa_banho|06dce482ace017e78...| 10|\n",
      "|      cama_mesa_banho|06dce482ace017e78...| 10|\n",
      "|      cama_mesa_banho|06dce482ace017e78...| 10|\n",
      "|      cama_mesa_banho|06dce482ace017e78...| 10|\n",
      "+---------------------+--------------------+---+\n",
      "only showing top 20 rows\n",
      "\n"
     ]
    }
   ],
   "source": [
    "df = spark.sql(\"\"\"SELECT \n",
    "                  product_category_name,\n",
    "                  product_id,\n",
    "                  COUNT(product_id) over (partition by product_id) AS FIR\n",
    "                  FROM join_table\n",
    "                  \"\"\")\n",
    "df.show()\n"
   ]
  },
  {
   "cell_type": "code",
   "execution_count": 15,
   "id": "e7379e28",
   "metadata": {},
   "outputs": [],
   "source": [
    "df.createOrReplaceTempView(\"DF\")"
   ]
  },
  {
   "cell_type": "code",
   "execution_count": 16,
   "id": "54bbc322",
   "metadata": {},
   "outputs": [],
   "source": [
    "# WITH added_row_number AS (\n",
    "#   SELECT\n",
    "#     *,\n",
    "#     ROW_NUMBER() OVER(PARTITION BY year ORDER BY result DESC) AS row_number\n",
    "#   FROM exam_results\n",
    "# )\n",
    "# SELECT\n",
    "#   *\n",
    "# FROM added_row_number\n",
    "# WHERE row_number = 1;"
   ]
  },
  {
   "cell_type": "code",
   "execution_count": 17,
   "id": "044aedde",
   "metadata": {},
   "outputs": [
    {
     "name": "stderr",
     "output_type": "stream",
     "text": [
      "                                                                                \r"
     ]
    },
    {
     "name": "stdout",
     "output_type": "stream",
     "text": [
      "+---------------------+--------------------+---+----------+\n",
      "|product_category_name|          product_id|FIR|row_number|\n",
      "+---------------------+--------------------+---+----------+\n",
      "|                  pcs|d6160fb7873f18409...| 35|         1|\n",
      "|                  pcs|d6160fb7873f18409...| 35|         2|\n",
      "|                  pcs|d6160fb7873f18409...| 35|         3|\n",
      "|                bebes|cac9e5692471a0700...| 89|         1|\n",
      "|                bebes|cac9e5692471a0700...| 89|         2|\n",
      "|                bebes|cac9e5692471a0700...| 89|         3|\n",
      "|                artes|4fe644d766c7566db...|107|         1|\n",
      "|                artes|4fe644d766c7566db...|107|         2|\n",
      "|                artes|4fe644d766c7566db...|107|         3|\n",
      "|            cine_foto|e988092a8afe5d939...| 12|         1|\n",
      "|            cine_foto|e988092a8afe5d939...| 12|         2|\n",
      "|            cine_foto|e988092a8afe5d939...| 12|         3|\n",
      "|     moveis_decoracao|aca2eb7d00ea1a7b8...|527|         1|\n",
      "|     moveis_decoracao|aca2eb7d00ea1a7b8...|527|         2|\n",
      "|     moveis_decoracao|aca2eb7d00ea1a7b8...|527|         3|\n",
      "|             pc_gamer|0105b5323d24fc655...|  5|         1|\n",
      "|             pc_gamer|0105b5323d24fc655...|  5|         2|\n",
      "|             pc_gamer|0105b5323d24fc655...|  5|         3|\n",
      "| construcao_ferram...|7564c1759c04fc0a3...| 44|         1|\n",
      "| construcao_ferram...|7564c1759c04fc0a3...| 44|         2|\n",
      "| construcao_ferram...|7564c1759c04fc0a3...| 44|         3|\n",
      "| tablets_impressao...|6bbe55cf8f85c87b6...| 33|         1|\n",
      "| tablets_impressao...|6bbe55cf8f85c87b6...| 33|         2|\n",
      "| tablets_impressao...|6bbe55cf8f85c87b6...| 33|         3|\n",
      "|    artigos_de_festas|4a7056788ce9287c7...|  8|         1|\n",
      "|    artigos_de_festas|4a7056788ce9287c7...|  8|         2|\n",
      "|    artigos_de_festas|4a7056788ce9287c7...|  8|         3|\n",
      "| fashion_roupa_mas...|e336c656869480e20...| 13|         1|\n",
      "| fashion_roupa_mas...|e336c656869480e20...| 13|         2|\n",
      "| fashion_roupa_mas...|e336c656869480e20...| 13|         3|\n",
      "|     artigos_de_natal|40e8b425d1a26e2d9...| 22|         1|\n",
      "|     artigos_de_natal|40e8b425d1a26e2d9...| 22|         2|\n",
      "|     artigos_de_natal|40e8b425d1a26e2d9...| 22|         3|\n",
      "|           la_cuisine|33900d427fa4bd3f5...|  3|         1|\n",
      "|           la_cuisine|33900d427fa4bd3f5...|  3|         2|\n",
      "|           la_cuisine|33900d427fa4bd3f5...|  3|         3|\n",
      "|               flores|7620a27f1d6747511...| 10|         1|\n",
      "|               flores|7620a27f1d6747511...| 10|         2|\n",
      "|               flores|7620a27f1d6747511...| 10|         3|\n",
      "|      livros_tecnicos|173e9fe34bfe97f3a...| 43|         1|\n",
      "|      livros_tecnicos|173e9fe34bfe97f3a...| 43|         2|\n",
      "|      livros_tecnicos|173e9fe34bfe97f3a...| 43|         3|\n",
      "|                 null|5a848e4ab52fd5445...|197|         1|\n",
      "|                 null|5a848e4ab52fd5445...|197|         2|\n",
      "|                 null|5a848e4ab52fd5445...|197|         3|\n",
      "|       telefonia_fixa|913580fde3e72c3b3...| 18|         1|\n",
      "|       telefonia_fixa|913580fde3e72c3b3...| 18|         2|\n",
      "|       telefonia_fixa|913580fde3e72c3b3...| 18|         3|\n",
      "| construcao_ferram...|82c51c3938503a4dd...| 24|         1|\n",
      "| construcao_ferram...|82c51c3938503a4dd...| 24|         2|\n",
      "+---------------------+--------------------+---+----------+\n",
      "only showing top 50 rows\n",
      "\n"
     ]
    }
   ],
   "source": [
    "spark.sql(\"\"\"WITH added_row_number AS (\n",
    "                        SELECT\n",
    "                            *,\n",
    "                            ROW_NUMBER() OVER(PARTITION BY product_category_name ORDER BY FIR DESC) AS row_number\n",
    "                          FROM DF\n",
    "                        )\n",
    "                        SELECT\n",
    "                          *\n",
    "                        FROM added_row_number\n",
    "                        WHERE row_number < 4;\n",
    "                  \"\"\").show(50)\n"
   ]
  },
  {
   "cell_type": "code",
   "execution_count": null,
   "id": "28a1f76e",
   "metadata": {},
   "outputs": [],
   "source": []
  }
 ],
 "metadata": {
  "kernelspec": {
   "display_name": "Python 3 (ipykernel)",
   "language": "python",
   "name": "python3"
  },
  "language_info": {
   "codemirror_mode": {
    "name": "ipython",
    "version": 3
   },
   "file_extension": ".py",
   "mimetype": "text/x-python",
   "name": "python",
   "nbconvert_exporter": "python",
   "pygments_lexer": "ipython3",
   "version": "3.9.7"
  }
 },
 "nbformat": 4,
 "nbformat_minor": 5
}
