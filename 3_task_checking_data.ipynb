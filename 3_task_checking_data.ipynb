{
 "cells": [
  {
   "cell_type": "code",
   "execution_count": 116,
   "id": "0f4cafa5",
   "metadata": {},
   "outputs": [],
   "source": [
    "from pyspark.sql import SparkSession\n",
    "from pyspark.sql.types import TimestampType\n",
    "import pyspark.sql.functions as f\n",
    "from pyspark.sql.window import Window\n",
    "\n",
    "spark = SparkSession.builder.getOrCreate()"
   ]
  },
  {
   "cell_type": "code",
   "execution_count": 137,
   "id": "39668f4b",
   "metadata": {},
   "outputs": [],
   "source": [
    "\n",
    "# 4\n",
    "olist_order_payments_dataset = spark.read.options(header='True', inferSchema='True', delimiter=',') \\\n",
    "                            .csv(\"data/olist_order_payments_dataset.csv\")\n",
    "# 6\n",
    "olist_orders_dataset = spark.read.options(header='True', inferSchema='True', delimiter=',') \\\n",
    "                            .csv(\"data/olist_orders_dataset.csv\")\n",
    "# 1\n",
    "olist_customers_dataset = spark.read.options(header='True', inferSchema='True', delimiter=',')\\\n",
    "                               .csv('data/olist_customers_dataset.csv')"
   ]
  },
  {
   "cell_type": "code",
   "execution_count": 3,
   "id": "ec51417b",
   "metadata": {},
   "outputs": [
    {
     "name": "stdout",
     "output_type": "stream",
     "text": [
      "+--------------------+--------------------+------------------------+--------------------+--------------+\n",
      "|         customer_id|  customer_unique_id|customer_zip_code_prefix|       customer_city|customer_state|\n",
      "+--------------------+--------------------+------------------------+--------------------+--------------+\n",
      "|06b8999e2fba1a1fb...|861eff4711a542e4b...|                   14409|              franca|            SP|\n",
      "|18955e83d337fd6b2...|290c77bc529b7ac93...|                    9790|sao bernardo do c...|            SP|\n",
      "|4e7b3e00288586ebd...|060e732b5b29e8181...|                    1151|           sao paulo|            SP|\n",
      "|b2b6027bc5c5109e5...|259dac757896d24d7...|                    8775|     mogi das cruzes|            SP|\n",
      "|4f2d8ab171c80ec83...|345ecd01c38d18a90...|                   13056|            campinas|            SP|\n",
      "|879864dab9bc30475...|4c93744516667ad3b...|                   89254|      jaragua do sul|            SC|\n",
      "|fd826e7cf63160e53...|addec96d2e059c80c...|                    4534|           sao paulo|            SP|\n",
      "|5e274e7a0c3809e14...|57b2a98a409812fe9...|                   35182|             timoteo|            MG|\n",
      "|5adf08e34b2e99398...|1175e95fb47ddff9d...|                   81560|            curitiba|            PR|\n",
      "|4b7139f34592b3a31...|9afe194fb833f79e3...|                   30575|      belo horizonte|            MG|\n",
      "|9fb35e4ed6f0a14a4...|2a7745e1ed516b289...|                   39400|       montes claros|            MG|\n",
      "|5aa9e4fdd4dfd2095...|2a46fb94aef5cbeeb...|                   20231|      rio de janeiro|            RJ|\n",
      "|b2d1536598b73a9ab...|918dc87cd72cd9f6e...|                   18682|    lencois paulista|            SP|\n",
      "|eabebad39a88bb6f5...|295c05e81917928d7...|                    5704|           sao paulo|            SP|\n",
      "|1f1c7bf1c9b041b29...|3151a81801c838636...|                   95110|       caxias do sul|            RS|\n",
      "|206f3129c0e4d7d0b...|21f748a16f4e1688a...|                   13412|          piracicaba|            SP|\n",
      "|a7c125a0a07b75146...|5c2991dbd08bbf3cf...|                   22750|      rio de janeiro|            RJ|\n",
      "|c5c61596a3b6bd0ce...|b6e99561fe6f34a55...|                    7124|           guarulhos|            SP|\n",
      "|9b8ce803689b3562d...|7f3a72e8f988c6e73...|                    5416|           sao paulo|            SP|\n",
      "|49d0ea0986edde72d...|3e6fd6b2f0d499456...|                   68485|              pacaja|            PA|\n",
      "+--------------------+--------------------+------------------------+--------------------+--------------+\n",
      "only showing top 20 rows\n",
      "\n"
     ]
    }
   ],
   "source": [
    "olist_customers_dataset.show()\n"
   ]
  },
  {
   "cell_type": "code",
   "execution_count": 4,
   "id": "ad00cd26",
   "metadata": {},
   "outputs": [
    {
     "name": "stderr",
     "output_type": "stream",
     "text": [
      "\r",
      "[Stage 8:=======================================>              (147 + 11) / 200]\r",
      "\r",
      "                                                                                \r"
     ]
    },
    {
     "name": "stdout",
     "output_type": "stream",
     "text": [
      "Distinct values in column customer_id: 99441\n",
      "Null values in column customer_id: 0\n"
     ]
    }
   ],
   "source": [
    "print(f\"Distinct values in column customer_id: {olist_customers_dataset.select('customer_id').distinct().count()}\")\n",
    "print(f\"Null values in column customer_id: {olist_customers_dataset.where(f.col('customer_id').isNull()).count()}\")\n"
   ]
  },
  {
   "cell_type": "code",
   "execution_count": 5,
   "id": "5cd83c60",
   "metadata": {},
   "outputs": [
    {
     "name": "stderr",
     "output_type": "stream",
     "text": [
      "\r",
      "[Stage 13:======================================================(200 + 0) / 200]\r",
      "\r",
      "                                                                                \r"
     ]
    },
    {
     "name": "stdout",
     "output_type": "stream",
     "text": [
      "Distinct values in column customer_id: 96096\n",
      "Null values in column customer_id: 0\n"
     ]
    }
   ],
   "source": [
    "print(f\"Distinct values in column customer_id: {olist_customers_dataset.select('customer_unique_id').distinct().count()}\")\n",
    "print(f\"Null values in column customer_id: {olist_customers_dataset.where(f.col('customer_unique_id').isNull()).count()}\")"
   ]
  },
  {
   "cell_type": "code",
   "execution_count": null,
   "id": "4d4027d1",
   "metadata": {},
   "outputs": [],
   "source": []
  },
  {
   "cell_type": "code",
   "execution_count": 6,
   "id": "16bb8969",
   "metadata": {},
   "outputs": [
    {
     "name": "stdout",
     "output_type": "stream",
     "text": [
      "+--------------------------------+------------------------+-------------------+--------------+-----+\n",
      "|customer_unique_id              |customer_zip_code_prefix|customer_city      |customer_state|count|\n",
      "+--------------------------------+------------------------+-------------------+--------------+-----+\n",
      "|44bd7571a7dad968306f7776bd5a5745|7500                    |santa isabel       |SP            |2    |\n",
      "|ceb767afcf00ef4fedae42343064aa3d|5171                    |sao paulo          |SP            |2    |\n",
      "|76c9a12722537319e44c31e70b7815c3|13960                   |socorro            |SP            |2    |\n",
      "|e5b6fb6c5e7e4adc25a5e400c0104508|88070                   |florianopolis      |SC            |2    |\n",
      "|93eeb8745a219d35b7e32d796528b681|24030                   |niteroi            |RJ            |2    |\n",
      "|af842a6ed9f77511c9bf46922a29ecb5|13140                   |paulinia           |SP            |2    |\n",
      "|addc1082e059523e5ef2e7486d1d8905|3456                    |sao paulo          |SP            |2    |\n",
      "|96701d73665eab8fc6fecb9863266efe|3040                    |sao paulo          |SP            |2    |\n",
      "|ea09b32bf96ba057088e140c6bec60da|4911                    |sao paulo          |SP            |2    |\n",
      "|07df27b714016cb827c99ec2ecd5ebfb|5540                    |sao paulo          |SP            |2    |\n",
      "|acc4424c209233de519e034152f30304|23070                   |rio de janeiro     |RJ            |2    |\n",
      "|d66f438b3fcdcf22e7224aaeaf525443|3132                    |sao paulo          |SP            |2    |\n",
      "|c2e9a50bcf76b5783bc96f906f95bceb|35367                   |matipo             |MG            |2    |\n",
      "|12328d63390726821fdcd8e8b77f10b5|47690                   |coribe             |BA            |2    |\n",
      "|683459cab0129375a071efb00da7c191|13400                   |piracicaba         |SP            |2    |\n",
      "|5dbba6c01268a8ad43f79157bf4454a0|69900                   |rio branco         |AC            |2    |\n",
      "|1a24445f0e6006e4336ecba4ba576e4b|21321                   |rio de janeiro     |RJ            |2    |\n",
      "|d60483078c0c81748581f80d355bbcba|7140                    |guarulhos          |SP            |2    |\n",
      "|ab744045d2445f5bae53b57a4b99bfbf|9240                    |santo andre        |SP            |3    |\n",
      "|d7a86208b8dd2e697ddf825c386a0402|12246                   |sao jose dos campos|SP            |2    |\n",
      "+--------------------------------+------------------------+-------------------+--------------+-----+\n",
      "only showing top 20 rows\n",
      "\n"
     ]
    },
    {
     "name": "stderr",
     "output_type": "stream",
     "text": [
      "\r",
      "[Stage 17:===================>                                      (1 + 2) / 3]\r",
      "\r",
      "                                                                                \r"
     ]
    }
   ],
   "source": [
    "olist_customers_dataset.groupBy(\"customer_unique_id\",\"customer_zip_code_prefix\", \"customer_city\", \"customer_state\").count().filter(\"count > 1\").show(truncate=False)"
   ]
  },
  {
   "cell_type": "code",
   "execution_count": 7,
   "id": "b014ed1e",
   "metadata": {},
   "outputs": [
    {
     "name": "stdout",
     "output_type": "stream",
     "text": [
      "+--------------------------------+--------------------------------+------------------------+-------------+--------------+\n",
      "|customer_id                     |customer_unique_id              |customer_zip_code_prefix|customer_city|customer_state|\n",
      "+--------------------------------+--------------------------------+------------------------+-------------+--------------+\n",
      "|0598384cf66a6bd49ac0c725af1c74e7|ab744045d2445f5bae53b57a4b99bfbf|9240                    |santo andre  |SP            |\n",
      "|6ca87302fa8a0163488bce8e49f9996c|ab744045d2445f5bae53b57a4b99bfbf|9240                    |santo andre  |SP            |\n",
      "|9e80bf15286ac4efa8833654940b0e1f|ab744045d2445f5bae53b57a4b99bfbf|9240                    |santo andre  |SP            |\n",
      "+--------------------------------+--------------------------------+------------------------+-------------+--------------+\n",
      "\n"
     ]
    }
   ],
   "source": [
    "olist_customers_dataset.filter(\"customer_unique_id == 'ab744045d2445f5bae53b57a4b99bfbf'\").show(truncate=False)"
   ]
  },
  {
   "cell_type": "code",
   "execution_count": 8,
   "id": "b8edced2",
   "metadata": {},
   "outputs": [
    {
     "name": "stdout",
     "output_type": "stream",
     "text": [
      "+--------------------------------+--------------------------------+------------------------+-------------------+--------------+\n",
      "|customer_id                     |customer_unique_id              |customer_zip_code_prefix|customer_city      |customer_state|\n",
      "+--------------------------------+--------------------------------+------------------------+-------------------+--------------+\n",
      "|e2d7302d9765c89609899067c37f4722|d7a86208b8dd2e697ddf825c386a0402|12246                   |sao jose dos campos|SP            |\n",
      "|f976a6aa7c97f6713c9b39e5bd74e04d|d7a86208b8dd2e697ddf825c386a0402|12246                   |sao jose dos campos|SP            |\n",
      "+--------------------------------+--------------------------------+------------------------+-------------------+--------------+\n",
      "\n"
     ]
    }
   ],
   "source": [
    "olist_customers_dataset.filter(\"customer_unique_id == 'd7a86208b8dd2e697ddf825c386a0402'\").show(truncate=False)"
   ]
  },
  {
   "cell_type": "code",
   "execution_count": 9,
   "id": "485266d4",
   "metadata": {},
   "outputs": [
    {
     "name": "stdout",
     "output_type": "stream",
     "text": [
      "+--------------------------------+--------------------------------+------------------------+-------------+--------------+\n",
      "|customer_id                     |customer_unique_id              |customer_zip_code_prefix|customer_city|customer_state|\n",
      "+--------------------------------+--------------------------------+------------------------+-------------+--------------+\n",
      "|210b65c1eb5a1df0da71126a258cfdc3|93eeb8745a219d35b7e32d796528b681|24030                   |niteroi      |RJ            |\n",
      "|7f1a08e2635252e5e256726471ef63ad|93eeb8745a219d35b7e32d796528b681|24030                   |niteroi      |RJ            |\n",
      "+--------------------------------+--------------------------------+------------------------+-------------+--------------+\n",
      "\n"
     ]
    }
   ],
   "source": [
    "olist_customers_dataset.filter(\"customer_unique_id == '93eeb8745a219d35b7e32d796528b681'\").show(truncate=False)"
   ]
  },
  {
   "cell_type": "code",
   "execution_count": 10,
   "id": "c66ffb55",
   "metadata": {},
   "outputs": [
    {
     "name": "stdout",
     "output_type": "stream",
     "text": [
      "+--------------------------------+--------------------------------+------------------------+-------------+--------------+\n",
      "|customer_id                     |customer_unique_id              |customer_zip_code_prefix|customer_city|customer_state|\n",
      "+--------------------------------+--------------------------------+------------------------+-------------+--------------+\n",
      "|3cd215d1f5e1965177ecbce1f46dbdad|af842a6ed9f77511c9bf46922a29ecb5|13140                   |paulinia     |SP            |\n",
      "|1c901dd8f6bccda64fe8582fe3dd18a8|af842a6ed9f77511c9bf46922a29ecb5|13140                   |paulinia     |SP            |\n",
      "+--------------------------------+--------------------------------+------------------------+-------------+--------------+\n",
      "\n"
     ]
    }
   ],
   "source": [
    "olist_customers_dataset.filter(\"customer_unique_id == 'af842a6ed9f77511c9bf46922a29ecb5'\").show(truncate=False)"
   ]
  },
  {
   "cell_type": "code",
   "execution_count": 11,
   "id": "ffb626a4",
   "metadata": {},
   "outputs": [
    {
     "name": "stderr",
     "output_type": "stream",
     "text": [
      "                                                                                \r"
     ]
    }
   ],
   "source": [
    "olist_geolocation_dataset = spark.read.options(header='True', inferSchema='True', delimiter=',') \\\n",
    "                            .csv(\"data/olist_geolocation_dataset.csv\")\n"
   ]
  },
  {
   "cell_type": "code",
   "execution_count": 12,
   "id": "51b4adc9",
   "metadata": {},
   "outputs": [
    {
     "name": "stdout",
     "output_type": "stream",
     "text": [
      "+---------------------------+-------------------+-------------------+----------------+-----------------+\n",
      "|geolocation_zip_code_prefix|    geolocation_lat|    geolocation_lng|geolocation_city|geolocation_state|\n",
      "+---------------------------+-------------------+-------------------+----------------+-----------------+\n",
      "|                       1037| -23.54562128115268| -46.63929204800168|       sao paulo|               SP|\n",
      "|                       1046|-23.546081127035535| -46.64482029837157|       sao paulo|               SP|\n",
      "|                       1046| -23.54612896641469| -46.64295148361138|       sao paulo|               SP|\n",
      "|                       1041|  -23.5443921648681| -46.63949930627844|       sao paulo|               SP|\n",
      "|                       1035|-23.541577961711493| -46.64160722329613|       sao paulo|               SP|\n",
      "|                       1012|-23.547762303364266| -46.63536053788448|       são paulo|               SP|\n",
      "|                       1047|-23.546273112412678| -46.64122516971552|       sao paulo|               SP|\n",
      "|                       1013|-23.546923208436723|  -46.6342636964915|       sao paulo|               SP|\n",
      "|                       1029|-23.543769055769133| -46.63427784085132|       sao paulo|               SP|\n",
      "|                       1011|-23.547639550320632| -46.63603162315495|       sao paulo|               SP|\n",
      "|                       1013|-23.547325128224376| -46.63418378613892|       sao paulo|               SP|\n",
      "|                       1032| -23.53841810407414|-46.634778375266734|       sao paulo|               SP|\n",
      "|                       1014|-23.546435343326205| -46.63383023397196|       sao paulo|               SP|\n",
      "|                       1012|-23.548945985189434| -46.63467113292871|       sao paulo|               SP|\n",
      "|                       1037|-23.545187340816042| -46.63785524104107|       são paulo|               SP|\n",
      "|                       1046|-23.546081127035535| -46.64482029837157|       sao paulo|               SP|\n",
      "|                       1039|-23.541883009983316| -46.63991946670314|       sao paulo|               SP|\n",
      "|                       1024|-23.541389521053937|-46.629899087812184|       são paulo|               SP|\n",
      "|                       1009| -23.54693540437998| -46.63658792659698|       sao paulo|               SP|\n",
      "|                       1046|-23.545884279214015|-46.643163191240035|       sao paulo|               SP|\n",
      "+---------------------------+-------------------+-------------------+----------------+-----------------+\n",
      "only showing top 20 rows\n",
      "\n"
     ]
    }
   ],
   "source": [
    "olist_geolocation_dataset.show()"
   ]
  },
  {
   "cell_type": "code",
   "execution_count": 13,
   "id": "7fad0310",
   "metadata": {},
   "outputs": [
    {
     "name": "stderr",
     "output_type": "stream",
     "text": [
      "[Stage 32:=====================>                                    (3 + 5) / 8]\r"
     ]
    },
    {
     "name": "stdout",
     "output_type": "stream",
     "text": [
      "+---------------------------+-------------------+-------------------+----------------+-----------------+-----+\n",
      "|geolocation_zip_code_prefix|geolocation_lat    |geolocation_lng    |geolocation_city|geolocation_state|count|\n",
      "+---------------------------+-------------------+-------------------+----------------+-----------------+-----+\n",
      "|1026                       |-23.53925652899767 |-46.633440525535235|sao paulo       |SP               |2    |\n",
      "|1106                       |-23.531062064948905|-46.629505278925556|sao paulo       |SP               |2    |\n",
      "|1241                       |-23.545792634196992|-46.6567234730798  |sao paulo       |SP               |3    |\n",
      "|1226                       |-23.538190850683794|-46.651323227306854|são paulo       |SP               |4    |\n",
      "|1223                       |-23.543735510964265|-46.65415427699233 |sao paulo       |SP               |2    |\n",
      "|1303                       |-23.551504721622702|-46.64945164585375 |sao paulo       |SP               |3    |\n",
      "|1306                       |-23.554051920624367|-46.6487385976975  |são paulo       |SP               |4    |\n",
      "|1306                       |-23.554051920624367|-46.6487385976975  |sao paulo       |SP               |6    |\n",
      "|1332                       |-23.560667077990644|-46.65212849125743 |sao paulo       |SP               |2    |\n",
      "|1404                       |-23.56708790175425 |-46.654359318339246|sao paulo       |SP               |7    |\n",
      "|1433                       |-23.577661519562607|-46.67074707591319 |sao paulo       |SP               |2    |\n",
      "|1441                       |-23.577709985861734|-46.69330789771487 |sao paulo       |SP               |4    |\n",
      "|1415                       |-23.55150606272721 |-46.654135569940564|sao paulo       |SP               |2    |\n",
      "|1532                       |-23.57418642936694 |-46.6357481924808  |são paulo       |SP               |3    |\n",
      "|2013                       |-23.501039877603997|-46.637789893011686|sao paulo       |SP               |2    |\n",
      "|2022                       |-23.503235899124   |-46.63832674543861 |sao paulo       |SP               |3    |\n",
      "|2077                       |-23.501848610046736|-46.59854287330482 |sao paulo       |SP               |4    |\n",
      "|2180                       |-23.51796174271452 |-46.56586340175424 |sao paulo       |SP               |3    |\n",
      "|2168                       |-23.52218624279628 |-46.57970414962962 |sao paulo       |SP               |2    |\n",
      "|2121                       |-23.509798868168936|-46.592326749379616|sao paulo       |SP               |2    |\n",
      "+---------------------------+-------------------+-------------------+----------------+-----------------+-----+\n",
      "only showing top 20 rows\n",
      "\n"
     ]
    },
    {
     "name": "stderr",
     "output_type": "stream",
     "text": [
      "\r",
      "                                                                                \r"
     ]
    }
   ],
   "source": [
    "olist_geolocation_dataset.groupBy(\"geolocation_zip_code_prefix\",\"geolocation_lat\",\"geolocation_lng\", \"geolocation_city\", \"geolocation_state\").count().filter(\"count > 1\").show(truncate=False)"
   ]
  },
  {
   "cell_type": "code",
   "execution_count": 14,
   "id": "cb3264ff",
   "metadata": {},
   "outputs": [
    {
     "name": "stdout",
     "output_type": "stream",
     "text": [
      "+---------------------------+-------------------+-------------------+----------------+-----------------+\n",
      "|geolocation_zip_code_prefix|geolocation_lat    |geolocation_lng    |geolocation_city|geolocation_state|\n",
      "+---------------------------+-------------------+-------------------+----------------+-----------------+\n",
      "|24030                      |-22.883862923138043|-43.11562368659535 |niterói         |RJ               |\n",
      "|24030                      |-22.882993846173793|-43.12165872133218 |niteroi         |RJ               |\n",
      "|24030                      |-22.890436234928647|-43.12244643342076 |niteroi         |RJ               |\n",
      "|24030                      |-22.887588762132903|-43.11781399056493 |niteroi         |RJ               |\n",
      "|24030                      |-22.892535283368957|-43.113701585175356|niteroi         |RJ               |\n",
      "|24030                      |-22.884583788747086|-43.121444329332505|niterói         |RJ               |\n",
      "|24030                      |-22.885338477347375|-43.11521808185754 |niteroi         |RJ               |\n",
      "|24030                      |-22.89680079072655 |-43.12273300155787 |niteroi         |RJ               |\n",
      "|24030                      |-22.885087600323228|-43.12293184194123 |niteroi         |RJ               |\n",
      "|24030                      |-22.889483634456788|-43.11828498182236 |niteroi         |RJ               |\n",
      "|24030                      |-22.896421545117146|-43.11231576552474 |niteroi         |RJ               |\n",
      "|24030                      |-22.889726929686983|-43.121221106449966|niteroi         |RJ               |\n",
      "|24030                      |-22.890725860529923|-43.11406538805429 |niteroi         |RJ               |\n",
      "|24030                      |-22.881300299954525|-43.12211759998485 |niteroi         |RJ               |\n",
      "|24030                      |-22.8842989000808  |-43.12335302065914 |niteroi         |RJ               |\n",
      "|24030                      |-22.886053983899835|-43.12220199512392 |niteroi         |RJ               |\n",
      "|24030                      |-22.881300299954525|-43.12211759998485 |niteroi         |RJ               |\n",
      "|24030                      |-22.889328846781755|-43.11682096333334 |niteroi         |RJ               |\n",
      "|24030                      |-22.89256538412488 |-43.119922949910496|niterói         |RJ               |\n",
      "|24030                      |-22.889685380652125|-43.11938335843864 |niteroi         |RJ               |\n",
      "+---------------------------+-------------------+-------------------+----------------+-----------------+\n",
      "only showing top 20 rows\n",
      "\n"
     ]
    }
   ],
   "source": [
    "olist_geolocation_dataset.filter(\"geolocation_zip_code_prefix == '24030'\").show(truncate=False)"
   ]
  },
  {
   "cell_type": "code",
   "execution_count": 15,
   "id": "d5878a4b",
   "metadata": {},
   "outputs": [
    {
     "name": "stdout",
     "output_type": "stream",
     "text": [
      "+--------------------------------+--------------------------------+------------------------+-------------+--------------+\n",
      "|customer_id                     |customer_unique_id              |customer_zip_code_prefix|customer_city|customer_state|\n",
      "+--------------------------------+--------------------------------+------------------------+-------------+--------------+\n",
      "|da89768d5e47c76c1b3f2694e6c8f6a9|3bfe238d63378a92a404dc5c8ca31944|24030                   |niteroi      |RJ            |\n",
      "|71fdbaa760e25ef2449d79d1c4264021|776469358dc5cbca9e8987fa110d804a|24030                   |niteroi      |RJ            |\n",
      "|315d30072434c1feda91ba8676b54a25|22eecffbc2e4e56747eb329d96051962|24030                   |niteroi      |RJ            |\n",
      "|c1d3f90ae6566b0d6e0673d6a2de44d0|6856178ce177496369e3a83fd143e621|24030                   |niteroi      |RJ            |\n",
      "|8e6e118324e9b1a48fb079c5eee2d6ff|35c75f00917e33d1db28551ee906324e|24030                   |niteroi      |RJ            |\n",
      "|7f16d43cea70ede77ed426833543f3d6|6d4cbfa39985224e48a1bce59f5582e8|24030                   |niteroi      |RJ            |\n",
      "|210b65c1eb5a1df0da71126a258cfdc3|93eeb8745a219d35b7e32d796528b681|24030                   |niteroi      |RJ            |\n",
      "|a85f4461b4976515bf01ad76776638f9|a53b3da0cf3e158e78cad26c27a06d19|24030                   |niteroi      |RJ            |\n",
      "|393aae05549738ac7aaf9eea48768622|ed61830f49acb8f6926d5bfad923fc57|24030                   |niteroi      |RJ            |\n",
      "|5e57094d1ada2e661c8181b09765e0b5|5827a5de2baaea8fc423b608e06e1fb9|24030                   |niteroi      |RJ            |\n",
      "|941d03f0883fa067d8897ef31b501488|a53b3da0cf3e158e78cad26c27a06d19|24030                   |niteroi      |RJ            |\n",
      "|d1e9170a646370074dda424098fe10eb|95e7a0dd1929f9eb1be58075c99ac31e|24030                   |niteroi      |RJ            |\n",
      "|9ea4c5abbde4a7a943a9fb80a85176c3|0a8247e80253bcc2df41d9e770e07b67|24030                   |niteroi      |RJ            |\n",
      "|8d5de156173d208b9016b71852a670c3|d7b96a32d30b16c6e8c5af7087648ef0|24030                   |niteroi      |RJ            |\n",
      "|f7053eddb66314ab05cf2f344a75d04a|b31aa93dac6498f90336874e4d17f3d6|24030                   |niteroi      |RJ            |\n",
      "|6285985007f6fe44b21f65e3d0f5ec97|3c318225b706dec78fe46660529688fe|24030                   |niteroi      |RJ            |\n",
      "|9184be9401fc9b2bf61cf71bc64e8a2e|418b52303f8ba25bdf11d39ae6512ecf|24030                   |niteroi      |RJ            |\n",
      "|7f1a08e2635252e5e256726471ef63ad|93eeb8745a219d35b7e32d796528b681|24030                   |niteroi      |RJ            |\n",
      "|e34415cb97f778cce5acc0023594bb94|0fba92a4fd7e281bcd5c8d5f0cdb5f91|24030                   |niteroi      |RJ            |\n",
      "|06a2924116558070913fd36d2b01039c|d8b149991a6cff2088d31b0c3c419670|24030                   |niteroi      |RJ            |\n",
      "+--------------------------------+--------------------------------+------------------------+-------------+--------------+\n",
      "only showing top 20 rows\n",
      "\n"
     ]
    }
   ],
   "source": [
    "olist_customers_dataset.filter(\"customer_zip_code_prefix == '24030'\").show(truncate=False)"
   ]
  },
  {
   "cell_type": "markdown",
   "id": "bf1228d5",
   "metadata": {},
   "source": [
    "## MAXIMUM SPENDING CUSTOMERS FOR EVERY MONTH OF LAST YEAR (we take 2017, and treat customer_id as different customers) "
   ]
  },
  {
   "cell_type": "code",
   "execution_count": 138,
   "id": "81981b36",
   "metadata": {},
   "outputs": [
    {
     "name": "stdout",
     "output_type": "stream",
     "text": [
      "+--------------------+------------------+------------+--------------------+-------------+\n",
      "|            order_id|payment_sequential|payment_type|payment_installments|payment_value|\n",
      "+--------------------+------------------+------------+--------------------+-------------+\n",
      "|b81ef226f3fe1789b...|                 1| credit_card|                   8|        99.33|\n",
      "|a9810da82917af2d9...|                 1| credit_card|                   1|        24.39|\n",
      "|25e8ea4e93396b6fa...|                 1| credit_card|                   1|        65.71|\n",
      "|ba78997921bbcdc13...|                 1| credit_card|                   8|       107.78|\n",
      "|42fdf880ba16b47b5...|                 1| credit_card|                   2|       128.45|\n",
      "|298fcdf1f73eb413e...|                 1| credit_card|                   2|        96.12|\n",
      "|771ee386b001f0620...|                 1| credit_card|                   1|        81.16|\n",
      "|3d7239c394a212faa...|                 1| credit_card|                   3|        51.84|\n",
      "|1f78449c87a54faf9...|                 1| credit_card|                   6|       341.09|\n",
      "|0573b5e23cbd79800...|                 1|      boleto|                   1|        51.95|\n",
      "|d88e0d5fa41661ce0...|                 1| credit_card|                   8|       188.73|\n",
      "|2480f727e869fdeb3...|                 1| credit_card|                   1|        141.9|\n",
      "|616105c9352a9668c...|                 1| credit_card|                   1|        75.78|\n",
      "|cf95215a722f3ebf2...|                 1| credit_card|                   5|       102.66|\n",
      "|769214176682788a9...|                 1| credit_card|                   4|       105.28|\n",
      "|12e5cfe0e4716b59a...|                 1| credit_card|                  10|       157.45|\n",
      "|61059985a6fc0ad64...|                 1| credit_card|                   1|       132.04|\n",
      "|79da3f5fe31ad1e45...|                 1| credit_card|                   1|        98.94|\n",
      "|8ac09207f415d55ac...|                 1| credit_card|                   4|       244.15|\n",
      "|b2349a3f20dfbeef6...|                 1| credit_card|                   3|       136.71|\n",
      "+--------------------+------------------+------------+--------------------+-------------+\n",
      "only showing top 20 rows\n",
      "\n"
     ]
    }
   ],
   "source": [
    "olist_order_payments_dataset.show()"
   ]
  },
  {
   "cell_type": "markdown",
   "id": "2c7b0630",
   "metadata": {},
   "source": [
    "# selection of the columns we need"
   ]
  },
  {
   "cell_type": "code",
   "execution_count": 139,
   "id": "4f320da1",
   "metadata": {},
   "outputs": [
    {
     "name": "stdout",
     "output_type": "stream",
     "text": [
      "+--------------------+--------------------+------------+------------------------+\n",
      "|            order_id|         customer_id|order_status|order_purchase_timestamp|\n",
      "+--------------------+--------------------+------------+------------------------+\n",
      "|e481f51cbdc54678b...|9ef432eb625129730...|   delivered|     2017-10-02 10:56:33|\n",
      "|53cdb2fc8bc7dce0b...|b0830fb4747a6c6d2...|   delivered|     2018-07-24 20:41:37|\n",
      "|47770eb9100c2d0c4...|41ce2a54c0b03bf34...|   delivered|     2018-08-08 08:38:49|\n",
      "|949d5b44dbf5de918...|f88197465ea7920ad...|   delivered|     2017-11-18 19:28:06|\n",
      "|ad21c59c0840e6cb8...|8ab97904e6daea886...|   delivered|     2018-02-13 21:18:39|\n",
      "|a4591c265e18cb1dc...|503740e9ca751ccdd...|   delivered|     2017-07-09 21:57:05|\n",
      "|136cce7faa42fdb2c...|ed0271e0b7da060a3...|    invoiced|     2017-04-11 12:22:08|\n",
      "|6514b8ad8028c9f2c...|9bdf08b4b3b52b552...|   delivered|     2017-05-16 13:10:30|\n",
      "|76c6e866289321a7c...|f54a9f0e6b351c431...|   delivered|     2017-01-23 18:29:09|\n",
      "|e69bfb5eb88e0ed6a...|31ad1d1b63eb99624...|   delivered|     2017-07-29 11:55:02|\n",
      "|e6ce16cb79ec1d90b...|494dded5b201313c6...|   delivered|     2017-05-16 19:41:10|\n",
      "|34513ce0c4fab462a...|7711cf624183d843a...|   delivered|     2017-07-13 19:58:11|\n",
      "|82566a660a982b15f...|d3e3b74c766bc6214...|   delivered|     2018-06-07 10:06:19|\n",
      "|5ff96c15d0b717ac6...|19402a48fe860416a...|   delivered|     2018-07-25 17:44:10|\n",
      "|432aaf21d85167c2c...|3df704f53d3f1d481...|   delivered|     2018-03-01 14:14:28|\n",
      "|dcb36b511fcac050b...|3b6828a50ffe54694...|   delivered|     2018-06-07 19:03:12|\n",
      "|403b97836b0c04a62...|738b086814c6fcc74...|   delivered|     2018-01-02 19:00:43|\n",
      "|116f0b09343b49556...|3187789bec9909876...|   delivered|     2017-12-26 23:41:31|\n",
      "|85ce859fd6dc634de...|059f7fc5719c7da6c...|   delivered|     2017-11-21 00:03:41|\n",
      "|83018ec114eee8641...|7f8c8b9c2ae27bf33...|   delivered|     2017-10-26 15:54:26|\n",
      "+--------------------+--------------------+------------+------------------------+\n",
      "only showing top 20 rows\n",
      "\n"
     ]
    }
   ],
   "source": [
    "olist_orders_dataset = olist_orders_dataset.select('order_id', 'customer_id', 'order_status', 'order_purchase_timestamp')\n",
    "olist_orders_dataset.show()"
   ]
  },
  {
   "cell_type": "code",
   "execution_count": 140,
   "id": "4b079af0",
   "metadata": {},
   "outputs": [
    {
     "name": "stdout",
     "output_type": "stream",
     "text": [
      "+------------+\n",
      "|order_status|\n",
      "+------------+\n",
      "|     shipped|\n",
      "|    canceled|\n",
      "|    approved|\n",
      "|    invoiced|\n",
      "|     created|\n",
      "|   delivered|\n",
      "| unavailable|\n",
      "|  processing|\n",
      "+------------+\n",
      "\n"
     ]
    }
   ],
   "source": [
    "olist_orders_dataset.select('order_status').distinct().show()"
   ]
  },
  {
   "cell_type": "markdown",
   "id": "7a6844b5",
   "metadata": {},
   "source": [
    "# We ommit canceled orders"
   ]
  },
  {
   "cell_type": "code",
   "execution_count": 141,
   "id": "2511e778",
   "metadata": {},
   "outputs": [
    {
     "name": "stdout",
     "output_type": "stream",
     "text": [
      "+--------------------+--------------------+------------+------------------------+\n",
      "|            order_id|         customer_id|order_status|order_purchase_timestamp|\n",
      "+--------------------+--------------------+------------+------------------------+\n",
      "|e481f51cbdc54678b...|9ef432eb625129730...|   delivered|     2017-10-02 10:56:33|\n",
      "|53cdb2fc8bc7dce0b...|b0830fb4747a6c6d2...|   delivered|     2018-07-24 20:41:37|\n",
      "|47770eb9100c2d0c4...|41ce2a54c0b03bf34...|   delivered|     2018-08-08 08:38:49|\n",
      "|949d5b44dbf5de918...|f88197465ea7920ad...|   delivered|     2017-11-18 19:28:06|\n",
      "|ad21c59c0840e6cb8...|8ab97904e6daea886...|   delivered|     2018-02-13 21:18:39|\n",
      "|a4591c265e18cb1dc...|503740e9ca751ccdd...|   delivered|     2017-07-09 21:57:05|\n",
      "|136cce7faa42fdb2c...|ed0271e0b7da060a3...|    invoiced|     2017-04-11 12:22:08|\n",
      "|6514b8ad8028c9f2c...|9bdf08b4b3b52b552...|   delivered|     2017-05-16 13:10:30|\n",
      "|76c6e866289321a7c...|f54a9f0e6b351c431...|   delivered|     2017-01-23 18:29:09|\n",
      "|e69bfb5eb88e0ed6a...|31ad1d1b63eb99624...|   delivered|     2017-07-29 11:55:02|\n",
      "|e6ce16cb79ec1d90b...|494dded5b201313c6...|   delivered|     2017-05-16 19:41:10|\n",
      "|34513ce0c4fab462a...|7711cf624183d843a...|   delivered|     2017-07-13 19:58:11|\n",
      "|82566a660a982b15f...|d3e3b74c766bc6214...|   delivered|     2018-06-07 10:06:19|\n",
      "|5ff96c15d0b717ac6...|19402a48fe860416a...|   delivered|     2018-07-25 17:44:10|\n",
      "|432aaf21d85167c2c...|3df704f53d3f1d481...|   delivered|     2018-03-01 14:14:28|\n",
      "|dcb36b511fcac050b...|3b6828a50ffe54694...|   delivered|     2018-06-07 19:03:12|\n",
      "|403b97836b0c04a62...|738b086814c6fcc74...|   delivered|     2018-01-02 19:00:43|\n",
      "|116f0b09343b49556...|3187789bec9909876...|   delivered|     2017-12-26 23:41:31|\n",
      "|85ce859fd6dc634de...|059f7fc5719c7da6c...|   delivered|     2017-11-21 00:03:41|\n",
      "|83018ec114eee8641...|7f8c8b9c2ae27bf33...|   delivered|     2017-10-26 15:54:26|\n",
      "+--------------------+--------------------+------------+------------------------+\n",
      "only showing top 20 rows\n",
      "\n"
     ]
    }
   ],
   "source": [
    "olist_orders_dataset = olist_orders_dataset.where(olist_orders_dataset.order_status != 'canceled')\n",
    "olist_orders_dataset.show()"
   ]
  },
  {
   "cell_type": "code",
   "execution_count": 142,
   "id": "3358abbc",
   "metadata": {},
   "outputs": [
    {
     "name": "stdout",
     "output_type": "stream",
     "text": [
      "root\n",
      " |-- order_id: string (nullable = true)\n",
      " |-- customer_id: string (nullable = true)\n",
      " |-- order_status: string (nullable = true)\n",
      " |-- order_purchase_timestamp: string (nullable = true)\n",
      "\n"
     ]
    }
   ],
   "source": [
    "olist_orders_dataset.printSchema()"
   ]
  },
  {
   "cell_type": "code",
   "execution_count": 143,
   "id": "94ca9f1d",
   "metadata": {},
   "outputs": [
    {
     "name": "stdout",
     "output_type": "stream",
     "text": [
      "+--------------------+--------------------+------------+------------------------+-------------------+\n",
      "|            order_id|         customer_id|order_status|order_purchase_timestamp|order_purchase_date|\n",
      "+--------------------+--------------------+------------+------------------------+-------------------+\n",
      "|e481f51cbdc54678b...|9ef432eb625129730...|   delivered|     2017-10-02 10:56:33|         2017-10-02|\n",
      "|53cdb2fc8bc7dce0b...|b0830fb4747a6c6d2...|   delivered|     2018-07-24 20:41:37|         2018-07-24|\n",
      "|47770eb9100c2d0c4...|41ce2a54c0b03bf34...|   delivered|     2018-08-08 08:38:49|         2018-08-08|\n",
      "|949d5b44dbf5de918...|f88197465ea7920ad...|   delivered|     2017-11-18 19:28:06|         2017-11-18|\n",
      "|ad21c59c0840e6cb8...|8ab97904e6daea886...|   delivered|     2018-02-13 21:18:39|         2018-02-13|\n",
      "|a4591c265e18cb1dc...|503740e9ca751ccdd...|   delivered|     2017-07-09 21:57:05|         2017-07-09|\n",
      "|136cce7faa42fdb2c...|ed0271e0b7da060a3...|    invoiced|     2017-04-11 12:22:08|         2017-04-11|\n",
      "|6514b8ad8028c9f2c...|9bdf08b4b3b52b552...|   delivered|     2017-05-16 13:10:30|         2017-05-16|\n",
      "|76c6e866289321a7c...|f54a9f0e6b351c431...|   delivered|     2017-01-23 18:29:09|         2017-01-23|\n",
      "|e69bfb5eb88e0ed6a...|31ad1d1b63eb99624...|   delivered|     2017-07-29 11:55:02|         2017-07-29|\n",
      "|e6ce16cb79ec1d90b...|494dded5b201313c6...|   delivered|     2017-05-16 19:41:10|         2017-05-16|\n",
      "|34513ce0c4fab462a...|7711cf624183d843a...|   delivered|     2017-07-13 19:58:11|         2017-07-13|\n",
      "|82566a660a982b15f...|d3e3b74c766bc6214...|   delivered|     2018-06-07 10:06:19|         2018-06-07|\n",
      "|5ff96c15d0b717ac6...|19402a48fe860416a...|   delivered|     2018-07-25 17:44:10|         2018-07-25|\n",
      "|432aaf21d85167c2c...|3df704f53d3f1d481...|   delivered|     2018-03-01 14:14:28|         2018-03-01|\n",
      "|dcb36b511fcac050b...|3b6828a50ffe54694...|   delivered|     2018-06-07 19:03:12|         2018-06-07|\n",
      "|403b97836b0c04a62...|738b086814c6fcc74...|   delivered|     2018-01-02 19:00:43|         2018-01-02|\n",
      "|116f0b09343b49556...|3187789bec9909876...|   delivered|     2017-12-26 23:41:31|         2017-12-26|\n",
      "|85ce859fd6dc634de...|059f7fc5719c7da6c...|   delivered|     2017-11-21 00:03:41|         2017-11-21|\n",
      "|83018ec114eee8641...|7f8c8b9c2ae27bf33...|   delivered|     2017-10-26 15:54:26|         2017-10-26|\n",
      "+--------------------+--------------------+------------+------------------------+-------------------+\n",
      "only showing top 20 rows\n",
      "\n"
     ]
    }
   ],
   "source": [
    "olist_orders_dataset = olist_orders_dataset.withColumn('order_purchase_date', f.to_date('order_purchase_timestamp'))\n",
    "olist_orders_dataset.show()"
   ]
  },
  {
   "cell_type": "code",
   "execution_count": 144,
   "id": "42d58cfb",
   "metadata": {},
   "outputs": [
    {
     "name": "stdout",
     "output_type": "stream",
     "text": [
      "+--------------------+--------------------+-------------------+--------------------+\n",
      "|            order_id|         customer_id|order_purchase_year|order_purchase_month|\n",
      "+--------------------+--------------------+-------------------+--------------------+\n",
      "|e481f51cbdc54678b...|9ef432eb625129730...|               2017|                  10|\n",
      "|53cdb2fc8bc7dce0b...|b0830fb4747a6c6d2...|               2018|                   7|\n",
      "|47770eb9100c2d0c4...|41ce2a54c0b03bf34...|               2018|                   8|\n",
      "|949d5b44dbf5de918...|f88197465ea7920ad...|               2017|                  11|\n",
      "|ad21c59c0840e6cb8...|8ab97904e6daea886...|               2018|                   2|\n",
      "|a4591c265e18cb1dc...|503740e9ca751ccdd...|               2017|                   7|\n",
      "|136cce7faa42fdb2c...|ed0271e0b7da060a3...|               2017|                   4|\n",
      "|6514b8ad8028c9f2c...|9bdf08b4b3b52b552...|               2017|                   5|\n",
      "|76c6e866289321a7c...|f54a9f0e6b351c431...|               2017|                   1|\n",
      "|e69bfb5eb88e0ed6a...|31ad1d1b63eb99624...|               2017|                   7|\n",
      "|e6ce16cb79ec1d90b...|494dded5b201313c6...|               2017|                   5|\n",
      "|34513ce0c4fab462a...|7711cf624183d843a...|               2017|                   7|\n",
      "|82566a660a982b15f...|d3e3b74c766bc6214...|               2018|                   6|\n",
      "|5ff96c15d0b717ac6...|19402a48fe860416a...|               2018|                   7|\n",
      "|432aaf21d85167c2c...|3df704f53d3f1d481...|               2018|                   3|\n",
      "|dcb36b511fcac050b...|3b6828a50ffe54694...|               2018|                   6|\n",
      "|403b97836b0c04a62...|738b086814c6fcc74...|               2018|                   1|\n",
      "|116f0b09343b49556...|3187789bec9909876...|               2017|                  12|\n",
      "|85ce859fd6dc634de...|059f7fc5719c7da6c...|               2017|                  11|\n",
      "|83018ec114eee8641...|7f8c8b9c2ae27bf33...|               2017|                  10|\n",
      "+--------------------+--------------------+-------------------+--------------------+\n",
      "only showing top 20 rows\n",
      "\n"
     ]
    }
   ],
   "source": [
    "olist_orders_dataset = olist_orders_dataset.withColumn('order_purchase_year', f.year('order_purchase_date'))\\\n",
    "                                           .withColumn('order_purchase_month', f.month('order_purchase_date'))\\\n",
    "                                           .drop('order_purchase_date', 'order_purchase_timestamp', 'order_status')\n",
    "olist_orders_dataset.show()"
   ]
  },
  {
   "cell_type": "markdown",
   "id": "68260e71",
   "metadata": {},
   "source": [
    "# We take data from 2017 beacause the oldest date comes from 2018 "
   ]
  },
  {
   "cell_type": "code",
   "execution_count": 145,
   "id": "a8ea402e",
   "metadata": {},
   "outputs": [
    {
     "name": "stdout",
     "output_type": "stream",
     "text": [
      "+--------------------+--------------------+-------------------+--------------------+\n",
      "|            order_id|         customer_id|order_purchase_year|order_purchase_month|\n",
      "+--------------------+--------------------+-------------------+--------------------+\n",
      "|e481f51cbdc54678b...|9ef432eb625129730...|               2017|                  10|\n",
      "|949d5b44dbf5de918...|f88197465ea7920ad...|               2017|                  11|\n",
      "|a4591c265e18cb1dc...|503740e9ca751ccdd...|               2017|                   7|\n",
      "|136cce7faa42fdb2c...|ed0271e0b7da060a3...|               2017|                   4|\n",
      "|6514b8ad8028c9f2c...|9bdf08b4b3b52b552...|               2017|                   5|\n",
      "|76c6e866289321a7c...|f54a9f0e6b351c431...|               2017|                   1|\n",
      "|e69bfb5eb88e0ed6a...|31ad1d1b63eb99624...|               2017|                   7|\n",
      "|e6ce16cb79ec1d90b...|494dded5b201313c6...|               2017|                   5|\n",
      "|34513ce0c4fab462a...|7711cf624183d843a...|               2017|                   7|\n",
      "|116f0b09343b49556...|3187789bec9909876...|               2017|                  12|\n",
      "|85ce859fd6dc634de...|059f7fc5719c7da6c...|               2017|                  11|\n",
      "|83018ec114eee8641...|7f8c8b9c2ae27bf33...|               2017|                  10|\n",
      "|203096f03d82e0dff...|d2b091571da224a1b...|               2017|                   9|\n",
      "|f70a0aff17df5a6cd...|456dc10730fbdba34...|               2017|                   8|\n",
      "|989225ba6d0ebd587...|816f8653d5361cbf9...|               2017|                  12|\n",
      "|5acce57f8d9dfd55f...|295ae9b35379e0772...|               2017|                   7|\n",
      "|1e7aff52cdbb2451a...|ddaff536587109b89...|               2017|                   5|\n",
      "|6ea2f835b4556291f...|c7340080e39435614...|               2017|                  11|\n",
      "|948097deef559c742...|8644be24d48806bc3...|               2017|                   8|\n",
      "|6ebaec694d7025e2a...|4f28355e5c17a4a42...|               2017|                   5|\n",
      "+--------------------+--------------------+-------------------+--------------------+\n",
      "only showing top 20 rows\n",
      "\n"
     ]
    }
   ],
   "source": [
    "olist_orders_dataset = olist_orders_dataset.where(olist_orders_dataset.order_purchase_year == '2017')\n",
    "olist_orders_dataset.show()"
   ]
  },
  {
   "cell_type": "code",
   "execution_count": 146,
   "id": "099d3495",
   "metadata": {},
   "outputs": [
    {
     "name": "stdout",
     "output_type": "stream",
     "text": [
      "+--------------------+--------------------+--------------------+\n",
      "|            order_id|         customer_id|order_purchase_month|\n",
      "+--------------------+--------------------+--------------------+\n",
      "|e481f51cbdc54678b...|9ef432eb625129730...|                  10|\n",
      "|949d5b44dbf5de918...|f88197465ea7920ad...|                  11|\n",
      "|a4591c265e18cb1dc...|503740e9ca751ccdd...|                   7|\n",
      "|136cce7faa42fdb2c...|ed0271e0b7da060a3...|                   4|\n",
      "|6514b8ad8028c9f2c...|9bdf08b4b3b52b552...|                   5|\n",
      "|76c6e866289321a7c...|f54a9f0e6b351c431...|                   1|\n",
      "|e69bfb5eb88e0ed6a...|31ad1d1b63eb99624...|                   7|\n",
      "|e6ce16cb79ec1d90b...|494dded5b201313c6...|                   5|\n",
      "|34513ce0c4fab462a...|7711cf624183d843a...|                   7|\n",
      "|116f0b09343b49556...|3187789bec9909876...|                  12|\n",
      "|85ce859fd6dc634de...|059f7fc5719c7da6c...|                  11|\n",
      "|83018ec114eee8641...|7f8c8b9c2ae27bf33...|                  10|\n",
      "|203096f03d82e0dff...|d2b091571da224a1b...|                   9|\n",
      "|f70a0aff17df5a6cd...|456dc10730fbdba34...|                   8|\n",
      "|989225ba6d0ebd587...|816f8653d5361cbf9...|                  12|\n",
      "|5acce57f8d9dfd55f...|295ae9b35379e0772...|                   7|\n",
      "|1e7aff52cdbb2451a...|ddaff536587109b89...|                   5|\n",
      "|6ea2f835b4556291f...|c7340080e39435614...|                  11|\n",
      "|948097deef559c742...|8644be24d48806bc3...|                   8|\n",
      "|6ebaec694d7025e2a...|4f28355e5c17a4a42...|                   5|\n",
      "+--------------------+--------------------+--------------------+\n",
      "only showing top 20 rows\n",
      "\n"
     ]
    }
   ],
   "source": [
    "olist_orders_dataset = olist_orders_dataset.drop('order_purchase_year')\n",
    "olist_orders_dataset.show()"
   ]
  },
  {
   "cell_type": "markdown",
   "id": "17d0b1dd",
   "metadata": {},
   "source": [
    "# Selection of the columns we need from olist_order_payments_dataset"
   ]
  },
  {
   "cell_type": "code",
   "execution_count": 147,
   "id": "592fb880",
   "metadata": {},
   "outputs": [
    {
     "name": "stdout",
     "output_type": "stream",
     "text": [
      "+--------------------+------------------+------------+--------------------+-------------+\n",
      "|            order_id|payment_sequential|payment_type|payment_installments|payment_value|\n",
      "+--------------------+------------------+------------+--------------------+-------------+\n",
      "|b81ef226f3fe1789b...|                 1| credit_card|                   8|        99.33|\n",
      "|a9810da82917af2d9...|                 1| credit_card|                   1|        24.39|\n",
      "|25e8ea4e93396b6fa...|                 1| credit_card|                   1|        65.71|\n",
      "|ba78997921bbcdc13...|                 1| credit_card|                   8|       107.78|\n",
      "|42fdf880ba16b47b5...|                 1| credit_card|                   2|       128.45|\n",
      "|298fcdf1f73eb413e...|                 1| credit_card|                   2|        96.12|\n",
      "|771ee386b001f0620...|                 1| credit_card|                   1|        81.16|\n",
      "|3d7239c394a212faa...|                 1| credit_card|                   3|        51.84|\n",
      "|1f78449c87a54faf9...|                 1| credit_card|                   6|       341.09|\n",
      "|0573b5e23cbd79800...|                 1|      boleto|                   1|        51.95|\n",
      "|d88e0d5fa41661ce0...|                 1| credit_card|                   8|       188.73|\n",
      "|2480f727e869fdeb3...|                 1| credit_card|                   1|        141.9|\n",
      "|616105c9352a9668c...|                 1| credit_card|                   1|        75.78|\n",
      "|cf95215a722f3ebf2...|                 1| credit_card|                   5|       102.66|\n",
      "|769214176682788a9...|                 1| credit_card|                   4|       105.28|\n",
      "|12e5cfe0e4716b59a...|                 1| credit_card|                  10|       157.45|\n",
      "|61059985a6fc0ad64...|                 1| credit_card|                   1|       132.04|\n",
      "|79da3f5fe31ad1e45...|                 1| credit_card|                   1|        98.94|\n",
      "|8ac09207f415d55ac...|                 1| credit_card|                   4|       244.15|\n",
      "|b2349a3f20dfbeef6...|                 1| credit_card|                   3|       136.71|\n",
      "+--------------------+------------------+------------+--------------------+-------------+\n",
      "only showing top 20 rows\n",
      "\n"
     ]
    }
   ],
   "source": [
    "olist_order_payments_dataset.show()"
   ]
  },
  {
   "cell_type": "code",
   "execution_count": 148,
   "id": "858dbe2d",
   "metadata": {},
   "outputs": [
    {
     "name": "stdout",
     "output_type": "stream",
     "text": [
      "+--------------------+-------------+\n",
      "|            order_id|payment_value|\n",
      "+--------------------+-------------+\n",
      "|b81ef226f3fe1789b...|        99.33|\n",
      "|a9810da82917af2d9...|        24.39|\n",
      "|25e8ea4e93396b6fa...|        65.71|\n",
      "|ba78997921bbcdc13...|       107.78|\n",
      "|42fdf880ba16b47b5...|       128.45|\n",
      "|298fcdf1f73eb413e...|        96.12|\n",
      "|771ee386b001f0620...|        81.16|\n",
      "|3d7239c394a212faa...|        51.84|\n",
      "|1f78449c87a54faf9...|       341.09|\n",
      "|0573b5e23cbd79800...|        51.95|\n",
      "|d88e0d5fa41661ce0...|       188.73|\n",
      "|2480f727e869fdeb3...|        141.9|\n",
      "|616105c9352a9668c...|        75.78|\n",
      "|cf95215a722f3ebf2...|       102.66|\n",
      "|769214176682788a9...|       105.28|\n",
      "|12e5cfe0e4716b59a...|       157.45|\n",
      "|61059985a6fc0ad64...|       132.04|\n",
      "|79da3f5fe31ad1e45...|        98.94|\n",
      "|8ac09207f415d55ac...|       244.15|\n",
      "|b2349a3f20dfbeef6...|       136.71|\n",
      "+--------------------+-------------+\n",
      "only showing top 20 rows\n",
      "\n"
     ]
    }
   ],
   "source": [
    "olist_order_payments_dataset = olist_order_payments_dataset.select('order_id', 'payment_value')\n",
    "olist_order_payments_dataset.show()"
   ]
  },
  {
   "cell_type": "markdown",
   "id": "6a9d7dcb",
   "metadata": {},
   "source": [
    "# Joining olist_orders_dataset with olist_order_payments_dataset"
   ]
  },
  {
   "cell_type": "code",
   "execution_count": 149,
   "id": "ae0b0eb6",
   "metadata": {},
   "outputs": [
    {
     "name": "stdout",
     "output_type": "stream",
     "text": [
      "+--------------------+--------------------+--------------------+\n",
      "|     order_id_orders|         customer_id|order_purchase_month|\n",
      "+--------------------+--------------------+--------------------+\n",
      "|e481f51cbdc54678b...|9ef432eb625129730...|                  10|\n",
      "|949d5b44dbf5de918...|f88197465ea7920ad...|                  11|\n",
      "|a4591c265e18cb1dc...|503740e9ca751ccdd...|                   7|\n",
      "|136cce7faa42fdb2c...|ed0271e0b7da060a3...|                   4|\n",
      "|6514b8ad8028c9f2c...|9bdf08b4b3b52b552...|                   5|\n",
      "|76c6e866289321a7c...|f54a9f0e6b351c431...|                   1|\n",
      "|e69bfb5eb88e0ed6a...|31ad1d1b63eb99624...|                   7|\n",
      "|e6ce16cb79ec1d90b...|494dded5b201313c6...|                   5|\n",
      "|34513ce0c4fab462a...|7711cf624183d843a...|                   7|\n",
      "|116f0b09343b49556...|3187789bec9909876...|                  12|\n",
      "|85ce859fd6dc634de...|059f7fc5719c7da6c...|                  11|\n",
      "|83018ec114eee8641...|7f8c8b9c2ae27bf33...|                  10|\n",
      "|203096f03d82e0dff...|d2b091571da224a1b...|                   9|\n",
      "|f70a0aff17df5a6cd...|456dc10730fbdba34...|                   8|\n",
      "|989225ba6d0ebd587...|816f8653d5361cbf9...|                  12|\n",
      "|5acce57f8d9dfd55f...|295ae9b35379e0772...|                   7|\n",
      "|1e7aff52cdbb2451a...|ddaff536587109b89...|                   5|\n",
      "|6ea2f835b4556291f...|c7340080e39435614...|                  11|\n",
      "|948097deef559c742...|8644be24d48806bc3...|                   8|\n",
      "|6ebaec694d7025e2a...|4f28355e5c17a4a42...|                   5|\n",
      "+--------------------+--------------------+--------------------+\n",
      "only showing top 20 rows\n",
      "\n"
     ]
    }
   ],
   "source": [
    "olist_orders_dataset = olist_orders_dataset.withColumnRenamed('order_id', 'order_id_orders')\n",
    "olist_orders_dataset.show()"
   ]
  },
  {
   "cell_type": "code",
   "execution_count": 150,
   "id": "c2c67904",
   "metadata": {},
   "outputs": [
    {
     "name": "stdout",
     "output_type": "stream",
     "text": [
      "+--------------------+--------------------+--------------------+--------------------+-------------+\n",
      "|     order_id_orders|         customer_id|order_purchase_month|            order_id|payment_value|\n",
      "+--------------------+--------------------+--------------------+--------------------+-------------+\n",
      "|e481f51cbdc54678b...|9ef432eb625129730...|                  10|e481f51cbdc54678b...|        18.59|\n",
      "|e481f51cbdc54678b...|9ef432eb625129730...|                  10|e481f51cbdc54678b...|          2.0|\n",
      "|e481f51cbdc54678b...|9ef432eb625129730...|                  10|e481f51cbdc54678b...|        18.12|\n",
      "|949d5b44dbf5de918...|f88197465ea7920ad...|                  11|949d5b44dbf5de918...|         72.2|\n",
      "|a4591c265e18cb1dc...|503740e9ca751ccdd...|                   7|a4591c265e18cb1dc...|       175.26|\n",
      "|136cce7faa42fdb2c...|ed0271e0b7da060a3...|                   4|136cce7faa42fdb2c...|        65.95|\n",
      "|6514b8ad8028c9f2c...|9bdf08b4b3b52b552...|                   5|6514b8ad8028c9f2c...|        75.16|\n",
      "|76c6e866289321a7c...|f54a9f0e6b351c431...|                   1|76c6e866289321a7c...|        35.95|\n",
      "|e69bfb5eb88e0ed6a...|31ad1d1b63eb99624...|                   7|e69bfb5eb88e0ed6a...|         8.34|\n",
      "|e69bfb5eb88e0ed6a...|31ad1d1b63eb99624...|                   7|e69bfb5eb88e0ed6a...|       161.42|\n",
      "|e6ce16cb79ec1d90b...|494dded5b201313c6...|                   5|e6ce16cb79ec1d90b...|       259.06|\n",
      "|34513ce0c4fab462a...|7711cf624183d843a...|                   7|34513ce0c4fab462a...|       114.13|\n",
      "|116f0b09343b49556...|3187789bec9909876...|                  12|116f0b09343b49556...|        43.09|\n",
      "|85ce859fd6dc634de...|059f7fc5719c7da6c...|                  11|85ce859fd6dc634de...|        29.75|\n",
      "|83018ec114eee8641...|7f8c8b9c2ae27bf33...|                  10|83018ec114eee8641...|         5.96|\n",
      "|83018ec114eee8641...|7f8c8b9c2ae27bf33...|                  10|83018ec114eee8641...|        24.86|\n",
      "|83018ec114eee8641...|7f8c8b9c2ae27bf33...|                  10|83018ec114eee8641...|        62.15|\n",
      "|203096f03d82e0dff...|d2b091571da224a1b...|                   9|203096f03d82e0dff...|       118.86|\n",
      "|f70a0aff17df5a6cd...|456dc10730fbdba34...|                   8|f70a0aff17df5a6cd...|       313.19|\n",
      "|989225ba6d0ebd587...|816f8653d5361cbf9...|                  12|989225ba6d0ebd587...|         63.1|\n",
      "+--------------------+--------------------+--------------------+--------------------+-------------+\n",
      "only showing top 20 rows\n",
      "\n"
     ]
    }
   ],
   "source": [
    "join_table = olist_orders_dataset.join(olist_order_payments_dataset, olist_orders_dataset.order_id_orders == olist_order_payments_dataset.order_id, 'inner')\n",
    "join_table.show()"
   ]
  },
  {
   "cell_type": "code",
   "execution_count": 151,
   "id": "7f55a249",
   "metadata": {},
   "outputs": [
    {
     "name": "stdout",
     "output_type": "stream",
     "text": [
      "+--------------------+--------------------+--------------------+-------------+\n",
      "|         customer_id|order_purchase_month|            order_id|payment_value|\n",
      "+--------------------+--------------------+--------------------+-------------+\n",
      "|9ef432eb625129730...|                  10|e481f51cbdc54678b...|        18.59|\n",
      "|9ef432eb625129730...|                  10|e481f51cbdc54678b...|          2.0|\n",
      "|9ef432eb625129730...|                  10|e481f51cbdc54678b...|        18.12|\n",
      "|f88197465ea7920ad...|                  11|949d5b44dbf5de918...|         72.2|\n",
      "|503740e9ca751ccdd...|                   7|a4591c265e18cb1dc...|       175.26|\n",
      "|ed0271e0b7da060a3...|                   4|136cce7faa42fdb2c...|        65.95|\n",
      "|9bdf08b4b3b52b552...|                   5|6514b8ad8028c9f2c...|        75.16|\n",
      "|f54a9f0e6b351c431...|                   1|76c6e866289321a7c...|        35.95|\n",
      "|31ad1d1b63eb99624...|                   7|e69bfb5eb88e0ed6a...|         8.34|\n",
      "|31ad1d1b63eb99624...|                   7|e69bfb5eb88e0ed6a...|       161.42|\n",
      "|494dded5b201313c6...|                   5|e6ce16cb79ec1d90b...|       259.06|\n",
      "|7711cf624183d843a...|                   7|34513ce0c4fab462a...|       114.13|\n",
      "|3187789bec9909876...|                  12|116f0b09343b49556...|        43.09|\n",
      "|059f7fc5719c7da6c...|                  11|85ce859fd6dc634de...|        29.75|\n",
      "|7f8c8b9c2ae27bf33...|                  10|83018ec114eee8641...|         5.96|\n",
      "|7f8c8b9c2ae27bf33...|                  10|83018ec114eee8641...|        24.86|\n",
      "|7f8c8b9c2ae27bf33...|                  10|83018ec114eee8641...|        62.15|\n",
      "|d2b091571da224a1b...|                   9|203096f03d82e0dff...|       118.86|\n",
      "|456dc10730fbdba34...|                   8|f70a0aff17df5a6cd...|       313.19|\n",
      "|816f8653d5361cbf9...|                  12|989225ba6d0ebd587...|         63.1|\n",
      "+--------------------+--------------------+--------------------+-------------+\n",
      "only showing top 20 rows\n",
      "\n"
     ]
    }
   ],
   "source": [
    "join_table = join_table.drop('order_id_orders')\n",
    "join_table.show()"
   ]
  },
  {
   "cell_type": "markdown",
   "id": "d438fc48",
   "metadata": {},
   "source": [
    "# Taking maximum spending customers for every month"
   ]
  },
  {
   "cell_type": "code",
   "execution_count": 152,
   "id": "65940e31",
   "metadata": {},
   "outputs": [
    {
     "name": "stdout",
     "output_type": "stream",
     "text": [
      "+--------------------+--------------------+------------------+\n",
      "|order_purchase_month|         customer_id|sum(payment_value)|\n",
      "+--------------------+--------------------+------------------+\n",
      "|                  10|56fa5b86733fcb920...|            309.89|\n",
      "|                   4|fb713deec65d4832a...|             32.68|\n",
      "|                  12|a86780ec4509f4c31...|             78.71|\n",
      "|                  11|5117c4b5e5b786a6f...|            126.33|\n",
      "|                   8|59395768fbb6d0508...|            119.94|\n",
      "|                   6|d44661372e501386c...|            546.45|\n",
      "|                  11|f03ed5c05aba9384c...|             140.0|\n",
      "|                  10|4f087ceb0e06ae3ea...|             76.81|\n",
      "|                   5|0f2b84248204870aa...|             73.15|\n",
      "|                  11|a4c800a16c71d3bb4...|            189.36|\n",
      "|                   7|0b8d40b3e4564b081...|             86.02|\n",
      "|                  11|a7aace19091346dc0...|              56.6|\n",
      "|                  11|823f621f5037d971a...|             29.33|\n",
      "|                   3|06c629d842cb8236f...|             34.51|\n",
      "|                  12|34ce7c651143c0ee4...|             78.64|\n",
      "|                   8|e1e49b430a59e7067...|            365.37|\n",
      "|                  11|6391769f901ff8f65...|              52.0|\n",
      "|                   5|1c18838e08ac38890...|              54.0|\n",
      "|                  12|a42c2f542fb583877...|             84.79|\n",
      "|                  11|3b1ab3eb135bf65a2...|             72.67|\n",
      "+--------------------+--------------------+------------------+\n",
      "only showing top 20 rows\n",
      "\n"
     ]
    }
   ],
   "source": [
    "join_table_grouped = join_table.groupBy('order_purchase_month', 'customer_id').sum('payment_value')\n",
    "join_table_grouped.show()"
   ]
  },
  {
   "cell_type": "code",
   "execution_count": 154,
   "id": "f4ce78fd",
   "metadata": {},
   "outputs": [
    {
     "name": "stdout",
     "output_type": "stream",
     "text": [
      "+--------------------+--------------------+------------------+\n",
      "|order_purchase_month|         customer_id|sum(payment_value)|\n",
      "+--------------------+--------------------+------------------+\n",
      "|                   1|101c8d91278c4de90...|           3016.01|\n",
      "|                   2|c6e2731c5b391845f...|           6929.31|\n",
      "|                   3|c6695e3b1e48680db...|           4016.91|\n",
      "|                   4|df55c14d1476a9a34...|           4950.34|\n",
      "|                   5|3fd6777bbce08a352...|           6726.66|\n",
      "|                   6|4312e816d88fa8bdb...|           3048.27|\n",
      "|                   7|8dd4c93bfbebe2a77...|           3041.73|\n",
      "|                   8|6361b9f3b85d41860...|           2480.58|\n",
      "|                   9|1617b1357756262bf...|          13664.08|\n",
      "|                  10|0a209a88c2e3dc298...|            3126.5|\n",
      "|                  11|05455dfa7cd02f13d...|           6081.54|\n",
      "|                  12|46bb3c0b1a65c8399...|3297.3999999999996|\n",
      "+--------------------+--------------------+------------------+\n",
      "\n"
     ]
    }
   ],
   "source": [
    "window = Window.partitionBy('order_purchase_month').orderBy(f.col('sum(payment_value)').desc())\n",
    "result_table = join_table_grouped.withColumn('row', f.row_number().over(window))\\\n",
    "                                 .filter(f.col('row') == 1).drop('row').orderBy('order_purchase_month')\n",
    "result_table.show()"
   ]
  },
  {
   "cell_type": "code",
   "execution_count": 156,
   "id": "b5c066cc",
   "metadata": {},
   "outputs": [
    {
     "name": "stdout",
     "output_type": "stream",
     "text": [
      "+--------------------+--------------------------------+------------------+\n",
      "|order_purchase_month|customer_id                     |sum(payment_value)|\n",
      "+--------------------+--------------------------------+------------------+\n",
      "|1                   |101c8d91278c4de9001566d27033f673|3016.01           |\n",
      "|2                   |c6e2731c5b391845f6800c97401a43a9|6929.31           |\n",
      "|3                   |c6695e3b1e48680db36b487419fb0398|4016.91           |\n",
      "|4                   |df55c14d1476a9a3467f131269c2477f|4950.34           |\n",
      "|5                   |3fd6777bbce08a352fddd04e4a7cc8f6|6726.66           |\n",
      "|6                   |4312e816d88fa8bdb6246878f61cdad5|3048.27           |\n",
      "|7                   |8dd4c93bfbebe2a77657d46ef959a7ac|3041.73           |\n",
      "|8                   |6361b9f3b85d41860bfa28292e052bde|2480.58           |\n",
      "|9                   |1617b1357756262bfa56ab541c47bc16|13664.08          |\n",
      "|10                  |0a209a88c2e3dc2981c79ad85c558059|3126.5            |\n",
      "|11                  |05455dfa7cd02f13d132aa7a6a9729c6|6081.54           |\n",
      "|12                  |46bb3c0b1a65c8399d0363cefbcc4f37|3297.3999999999996|\n",
      "+--------------------+--------------------------------+------------------+\n",
      "\n"
     ]
    }
   ],
   "source": [
    "result_table.show(truncate=False)"
   ]
  },
  {
   "cell_type": "markdown",
   "id": "eed1abe7",
   "metadata": {},
   "source": [
    "# Visualization"
   ]
  },
  {
   "cell_type": "code",
   "execution_count": 162,
   "id": "6d6663ea",
   "metadata": {},
   "outputs": [],
   "source": [
    "import plotly.express as px\n",
    "import pandas as pd"
   ]
  },
  {
   "cell_type": "code",
   "execution_count": 157,
   "id": "2bfcc479",
   "metadata": {},
   "outputs": [],
   "source": [
    "df = result_table.toPandas()"
   ]
  },
  {
   "cell_type": "code",
   "execution_count": 165,
   "id": "7ec38a33",
   "metadata": {},
   "outputs": [
    {
     "data": {
      "application/vnd.plotly.v1+json": {
       "config": {
        "plotlyServerURL": "https://plot.ly"
       },
       "data": [
        {
         "alignmentgroup": "True",
         "hovertemplate": "Customer ID=101c8d91278c4de9001566d27033f673<br>Month=%{x}<br>Amount spent=%{y}<extra></extra>",
         "legendgroup": "101c8d91278c4de9001566d27033f673",
         "marker": {
          "color": "#2E91E5",
          "pattern": {
           "shape": ""
          }
         },
         "name": "101c8d91278c4de9001566d27033f673",
         "offsetgroup": "101c8d91278c4de9001566d27033f673",
         "orientation": "v",
         "showlegend": true,
         "textposition": "auto",
         "type": "bar",
         "x": [
          1
         ],
         "xaxis": "x",
         "y": [
          3016.01
         ],
         "yaxis": "y"
        },
        {
         "alignmentgroup": "True",
         "hovertemplate": "Customer ID=c6e2731c5b391845f6800c97401a43a9<br>Month=%{x}<br>Amount spent=%{y}<extra></extra>",
         "legendgroup": "c6e2731c5b391845f6800c97401a43a9",
         "marker": {
          "color": "#E15F99",
          "pattern": {
           "shape": ""
          }
         },
         "name": "c6e2731c5b391845f6800c97401a43a9",
         "offsetgroup": "c6e2731c5b391845f6800c97401a43a9",
         "orientation": "v",
         "showlegend": true,
         "textposition": "auto",
         "type": "bar",
         "x": [
          2
         ],
         "xaxis": "x",
         "y": [
          6929.31
         ],
         "yaxis": "y"
        },
        {
         "alignmentgroup": "True",
         "hovertemplate": "Customer ID=c6695e3b1e48680db36b487419fb0398<br>Month=%{x}<br>Amount spent=%{y}<extra></extra>",
         "legendgroup": "c6695e3b1e48680db36b487419fb0398",
         "marker": {
          "color": "#1CA71C",
          "pattern": {
           "shape": ""
          }
         },
         "name": "c6695e3b1e48680db36b487419fb0398",
         "offsetgroup": "c6695e3b1e48680db36b487419fb0398",
         "orientation": "v",
         "showlegend": true,
         "textposition": "auto",
         "type": "bar",
         "x": [
          3
         ],
         "xaxis": "x",
         "y": [
          4016.91
         ],
         "yaxis": "y"
        },
        {
         "alignmentgroup": "True",
         "hovertemplate": "Customer ID=df55c14d1476a9a3467f131269c2477f<br>Month=%{x}<br>Amount spent=%{y}<extra></extra>",
         "legendgroup": "df55c14d1476a9a3467f131269c2477f",
         "marker": {
          "color": "#FB0D0D",
          "pattern": {
           "shape": ""
          }
         },
         "name": "df55c14d1476a9a3467f131269c2477f",
         "offsetgroup": "df55c14d1476a9a3467f131269c2477f",
         "orientation": "v",
         "showlegend": true,
         "textposition": "auto",
         "type": "bar",
         "x": [
          4
         ],
         "xaxis": "x",
         "y": [
          4950.34
         ],
         "yaxis": "y"
        },
        {
         "alignmentgroup": "True",
         "hovertemplate": "Customer ID=3fd6777bbce08a352fddd04e4a7cc8f6<br>Month=%{x}<br>Amount spent=%{y}<extra></extra>",
         "legendgroup": "3fd6777bbce08a352fddd04e4a7cc8f6",
         "marker": {
          "color": "#DA16FF",
          "pattern": {
           "shape": ""
          }
         },
         "name": "3fd6777bbce08a352fddd04e4a7cc8f6",
         "offsetgroup": "3fd6777bbce08a352fddd04e4a7cc8f6",
         "orientation": "v",
         "showlegend": true,
         "textposition": "auto",
         "type": "bar",
         "x": [
          5
         ],
         "xaxis": "x",
         "y": [
          6726.66
         ],
         "yaxis": "y"
        },
        {
         "alignmentgroup": "True",
         "hovertemplate": "Customer ID=4312e816d88fa8bdb6246878f61cdad5<br>Month=%{x}<br>Amount spent=%{y}<extra></extra>",
         "legendgroup": "4312e816d88fa8bdb6246878f61cdad5",
         "marker": {
          "color": "#222A2A",
          "pattern": {
           "shape": ""
          }
         },
         "name": "4312e816d88fa8bdb6246878f61cdad5",
         "offsetgroup": "4312e816d88fa8bdb6246878f61cdad5",
         "orientation": "v",
         "showlegend": true,
         "textposition": "auto",
         "type": "bar",
         "x": [
          6
         ],
         "xaxis": "x",
         "y": [
          3048.27
         ],
         "yaxis": "y"
        },
        {
         "alignmentgroup": "True",
         "hovertemplate": "Customer ID=8dd4c93bfbebe2a77657d46ef959a7ac<br>Month=%{x}<br>Amount spent=%{y}<extra></extra>",
         "legendgroup": "8dd4c93bfbebe2a77657d46ef959a7ac",
         "marker": {
          "color": "#B68100",
          "pattern": {
           "shape": ""
          }
         },
         "name": "8dd4c93bfbebe2a77657d46ef959a7ac",
         "offsetgroup": "8dd4c93bfbebe2a77657d46ef959a7ac",
         "orientation": "v",
         "showlegend": true,
         "textposition": "auto",
         "type": "bar",
         "x": [
          7
         ],
         "xaxis": "x",
         "y": [
          3041.73
         ],
         "yaxis": "y"
        },
        {
         "alignmentgroup": "True",
         "hovertemplate": "Customer ID=6361b9f3b85d41860bfa28292e052bde<br>Month=%{x}<br>Amount spent=%{y}<extra></extra>",
         "legendgroup": "6361b9f3b85d41860bfa28292e052bde",
         "marker": {
          "color": "#750D86",
          "pattern": {
           "shape": ""
          }
         },
         "name": "6361b9f3b85d41860bfa28292e052bde",
         "offsetgroup": "6361b9f3b85d41860bfa28292e052bde",
         "orientation": "v",
         "showlegend": true,
         "textposition": "auto",
         "type": "bar",
         "x": [
          8
         ],
         "xaxis": "x",
         "y": [
          2480.58
         ],
         "yaxis": "y"
        },
        {
         "alignmentgroup": "True",
         "hovertemplate": "Customer ID=1617b1357756262bfa56ab541c47bc16<br>Month=%{x}<br>Amount spent=%{y}<extra></extra>",
         "legendgroup": "1617b1357756262bfa56ab541c47bc16",
         "marker": {
          "color": "#EB663B",
          "pattern": {
           "shape": ""
          }
         },
         "name": "1617b1357756262bfa56ab541c47bc16",
         "offsetgroup": "1617b1357756262bfa56ab541c47bc16",
         "orientation": "v",
         "showlegend": true,
         "textposition": "auto",
         "type": "bar",
         "x": [
          9
         ],
         "xaxis": "x",
         "y": [
          13664.08
         ],
         "yaxis": "y"
        },
        {
         "alignmentgroup": "True",
         "hovertemplate": "Customer ID=0a209a88c2e3dc2981c79ad85c558059<br>Month=%{x}<br>Amount spent=%{y}<extra></extra>",
         "legendgroup": "0a209a88c2e3dc2981c79ad85c558059",
         "marker": {
          "color": "#511CFB",
          "pattern": {
           "shape": ""
          }
         },
         "name": "0a209a88c2e3dc2981c79ad85c558059",
         "offsetgroup": "0a209a88c2e3dc2981c79ad85c558059",
         "orientation": "v",
         "showlegend": true,
         "textposition": "auto",
         "type": "bar",
         "x": [
          10
         ],
         "xaxis": "x",
         "y": [
          3126.5
         ],
         "yaxis": "y"
        },
        {
         "alignmentgroup": "True",
         "hovertemplate": "Customer ID=05455dfa7cd02f13d132aa7a6a9729c6<br>Month=%{x}<br>Amount spent=%{y}<extra></extra>",
         "legendgroup": "05455dfa7cd02f13d132aa7a6a9729c6",
         "marker": {
          "color": "#00A08B",
          "pattern": {
           "shape": ""
          }
         },
         "name": "05455dfa7cd02f13d132aa7a6a9729c6",
         "offsetgroup": "05455dfa7cd02f13d132aa7a6a9729c6",
         "orientation": "v",
         "showlegend": true,
         "textposition": "auto",
         "type": "bar",
         "x": [
          11
         ],
         "xaxis": "x",
         "y": [
          6081.54
         ],
         "yaxis": "y"
        },
        {
         "alignmentgroup": "True",
         "hovertemplate": "Customer ID=46bb3c0b1a65c8399d0363cefbcc4f37<br>Month=%{x}<br>Amount spent=%{y}<extra></extra>",
         "legendgroup": "46bb3c0b1a65c8399d0363cefbcc4f37",
         "marker": {
          "color": "#FB00D1",
          "pattern": {
           "shape": ""
          }
         },
         "name": "46bb3c0b1a65c8399d0363cefbcc4f37",
         "offsetgroup": "46bb3c0b1a65c8399d0363cefbcc4f37",
         "orientation": "v",
         "showlegend": true,
         "textposition": "auto",
         "type": "bar",
         "x": [
          12
         ],
         "xaxis": "x",
         "y": [
          3297.3999999999996
         ],
         "yaxis": "y"
        }
       ],
       "layout": {
        "barmode": "relative",
        "legend": {
         "title": {
          "text": "Customer ID"
         },
         "tracegroupgap": 0
        },
        "template": {
         "data": {
          "bar": [
           {
            "error_x": {
             "color": "#2a3f5f"
            },
            "error_y": {
             "color": "#2a3f5f"
            },
            "marker": {
             "line": {
              "color": "#E5ECF6",
              "width": 0.5
             },
             "pattern": {
              "fillmode": "overlay",
              "size": 10,
              "solidity": 0.2
             }
            },
            "type": "bar"
           }
          ],
          "barpolar": [
           {
            "marker": {
             "line": {
              "color": "#E5ECF6",
              "width": 0.5
             },
             "pattern": {
              "fillmode": "overlay",
              "size": 10,
              "solidity": 0.2
             }
            },
            "type": "barpolar"
           }
          ],
          "carpet": [
           {
            "aaxis": {
             "endlinecolor": "#2a3f5f",
             "gridcolor": "white",
             "linecolor": "white",
             "minorgridcolor": "white",
             "startlinecolor": "#2a3f5f"
            },
            "baxis": {
             "endlinecolor": "#2a3f5f",
             "gridcolor": "white",
             "linecolor": "white",
             "minorgridcolor": "white",
             "startlinecolor": "#2a3f5f"
            },
            "type": "carpet"
           }
          ],
          "choropleth": [
           {
            "colorbar": {
             "outlinewidth": 0,
             "ticks": ""
            },
            "type": "choropleth"
           }
          ],
          "contour": [
           {
            "colorbar": {
             "outlinewidth": 0,
             "ticks": ""
            },
            "colorscale": [
             [
              0,
              "#0d0887"
             ],
             [
              0.1111111111111111,
              "#46039f"
             ],
             [
              0.2222222222222222,
              "#7201a8"
             ],
             [
              0.3333333333333333,
              "#9c179e"
             ],
             [
              0.4444444444444444,
              "#bd3786"
             ],
             [
              0.5555555555555556,
              "#d8576b"
             ],
             [
              0.6666666666666666,
              "#ed7953"
             ],
             [
              0.7777777777777778,
              "#fb9f3a"
             ],
             [
              0.8888888888888888,
              "#fdca26"
             ],
             [
              1,
              "#f0f921"
             ]
            ],
            "type": "contour"
           }
          ],
          "contourcarpet": [
           {
            "colorbar": {
             "outlinewidth": 0,
             "ticks": ""
            },
            "type": "contourcarpet"
           }
          ],
          "heatmap": [
           {
            "colorbar": {
             "outlinewidth": 0,
             "ticks": ""
            },
            "colorscale": [
             [
              0,
              "#0d0887"
             ],
             [
              0.1111111111111111,
              "#46039f"
             ],
             [
              0.2222222222222222,
              "#7201a8"
             ],
             [
              0.3333333333333333,
              "#9c179e"
             ],
             [
              0.4444444444444444,
              "#bd3786"
             ],
             [
              0.5555555555555556,
              "#d8576b"
             ],
             [
              0.6666666666666666,
              "#ed7953"
             ],
             [
              0.7777777777777778,
              "#fb9f3a"
             ],
             [
              0.8888888888888888,
              "#fdca26"
             ],
             [
              1,
              "#f0f921"
             ]
            ],
            "type": "heatmap"
           }
          ],
          "heatmapgl": [
           {
            "colorbar": {
             "outlinewidth": 0,
             "ticks": ""
            },
            "colorscale": [
             [
              0,
              "#0d0887"
             ],
             [
              0.1111111111111111,
              "#46039f"
             ],
             [
              0.2222222222222222,
              "#7201a8"
             ],
             [
              0.3333333333333333,
              "#9c179e"
             ],
             [
              0.4444444444444444,
              "#bd3786"
             ],
             [
              0.5555555555555556,
              "#d8576b"
             ],
             [
              0.6666666666666666,
              "#ed7953"
             ],
             [
              0.7777777777777778,
              "#fb9f3a"
             ],
             [
              0.8888888888888888,
              "#fdca26"
             ],
             [
              1,
              "#f0f921"
             ]
            ],
            "type": "heatmapgl"
           }
          ],
          "histogram": [
           {
            "marker": {
             "pattern": {
              "fillmode": "overlay",
              "size": 10,
              "solidity": 0.2
             }
            },
            "type": "histogram"
           }
          ],
          "histogram2d": [
           {
            "colorbar": {
             "outlinewidth": 0,
             "ticks": ""
            },
            "colorscale": [
             [
              0,
              "#0d0887"
             ],
             [
              0.1111111111111111,
              "#46039f"
             ],
             [
              0.2222222222222222,
              "#7201a8"
             ],
             [
              0.3333333333333333,
              "#9c179e"
             ],
             [
              0.4444444444444444,
              "#bd3786"
             ],
             [
              0.5555555555555556,
              "#d8576b"
             ],
             [
              0.6666666666666666,
              "#ed7953"
             ],
             [
              0.7777777777777778,
              "#fb9f3a"
             ],
             [
              0.8888888888888888,
              "#fdca26"
             ],
             [
              1,
              "#f0f921"
             ]
            ],
            "type": "histogram2d"
           }
          ],
          "histogram2dcontour": [
           {
            "colorbar": {
             "outlinewidth": 0,
             "ticks": ""
            },
            "colorscale": [
             [
              0,
              "#0d0887"
             ],
             [
              0.1111111111111111,
              "#46039f"
             ],
             [
              0.2222222222222222,
              "#7201a8"
             ],
             [
              0.3333333333333333,
              "#9c179e"
             ],
             [
              0.4444444444444444,
              "#bd3786"
             ],
             [
              0.5555555555555556,
              "#d8576b"
             ],
             [
              0.6666666666666666,
              "#ed7953"
             ],
             [
              0.7777777777777778,
              "#fb9f3a"
             ],
             [
              0.8888888888888888,
              "#fdca26"
             ],
             [
              1,
              "#f0f921"
             ]
            ],
            "type": "histogram2dcontour"
           }
          ],
          "mesh3d": [
           {
            "colorbar": {
             "outlinewidth": 0,
             "ticks": ""
            },
            "type": "mesh3d"
           }
          ],
          "parcoords": [
           {
            "line": {
             "colorbar": {
              "outlinewidth": 0,
              "ticks": ""
             }
            },
            "type": "parcoords"
           }
          ],
          "pie": [
           {
            "automargin": true,
            "type": "pie"
           }
          ],
          "scatter": [
           {
            "fillpattern": {
             "fillmode": "overlay",
             "size": 10,
             "solidity": 0.2
            },
            "type": "scatter"
           }
          ],
          "scatter3d": [
           {
            "line": {
             "colorbar": {
              "outlinewidth": 0,
              "ticks": ""
             }
            },
            "marker": {
             "colorbar": {
              "outlinewidth": 0,
              "ticks": ""
             }
            },
            "type": "scatter3d"
           }
          ],
          "scattercarpet": [
           {
            "marker": {
             "colorbar": {
              "outlinewidth": 0,
              "ticks": ""
             }
            },
            "type": "scattercarpet"
           }
          ],
          "scattergeo": [
           {
            "marker": {
             "colorbar": {
              "outlinewidth": 0,
              "ticks": ""
             }
            },
            "type": "scattergeo"
           }
          ],
          "scattergl": [
           {
            "marker": {
             "colorbar": {
              "outlinewidth": 0,
              "ticks": ""
             }
            },
            "type": "scattergl"
           }
          ],
          "scattermapbox": [
           {
            "marker": {
             "colorbar": {
              "outlinewidth": 0,
              "ticks": ""
             }
            },
            "type": "scattermapbox"
           }
          ],
          "scatterpolar": [
           {
            "marker": {
             "colorbar": {
              "outlinewidth": 0,
              "ticks": ""
             }
            },
            "type": "scatterpolar"
           }
          ],
          "scatterpolargl": [
           {
            "marker": {
             "colorbar": {
              "outlinewidth": 0,
              "ticks": ""
             }
            },
            "type": "scatterpolargl"
           }
          ],
          "scatterternary": [
           {
            "marker": {
             "colorbar": {
              "outlinewidth": 0,
              "ticks": ""
             }
            },
            "type": "scatterternary"
           }
          ],
          "surface": [
           {
            "colorbar": {
             "outlinewidth": 0,
             "ticks": ""
            },
            "colorscale": [
             [
              0,
              "#0d0887"
             ],
             [
              0.1111111111111111,
              "#46039f"
             ],
             [
              0.2222222222222222,
              "#7201a8"
             ],
             [
              0.3333333333333333,
              "#9c179e"
             ],
             [
              0.4444444444444444,
              "#bd3786"
             ],
             [
              0.5555555555555556,
              "#d8576b"
             ],
             [
              0.6666666666666666,
              "#ed7953"
             ],
             [
              0.7777777777777778,
              "#fb9f3a"
             ],
             [
              0.8888888888888888,
              "#fdca26"
             ],
             [
              1,
              "#f0f921"
             ]
            ],
            "type": "surface"
           }
          ],
          "table": [
           {
            "cells": {
             "fill": {
              "color": "#EBF0F8"
             },
             "line": {
              "color": "white"
             }
            },
            "header": {
             "fill": {
              "color": "#C8D4E3"
             },
             "line": {
              "color": "white"
             }
            },
            "type": "table"
           }
          ]
         },
         "layout": {
          "annotationdefaults": {
           "arrowcolor": "#2a3f5f",
           "arrowhead": 0,
           "arrowwidth": 1
          },
          "autotypenumbers": "strict",
          "coloraxis": {
           "colorbar": {
            "outlinewidth": 0,
            "ticks": ""
           }
          },
          "colorscale": {
           "diverging": [
            [
             0,
             "#8e0152"
            ],
            [
             0.1,
             "#c51b7d"
            ],
            [
             0.2,
             "#de77ae"
            ],
            [
             0.3,
             "#f1b6da"
            ],
            [
             0.4,
             "#fde0ef"
            ],
            [
             0.5,
             "#f7f7f7"
            ],
            [
             0.6,
             "#e6f5d0"
            ],
            [
             0.7,
             "#b8e186"
            ],
            [
             0.8,
             "#7fbc41"
            ],
            [
             0.9,
             "#4d9221"
            ],
            [
             1,
             "#276419"
            ]
           ],
           "sequential": [
            [
             0,
             "#0d0887"
            ],
            [
             0.1111111111111111,
             "#46039f"
            ],
            [
             0.2222222222222222,
             "#7201a8"
            ],
            [
             0.3333333333333333,
             "#9c179e"
            ],
            [
             0.4444444444444444,
             "#bd3786"
            ],
            [
             0.5555555555555556,
             "#d8576b"
            ],
            [
             0.6666666666666666,
             "#ed7953"
            ],
            [
             0.7777777777777778,
             "#fb9f3a"
            ],
            [
             0.8888888888888888,
             "#fdca26"
            ],
            [
             1,
             "#f0f921"
            ]
           ],
           "sequentialminus": [
            [
             0,
             "#0d0887"
            ],
            [
             0.1111111111111111,
             "#46039f"
            ],
            [
             0.2222222222222222,
             "#7201a8"
            ],
            [
             0.3333333333333333,
             "#9c179e"
            ],
            [
             0.4444444444444444,
             "#bd3786"
            ],
            [
             0.5555555555555556,
             "#d8576b"
            ],
            [
             0.6666666666666666,
             "#ed7953"
            ],
            [
             0.7777777777777778,
             "#fb9f3a"
            ],
            [
             0.8888888888888888,
             "#fdca26"
            ],
            [
             1,
             "#f0f921"
            ]
           ]
          },
          "colorway": [
           "#636efa",
           "#EF553B",
           "#00cc96",
           "#ab63fa",
           "#FFA15A",
           "#19d3f3",
           "#FF6692",
           "#B6E880",
           "#FF97FF",
           "#FECB52"
          ],
          "font": {
           "color": "#2a3f5f"
          },
          "geo": {
           "bgcolor": "white",
           "lakecolor": "white",
           "landcolor": "#E5ECF6",
           "showlakes": true,
           "showland": true,
           "subunitcolor": "white"
          },
          "hoverlabel": {
           "align": "left"
          },
          "hovermode": "closest",
          "mapbox": {
           "style": "light"
          },
          "paper_bgcolor": "white",
          "plot_bgcolor": "#E5ECF6",
          "polar": {
           "angularaxis": {
            "gridcolor": "white",
            "linecolor": "white",
            "ticks": ""
           },
           "bgcolor": "#E5ECF6",
           "radialaxis": {
            "gridcolor": "white",
            "linecolor": "white",
            "ticks": ""
           }
          },
          "scene": {
           "xaxis": {
            "backgroundcolor": "#E5ECF6",
            "gridcolor": "white",
            "gridwidth": 2,
            "linecolor": "white",
            "showbackground": true,
            "ticks": "",
            "zerolinecolor": "white"
           },
           "yaxis": {
            "backgroundcolor": "#E5ECF6",
            "gridcolor": "white",
            "gridwidth": 2,
            "linecolor": "white",
            "showbackground": true,
            "ticks": "",
            "zerolinecolor": "white"
           },
           "zaxis": {
            "backgroundcolor": "#E5ECF6",
            "gridcolor": "white",
            "gridwidth": 2,
            "linecolor": "white",
            "showbackground": true,
            "ticks": "",
            "zerolinecolor": "white"
           }
          },
          "shapedefaults": {
           "line": {
            "color": "#2a3f5f"
           }
          },
          "ternary": {
           "aaxis": {
            "gridcolor": "white",
            "linecolor": "white",
            "ticks": ""
           },
           "baxis": {
            "gridcolor": "white",
            "linecolor": "white",
            "ticks": ""
           },
           "bgcolor": "#E5ECF6",
           "caxis": {
            "gridcolor": "white",
            "linecolor": "white",
            "ticks": ""
           }
          },
          "title": {
           "x": 0.05
          },
          "xaxis": {
           "automargin": true,
           "gridcolor": "white",
           "linecolor": "white",
           "ticks": "",
           "title": {
            "standoff": 15
           },
           "zerolinecolor": "white",
           "zerolinewidth": 2
          },
          "yaxis": {
           "automargin": true,
           "gridcolor": "white",
           "linecolor": "white",
           "ticks": "",
           "title": {
            "standoff": 15
           },
           "zerolinecolor": "white",
           "zerolinewidth": 2
          }
         }
        },
        "title": {
         "text": "Maximum spending customers for every month"
        },
        "xaxis": {
         "anchor": "y",
         "domain": [
          0,
          1
         ],
         "tickmode": "array",
         "ticktext": [
          "Jan",
          "Feb",
          "Mar",
          "Apr",
          "May",
          "Jun",
          "Jul",
          "Aug",
          "Sep",
          "Oct",
          "Nov",
          "Dec"
         ],
         "tickvals": [
          1,
          2,
          3,
          4,
          5,
          6,
          7,
          8,
          9,
          10,
          11,
          12
         ],
         "title": {
          "text": "Month"
         }
        },
        "yaxis": {
         "anchor": "x",
         "domain": [
          0,
          1
         ],
         "title": {
          "text": "Amount spent"
         }
        }
       }
      },
      "text/html": [
       "<div>                            <div id=\"4d7d7e14-713d-4976-8553-f029c0ef72ec\" class=\"plotly-graph-div\" style=\"height:525px; width:100%;\"></div>            <script type=\"text/javascript\">                require([\"plotly\"], function(Plotly) {                    window.PLOTLYENV=window.PLOTLYENV || {};                                    if (document.getElementById(\"4d7d7e14-713d-4976-8553-f029c0ef72ec\")) {                    Plotly.newPlot(                        \"4d7d7e14-713d-4976-8553-f029c0ef72ec\",                        [{\"alignmentgroup\":\"True\",\"hovertemplate\":\"Customer ID=101c8d91278c4de9001566d27033f673<br>Month=%{x}<br>Amount spent=%{y}<extra></extra>\",\"legendgroup\":\"101c8d91278c4de9001566d27033f673\",\"marker\":{\"color\":\"#2E91E5\",\"pattern\":{\"shape\":\"\"}},\"name\":\"101c8d91278c4de9001566d27033f673\",\"offsetgroup\":\"101c8d91278c4de9001566d27033f673\",\"orientation\":\"v\",\"showlegend\":true,\"textposition\":\"auto\",\"x\":[1],\"xaxis\":\"x\",\"y\":[3016.01],\"yaxis\":\"y\",\"type\":\"bar\"},{\"alignmentgroup\":\"True\",\"hovertemplate\":\"Customer ID=c6e2731c5b391845f6800c97401a43a9<br>Month=%{x}<br>Amount spent=%{y}<extra></extra>\",\"legendgroup\":\"c6e2731c5b391845f6800c97401a43a9\",\"marker\":{\"color\":\"#E15F99\",\"pattern\":{\"shape\":\"\"}},\"name\":\"c6e2731c5b391845f6800c97401a43a9\",\"offsetgroup\":\"c6e2731c5b391845f6800c97401a43a9\",\"orientation\":\"v\",\"showlegend\":true,\"textposition\":\"auto\",\"x\":[2],\"xaxis\":\"x\",\"y\":[6929.31],\"yaxis\":\"y\",\"type\":\"bar\"},{\"alignmentgroup\":\"True\",\"hovertemplate\":\"Customer ID=c6695e3b1e48680db36b487419fb0398<br>Month=%{x}<br>Amount spent=%{y}<extra></extra>\",\"legendgroup\":\"c6695e3b1e48680db36b487419fb0398\",\"marker\":{\"color\":\"#1CA71C\",\"pattern\":{\"shape\":\"\"}},\"name\":\"c6695e3b1e48680db36b487419fb0398\",\"offsetgroup\":\"c6695e3b1e48680db36b487419fb0398\",\"orientation\":\"v\",\"showlegend\":true,\"textposition\":\"auto\",\"x\":[3],\"xaxis\":\"x\",\"y\":[4016.91],\"yaxis\":\"y\",\"type\":\"bar\"},{\"alignmentgroup\":\"True\",\"hovertemplate\":\"Customer ID=df55c14d1476a9a3467f131269c2477f<br>Month=%{x}<br>Amount spent=%{y}<extra></extra>\",\"legendgroup\":\"df55c14d1476a9a3467f131269c2477f\",\"marker\":{\"color\":\"#FB0D0D\",\"pattern\":{\"shape\":\"\"}},\"name\":\"df55c14d1476a9a3467f131269c2477f\",\"offsetgroup\":\"df55c14d1476a9a3467f131269c2477f\",\"orientation\":\"v\",\"showlegend\":true,\"textposition\":\"auto\",\"x\":[4],\"xaxis\":\"x\",\"y\":[4950.34],\"yaxis\":\"y\",\"type\":\"bar\"},{\"alignmentgroup\":\"True\",\"hovertemplate\":\"Customer ID=3fd6777bbce08a352fddd04e4a7cc8f6<br>Month=%{x}<br>Amount spent=%{y}<extra></extra>\",\"legendgroup\":\"3fd6777bbce08a352fddd04e4a7cc8f6\",\"marker\":{\"color\":\"#DA16FF\",\"pattern\":{\"shape\":\"\"}},\"name\":\"3fd6777bbce08a352fddd04e4a7cc8f6\",\"offsetgroup\":\"3fd6777bbce08a352fddd04e4a7cc8f6\",\"orientation\":\"v\",\"showlegend\":true,\"textposition\":\"auto\",\"x\":[5],\"xaxis\":\"x\",\"y\":[6726.66],\"yaxis\":\"y\",\"type\":\"bar\"},{\"alignmentgroup\":\"True\",\"hovertemplate\":\"Customer ID=4312e816d88fa8bdb6246878f61cdad5<br>Month=%{x}<br>Amount spent=%{y}<extra></extra>\",\"legendgroup\":\"4312e816d88fa8bdb6246878f61cdad5\",\"marker\":{\"color\":\"#222A2A\",\"pattern\":{\"shape\":\"\"}},\"name\":\"4312e816d88fa8bdb6246878f61cdad5\",\"offsetgroup\":\"4312e816d88fa8bdb6246878f61cdad5\",\"orientation\":\"v\",\"showlegend\":true,\"textposition\":\"auto\",\"x\":[6],\"xaxis\":\"x\",\"y\":[3048.27],\"yaxis\":\"y\",\"type\":\"bar\"},{\"alignmentgroup\":\"True\",\"hovertemplate\":\"Customer ID=8dd4c93bfbebe2a77657d46ef959a7ac<br>Month=%{x}<br>Amount spent=%{y}<extra></extra>\",\"legendgroup\":\"8dd4c93bfbebe2a77657d46ef959a7ac\",\"marker\":{\"color\":\"#B68100\",\"pattern\":{\"shape\":\"\"}},\"name\":\"8dd4c93bfbebe2a77657d46ef959a7ac\",\"offsetgroup\":\"8dd4c93bfbebe2a77657d46ef959a7ac\",\"orientation\":\"v\",\"showlegend\":true,\"textposition\":\"auto\",\"x\":[7],\"xaxis\":\"x\",\"y\":[3041.73],\"yaxis\":\"y\",\"type\":\"bar\"},{\"alignmentgroup\":\"True\",\"hovertemplate\":\"Customer ID=6361b9f3b85d41860bfa28292e052bde<br>Month=%{x}<br>Amount spent=%{y}<extra></extra>\",\"legendgroup\":\"6361b9f3b85d41860bfa28292e052bde\",\"marker\":{\"color\":\"#750D86\",\"pattern\":{\"shape\":\"\"}},\"name\":\"6361b9f3b85d41860bfa28292e052bde\",\"offsetgroup\":\"6361b9f3b85d41860bfa28292e052bde\",\"orientation\":\"v\",\"showlegend\":true,\"textposition\":\"auto\",\"x\":[8],\"xaxis\":\"x\",\"y\":[2480.58],\"yaxis\":\"y\",\"type\":\"bar\"},{\"alignmentgroup\":\"True\",\"hovertemplate\":\"Customer ID=1617b1357756262bfa56ab541c47bc16<br>Month=%{x}<br>Amount spent=%{y}<extra></extra>\",\"legendgroup\":\"1617b1357756262bfa56ab541c47bc16\",\"marker\":{\"color\":\"#EB663B\",\"pattern\":{\"shape\":\"\"}},\"name\":\"1617b1357756262bfa56ab541c47bc16\",\"offsetgroup\":\"1617b1357756262bfa56ab541c47bc16\",\"orientation\":\"v\",\"showlegend\":true,\"textposition\":\"auto\",\"x\":[9],\"xaxis\":\"x\",\"y\":[13664.08],\"yaxis\":\"y\",\"type\":\"bar\"},{\"alignmentgroup\":\"True\",\"hovertemplate\":\"Customer ID=0a209a88c2e3dc2981c79ad85c558059<br>Month=%{x}<br>Amount spent=%{y}<extra></extra>\",\"legendgroup\":\"0a209a88c2e3dc2981c79ad85c558059\",\"marker\":{\"color\":\"#511CFB\",\"pattern\":{\"shape\":\"\"}},\"name\":\"0a209a88c2e3dc2981c79ad85c558059\",\"offsetgroup\":\"0a209a88c2e3dc2981c79ad85c558059\",\"orientation\":\"v\",\"showlegend\":true,\"textposition\":\"auto\",\"x\":[10],\"xaxis\":\"x\",\"y\":[3126.5],\"yaxis\":\"y\",\"type\":\"bar\"},{\"alignmentgroup\":\"True\",\"hovertemplate\":\"Customer ID=05455dfa7cd02f13d132aa7a6a9729c6<br>Month=%{x}<br>Amount spent=%{y}<extra></extra>\",\"legendgroup\":\"05455dfa7cd02f13d132aa7a6a9729c6\",\"marker\":{\"color\":\"#00A08B\",\"pattern\":{\"shape\":\"\"}},\"name\":\"05455dfa7cd02f13d132aa7a6a9729c6\",\"offsetgroup\":\"05455dfa7cd02f13d132aa7a6a9729c6\",\"orientation\":\"v\",\"showlegend\":true,\"textposition\":\"auto\",\"x\":[11],\"xaxis\":\"x\",\"y\":[6081.54],\"yaxis\":\"y\",\"type\":\"bar\"},{\"alignmentgroup\":\"True\",\"hovertemplate\":\"Customer ID=46bb3c0b1a65c8399d0363cefbcc4f37<br>Month=%{x}<br>Amount spent=%{y}<extra></extra>\",\"legendgroup\":\"46bb3c0b1a65c8399d0363cefbcc4f37\",\"marker\":{\"color\":\"#FB00D1\",\"pattern\":{\"shape\":\"\"}},\"name\":\"46bb3c0b1a65c8399d0363cefbcc4f37\",\"offsetgroup\":\"46bb3c0b1a65c8399d0363cefbcc4f37\",\"orientation\":\"v\",\"showlegend\":true,\"textposition\":\"auto\",\"x\":[12],\"xaxis\":\"x\",\"y\":[3297.3999999999996],\"yaxis\":\"y\",\"type\":\"bar\"}],                        {\"template\":{\"data\":{\"histogram2dcontour\":[{\"type\":\"histogram2dcontour\",\"colorbar\":{\"outlinewidth\":0,\"ticks\":\"\"},\"colorscale\":[[0.0,\"#0d0887\"],[0.1111111111111111,\"#46039f\"],[0.2222222222222222,\"#7201a8\"],[0.3333333333333333,\"#9c179e\"],[0.4444444444444444,\"#bd3786\"],[0.5555555555555556,\"#d8576b\"],[0.6666666666666666,\"#ed7953\"],[0.7777777777777778,\"#fb9f3a\"],[0.8888888888888888,\"#fdca26\"],[1.0,\"#f0f921\"]]}],\"choropleth\":[{\"type\":\"choropleth\",\"colorbar\":{\"outlinewidth\":0,\"ticks\":\"\"}}],\"histogram2d\":[{\"type\":\"histogram2d\",\"colorbar\":{\"outlinewidth\":0,\"ticks\":\"\"},\"colorscale\":[[0.0,\"#0d0887\"],[0.1111111111111111,\"#46039f\"],[0.2222222222222222,\"#7201a8\"],[0.3333333333333333,\"#9c179e\"],[0.4444444444444444,\"#bd3786\"],[0.5555555555555556,\"#d8576b\"],[0.6666666666666666,\"#ed7953\"],[0.7777777777777778,\"#fb9f3a\"],[0.8888888888888888,\"#fdca26\"],[1.0,\"#f0f921\"]]}],\"heatmap\":[{\"type\":\"heatmap\",\"colorbar\":{\"outlinewidth\":0,\"ticks\":\"\"},\"colorscale\":[[0.0,\"#0d0887\"],[0.1111111111111111,\"#46039f\"],[0.2222222222222222,\"#7201a8\"],[0.3333333333333333,\"#9c179e\"],[0.4444444444444444,\"#bd3786\"],[0.5555555555555556,\"#d8576b\"],[0.6666666666666666,\"#ed7953\"],[0.7777777777777778,\"#fb9f3a\"],[0.8888888888888888,\"#fdca26\"],[1.0,\"#f0f921\"]]}],\"heatmapgl\":[{\"type\":\"heatmapgl\",\"colorbar\":{\"outlinewidth\":0,\"ticks\":\"\"},\"colorscale\":[[0.0,\"#0d0887\"],[0.1111111111111111,\"#46039f\"],[0.2222222222222222,\"#7201a8\"],[0.3333333333333333,\"#9c179e\"],[0.4444444444444444,\"#bd3786\"],[0.5555555555555556,\"#d8576b\"],[0.6666666666666666,\"#ed7953\"],[0.7777777777777778,\"#fb9f3a\"],[0.8888888888888888,\"#fdca26\"],[1.0,\"#f0f921\"]]}],\"contourcarpet\":[{\"type\":\"contourcarpet\",\"colorbar\":{\"outlinewidth\":0,\"ticks\":\"\"}}],\"contour\":[{\"type\":\"contour\",\"colorbar\":{\"outlinewidth\":0,\"ticks\":\"\"},\"colorscale\":[[0.0,\"#0d0887\"],[0.1111111111111111,\"#46039f\"],[0.2222222222222222,\"#7201a8\"],[0.3333333333333333,\"#9c179e\"],[0.4444444444444444,\"#bd3786\"],[0.5555555555555556,\"#d8576b\"],[0.6666666666666666,\"#ed7953\"],[0.7777777777777778,\"#fb9f3a\"],[0.8888888888888888,\"#fdca26\"],[1.0,\"#f0f921\"]]}],\"surface\":[{\"type\":\"surface\",\"colorbar\":{\"outlinewidth\":0,\"ticks\":\"\"},\"colorscale\":[[0.0,\"#0d0887\"],[0.1111111111111111,\"#46039f\"],[0.2222222222222222,\"#7201a8\"],[0.3333333333333333,\"#9c179e\"],[0.4444444444444444,\"#bd3786\"],[0.5555555555555556,\"#d8576b\"],[0.6666666666666666,\"#ed7953\"],[0.7777777777777778,\"#fb9f3a\"],[0.8888888888888888,\"#fdca26\"],[1.0,\"#f0f921\"]]}],\"mesh3d\":[{\"type\":\"mesh3d\",\"colorbar\":{\"outlinewidth\":0,\"ticks\":\"\"}}],\"scatter\":[{\"fillpattern\":{\"fillmode\":\"overlay\",\"size\":10,\"solidity\":0.2},\"type\":\"scatter\"}],\"parcoords\":[{\"type\":\"parcoords\",\"line\":{\"colorbar\":{\"outlinewidth\":0,\"ticks\":\"\"}}}],\"scatterpolargl\":[{\"type\":\"scatterpolargl\",\"marker\":{\"colorbar\":{\"outlinewidth\":0,\"ticks\":\"\"}}}],\"bar\":[{\"error_x\":{\"color\":\"#2a3f5f\"},\"error_y\":{\"color\":\"#2a3f5f\"},\"marker\":{\"line\":{\"color\":\"#E5ECF6\",\"width\":0.5},\"pattern\":{\"fillmode\":\"overlay\",\"size\":10,\"solidity\":0.2}},\"type\":\"bar\"}],\"scattergeo\":[{\"type\":\"scattergeo\",\"marker\":{\"colorbar\":{\"outlinewidth\":0,\"ticks\":\"\"}}}],\"scatterpolar\":[{\"type\":\"scatterpolar\",\"marker\":{\"colorbar\":{\"outlinewidth\":0,\"ticks\":\"\"}}}],\"histogram\":[{\"marker\":{\"pattern\":{\"fillmode\":\"overlay\",\"size\":10,\"solidity\":0.2}},\"type\":\"histogram\"}],\"scattergl\":[{\"type\":\"scattergl\",\"marker\":{\"colorbar\":{\"outlinewidth\":0,\"ticks\":\"\"}}}],\"scatter3d\":[{\"type\":\"scatter3d\",\"line\":{\"colorbar\":{\"outlinewidth\":0,\"ticks\":\"\"}},\"marker\":{\"colorbar\":{\"outlinewidth\":0,\"ticks\":\"\"}}}],\"scattermapbox\":[{\"type\":\"scattermapbox\",\"marker\":{\"colorbar\":{\"outlinewidth\":0,\"ticks\":\"\"}}}],\"scatterternary\":[{\"type\":\"scatterternary\",\"marker\":{\"colorbar\":{\"outlinewidth\":0,\"ticks\":\"\"}}}],\"scattercarpet\":[{\"type\":\"scattercarpet\",\"marker\":{\"colorbar\":{\"outlinewidth\":0,\"ticks\":\"\"}}}],\"carpet\":[{\"aaxis\":{\"endlinecolor\":\"#2a3f5f\",\"gridcolor\":\"white\",\"linecolor\":\"white\",\"minorgridcolor\":\"white\",\"startlinecolor\":\"#2a3f5f\"},\"baxis\":{\"endlinecolor\":\"#2a3f5f\",\"gridcolor\":\"white\",\"linecolor\":\"white\",\"minorgridcolor\":\"white\",\"startlinecolor\":\"#2a3f5f\"},\"type\":\"carpet\"}],\"table\":[{\"cells\":{\"fill\":{\"color\":\"#EBF0F8\"},\"line\":{\"color\":\"white\"}},\"header\":{\"fill\":{\"color\":\"#C8D4E3\"},\"line\":{\"color\":\"white\"}},\"type\":\"table\"}],\"barpolar\":[{\"marker\":{\"line\":{\"color\":\"#E5ECF6\",\"width\":0.5},\"pattern\":{\"fillmode\":\"overlay\",\"size\":10,\"solidity\":0.2}},\"type\":\"barpolar\"}],\"pie\":[{\"automargin\":true,\"type\":\"pie\"}]},\"layout\":{\"autotypenumbers\":\"strict\",\"colorway\":[\"#636efa\",\"#EF553B\",\"#00cc96\",\"#ab63fa\",\"#FFA15A\",\"#19d3f3\",\"#FF6692\",\"#B6E880\",\"#FF97FF\",\"#FECB52\"],\"font\":{\"color\":\"#2a3f5f\"},\"hovermode\":\"closest\",\"hoverlabel\":{\"align\":\"left\"},\"paper_bgcolor\":\"white\",\"plot_bgcolor\":\"#E5ECF6\",\"polar\":{\"bgcolor\":\"#E5ECF6\",\"angularaxis\":{\"gridcolor\":\"white\",\"linecolor\":\"white\",\"ticks\":\"\"},\"radialaxis\":{\"gridcolor\":\"white\",\"linecolor\":\"white\",\"ticks\":\"\"}},\"ternary\":{\"bgcolor\":\"#E5ECF6\",\"aaxis\":{\"gridcolor\":\"white\",\"linecolor\":\"white\",\"ticks\":\"\"},\"baxis\":{\"gridcolor\":\"white\",\"linecolor\":\"white\",\"ticks\":\"\"},\"caxis\":{\"gridcolor\":\"white\",\"linecolor\":\"white\",\"ticks\":\"\"}},\"coloraxis\":{\"colorbar\":{\"outlinewidth\":0,\"ticks\":\"\"}},\"colorscale\":{\"sequential\":[[0.0,\"#0d0887\"],[0.1111111111111111,\"#46039f\"],[0.2222222222222222,\"#7201a8\"],[0.3333333333333333,\"#9c179e\"],[0.4444444444444444,\"#bd3786\"],[0.5555555555555556,\"#d8576b\"],[0.6666666666666666,\"#ed7953\"],[0.7777777777777778,\"#fb9f3a\"],[0.8888888888888888,\"#fdca26\"],[1.0,\"#f0f921\"]],\"sequentialminus\":[[0.0,\"#0d0887\"],[0.1111111111111111,\"#46039f\"],[0.2222222222222222,\"#7201a8\"],[0.3333333333333333,\"#9c179e\"],[0.4444444444444444,\"#bd3786\"],[0.5555555555555556,\"#d8576b\"],[0.6666666666666666,\"#ed7953\"],[0.7777777777777778,\"#fb9f3a\"],[0.8888888888888888,\"#fdca26\"],[1.0,\"#f0f921\"]],\"diverging\":[[0,\"#8e0152\"],[0.1,\"#c51b7d\"],[0.2,\"#de77ae\"],[0.3,\"#f1b6da\"],[0.4,\"#fde0ef\"],[0.5,\"#f7f7f7\"],[0.6,\"#e6f5d0\"],[0.7,\"#b8e186\"],[0.8,\"#7fbc41\"],[0.9,\"#4d9221\"],[1,\"#276419\"]]},\"xaxis\":{\"gridcolor\":\"white\",\"linecolor\":\"white\",\"ticks\":\"\",\"title\":{\"standoff\":15},\"zerolinecolor\":\"white\",\"automargin\":true,\"zerolinewidth\":2},\"yaxis\":{\"gridcolor\":\"white\",\"linecolor\":\"white\",\"ticks\":\"\",\"title\":{\"standoff\":15},\"zerolinecolor\":\"white\",\"automargin\":true,\"zerolinewidth\":2},\"scene\":{\"xaxis\":{\"backgroundcolor\":\"#E5ECF6\",\"gridcolor\":\"white\",\"linecolor\":\"white\",\"showbackground\":true,\"ticks\":\"\",\"zerolinecolor\":\"white\",\"gridwidth\":2},\"yaxis\":{\"backgroundcolor\":\"#E5ECF6\",\"gridcolor\":\"white\",\"linecolor\":\"white\",\"showbackground\":true,\"ticks\":\"\",\"zerolinecolor\":\"white\",\"gridwidth\":2},\"zaxis\":{\"backgroundcolor\":\"#E5ECF6\",\"gridcolor\":\"white\",\"linecolor\":\"white\",\"showbackground\":true,\"ticks\":\"\",\"zerolinecolor\":\"white\",\"gridwidth\":2}},\"shapedefaults\":{\"line\":{\"color\":\"#2a3f5f\"}},\"annotationdefaults\":{\"arrowcolor\":\"#2a3f5f\",\"arrowhead\":0,\"arrowwidth\":1},\"geo\":{\"bgcolor\":\"white\",\"landcolor\":\"#E5ECF6\",\"subunitcolor\":\"white\",\"showland\":true,\"showlakes\":true,\"lakecolor\":\"white\"},\"title\":{\"x\":0.05},\"mapbox\":{\"style\":\"light\"}}},\"xaxis\":{\"anchor\":\"y\",\"domain\":[0.0,1.0],\"title\":{\"text\":\"Month\"},\"tickmode\":\"array\",\"tickvals\":[1,2,3,4,5,6,7,8,9,10,11,12],\"ticktext\":[\"Jan\",\"Feb\",\"Mar\",\"Apr\",\"May\",\"Jun\",\"Jul\",\"Aug\",\"Sep\",\"Oct\",\"Nov\",\"Dec\"]},\"yaxis\":{\"anchor\":\"x\",\"domain\":[0.0,1.0],\"title\":{\"text\":\"Amount spent\"}},\"legend\":{\"title\":{\"text\":\"Customer ID\"},\"tracegroupgap\":0},\"title\":{\"text\":\"Maximum spending customers for every month\"},\"barmode\":\"relative\"},                        {\"responsive\": true}                    ).then(function(){\n",
       "                            \n",
       "var gd = document.getElementById('4d7d7e14-713d-4976-8553-f029c0ef72ec');\n",
       "var x = new MutationObserver(function (mutations, observer) {{\n",
       "        var display = window.getComputedStyle(gd).display;\n",
       "        if (!display || display === 'none') {{\n",
       "            console.log([gd, 'removed!']);\n",
       "            Plotly.purge(gd);\n",
       "            observer.disconnect();\n",
       "        }}\n",
       "}});\n",
       "\n",
       "// Listen for the removal of the full notebook cells\n",
       "var notebookContainer = gd.closest('#notebook-container');\n",
       "if (notebookContainer) {{\n",
       "    x.observe(notebookContainer, {childList: true});\n",
       "}}\n",
       "\n",
       "// Listen for the clearing of the current output cell\n",
       "var outputEl = gd.closest('.output');\n",
       "if (outputEl) {{\n",
       "    x.observe(outputEl, {childList: true});\n",
       "}}\n",
       "\n",
       "                        })                };                });            </script>        </div>"
      ]
     },
     "metadata": {},
     "output_type": "display_data"
    }
   ],
   "source": [
    "fig = px.bar(df, x='order_purchase_month', y='sum(payment_value)', color='customer_id', color_discrete_sequence=px.colors.qualitative.Dark24,\n",
    "             title='Maximum spending customers for every month',\n",
    "             labels={\n",
    "                 \"sum(payment_value)\":\"Amount spent\",\n",
    "                 \"customer_id\": \"Customer ID\",\n",
    "                 \"order_purchase_month\": 'Month'\n",
    "             })\n",
    "\n",
    "fig.update_layout(\n",
    "    xaxis = dict(\n",
    "        tickmode = 'array',\n",
    "        tickvals = [i for i in range(1, 13)],\n",
    "        ticktext = ['Jan', 'Feb', 'Mar', 'Apr', 'May', 'Jun', 'Jul', 'Aug', 'Sep', 'Oct', 'Nov', 'Dec']\n",
    "    )\n",
    ")\n",
    "fig.show()"
   ]
  },
  {
   "cell_type": "markdown",
   "id": "01474d4b",
   "metadata": {},
   "source": [
    "## MAXIMUM SPENDING CUSTOMERS FOR EVERY MONTH OF LAST YEAR (we take 2017, and treat customer_unique_id as different customers) "
   ]
  },
  {
   "cell_type": "code",
   "execution_count": 166,
   "id": "da118d64",
   "metadata": {},
   "outputs": [
    {
     "name": "stdout",
     "output_type": "stream",
     "text": [
      "+--------------------+--------------------+------------------+\n",
      "|order_purchase_month|         customer_id|sum(payment_value)|\n",
      "+--------------------+--------------------+------------------+\n",
      "|                  10|56fa5b86733fcb920...|            309.89|\n",
      "|                   4|fb713deec65d4832a...|             32.68|\n",
      "|                  12|a86780ec4509f4c31...|             78.71|\n",
      "|                  11|5117c4b5e5b786a6f...|            126.33|\n",
      "|                   8|59395768fbb6d0508...|            119.94|\n",
      "|                   6|d44661372e501386c...|            546.45|\n",
      "|                  11|f03ed5c05aba9384c...|             140.0|\n",
      "|                  10|4f087ceb0e06ae3ea...|             76.81|\n",
      "|                   5|0f2b84248204870aa...|             73.15|\n",
      "|                  11|a4c800a16c71d3bb4...|            189.36|\n",
      "|                   7|0b8d40b3e4564b081...|             86.02|\n",
      "|                  11|a7aace19091346dc0...|              56.6|\n",
      "|                  11|823f621f5037d971a...|             29.33|\n",
      "|                   3|06c629d842cb8236f...|             34.51|\n",
      "|                  12|34ce7c651143c0ee4...|             78.64|\n",
      "|                   8|e1e49b430a59e7067...|            365.37|\n",
      "|                  11|6391769f901ff8f65...|              52.0|\n",
      "|                   5|1c18838e08ac38890...|              54.0|\n",
      "|                  12|a42c2f542fb583877...|             84.79|\n",
      "|                  11|3b1ab3eb135bf65a2...|             72.67|\n",
      "+--------------------+--------------------+------------------+\n",
      "only showing top 20 rows\n",
      "\n"
     ]
    }
   ],
   "source": [
    "join_table_grouped.show()"
   ]
  },
  {
   "cell_type": "code",
   "execution_count": 169,
   "id": "d312cdd5",
   "metadata": {},
   "outputs": [
    {
     "name": "stdout",
     "output_type": "stream",
     "text": [
      "+--------------------+--------------------+\n",
      "|       customer_id_1|  customer_unique_id|\n",
      "+--------------------+--------------------+\n",
      "|06b8999e2fba1a1fb...|861eff4711a542e4b...|\n",
      "|18955e83d337fd6b2...|290c77bc529b7ac93...|\n",
      "|4e7b3e00288586ebd...|060e732b5b29e8181...|\n",
      "|b2b6027bc5c5109e5...|259dac757896d24d7...|\n",
      "|4f2d8ab171c80ec83...|345ecd01c38d18a90...|\n",
      "|879864dab9bc30475...|4c93744516667ad3b...|\n",
      "|fd826e7cf63160e53...|addec96d2e059c80c...|\n",
      "|5e274e7a0c3809e14...|57b2a98a409812fe9...|\n",
      "|5adf08e34b2e99398...|1175e95fb47ddff9d...|\n",
      "|4b7139f34592b3a31...|9afe194fb833f79e3...|\n",
      "|9fb35e4ed6f0a14a4...|2a7745e1ed516b289...|\n",
      "|5aa9e4fdd4dfd2095...|2a46fb94aef5cbeeb...|\n",
      "|b2d1536598b73a9ab...|918dc87cd72cd9f6e...|\n",
      "|eabebad39a88bb6f5...|295c05e81917928d7...|\n",
      "|1f1c7bf1c9b041b29...|3151a81801c838636...|\n",
      "|206f3129c0e4d7d0b...|21f748a16f4e1688a...|\n",
      "|a7c125a0a07b75146...|5c2991dbd08bbf3cf...|\n",
      "|c5c61596a3b6bd0ce...|b6e99561fe6f34a55...|\n",
      "|9b8ce803689b3562d...|7f3a72e8f988c6e73...|\n",
      "|49d0ea0986edde72d...|3e6fd6b2f0d499456...|\n",
      "+--------------------+--------------------+\n",
      "only showing top 20 rows\n",
      "\n"
     ]
    }
   ],
   "source": [
    "olist_customers_dataset = olist_customers_dataset.select('customer_id', 'customer_unique_id').withColumnRenamed('customer_id', 'customer_id_1')\n",
    "olist_customers_dataset.show()"
   ]
  },
  {
   "cell_type": "code",
   "execution_count": 170,
   "id": "9629f1ef",
   "metadata": {},
   "outputs": [
    {
     "name": "stdout",
     "output_type": "stream",
     "text": [
      "+--------------------+--------------------+------------------+--------------------+\n",
      "|order_purchase_month|         customer_id|sum(payment_value)|  customer_unique_id|\n",
      "+--------------------+--------------------+------------------+--------------------+\n",
      "|                  10|56fa5b86733fcb920...|            309.89|1c4ad540c8c5c36be...|\n",
      "|                   4|fb713deec65d4832a...|             32.68|60b1b4c715a06c712...|\n",
      "|                  12|a86780ec4509f4c31...|             78.71|25005ef67dd44bb53...|\n",
      "|                  11|5117c4b5e5b786a6f...|            126.33|b96336694477939c9...|\n",
      "|                   8|59395768fbb6d0508...|            119.94|41a2e8b346e23a9fa...|\n",
      "|                   6|d44661372e501386c...|            546.45|5ad96d7a95788923e...|\n",
      "|                  11|f03ed5c05aba9384c...|             140.0|dbebf006da451288a...|\n",
      "|                  10|4f087ceb0e06ae3ea...|             76.81|2b4871f788b44ee00...|\n",
      "|                   5|0f2b84248204870aa...|             73.15|ba0702c64162e9345...|\n",
      "|                  11|a4c800a16c71d3bb4...|            189.36|c9a05ad9be22fbaec...|\n",
      "|                   7|0b8d40b3e4564b081...|             86.02|9c9db9057b02a4a1e...|\n",
      "|                  11|a7aace19091346dc0...|              56.6|07da55ca1be33c14e...|\n",
      "|                  11|823f621f5037d971a...|             29.33|b1dede4db8218754b...|\n",
      "|                   3|06c629d842cb8236f...|             34.51|e62169ba0cb892e8e...|\n",
      "|                  12|34ce7c651143c0ee4...|             78.64|f1f63855251a2ca72...|\n",
      "|                   8|e1e49b430a59e7067...|            365.37|fad61b77c26ecaf96...|\n",
      "|                  11|6391769f901ff8f65...|              52.0|941254873ba3ece63...|\n",
      "|                   5|1c18838e08ac38890...|              54.0|569f382854736533e...|\n",
      "|                  12|a42c2f542fb583877...|             84.79|7e7ef2098031a8f5a...|\n",
      "|                  11|3b1ab3eb135bf65a2...|             72.67|b8363e5884d7e0b5a...|\n",
      "+--------------------+--------------------+------------------+--------------------+\n",
      "only showing top 20 rows\n",
      "\n"
     ]
    }
   ],
   "source": [
    "join_table_2 = join_table_grouped.join(olist_customers_dataset, join_table_grouped.customer_id == olist_customers_dataset.customer_id_1, 'inner').drop('customer_id_1')\n",
    "join_table_2.show()"
   ]
  },
  {
   "cell_type": "code",
   "execution_count": 171,
   "id": "fa7df6b2",
   "metadata": {},
   "outputs": [
    {
     "name": "stderr",
     "output_type": "stream",
     "text": [
      "[Stage 391:====================================>                (139 + 8) / 200]\r"
     ]
    },
    {
     "name": "stdout",
     "output_type": "stream",
     "text": [
      "+--------------------+--------------------+-------------+\n",
      "|order_purchase_month|  customer_unique_id|month_payment|\n",
      "+--------------------+--------------------+-------------+\n",
      "|                   6|ccc9b20de34d924b2...|       619.93|\n",
      "|                  11|2833fe0b4fd9b6ee8...|         63.1|\n",
      "|                   5|a7465fb2745d0bd67...|       147.53|\n",
      "|                   5|ca55f9ebddc988ee6...|        62.78|\n",
      "|                  12|c645339c7f927e64c...|       681.84|\n",
      "|                   7|196c621766aab9501...|        87.71|\n",
      "|                  11|dce2e10812c2435cb...|        60.85|\n",
      "|                   9|a8ff40216f48e620d...|       275.46|\n",
      "|                   8|4919dda3f4b213104...|        77.57|\n",
      "|                  10|7528fbe45ed5db187...|       117.93|\n",
      "|                   9|1669ec988d290112f...|        47.09|\n",
      "|                   3|04b82d7b6bea9cde3...|        62.58|\n",
      "|                  12|5821a17a4f620e48a...|       417.55|\n",
      "|                   7|ec9c7ebb2a345ccd4...|        85.14|\n",
      "|                  11|5277f2c18bae9ff7f...|       270.57|\n",
      "|                   3|3644b5b6a1f536e4f...|       101.92|\n",
      "|                   8|f69623b43c1c8cb97...|        65.53|\n",
      "|                  11|e1a821d8a0ad5e951...|       277.63|\n",
      "|                   4|1c38c4c299758fb2e...|        39.09|\n",
      "|                   6|c188a8a811a853422...|        26.77|\n",
      "+--------------------+--------------------+-------------+\n",
      "only showing top 20 rows\n",
      "\n"
     ]
    },
    {
     "name": "stderr",
     "output_type": "stream",
     "text": [
      "\r",
      "[Stage 391:=============================================>       (170 + 8) / 200]\r",
      "\r",
      "                                                                                \r"
     ]
    }
   ],
   "source": [
    "join_table_grouped_2 = join_table_2.groupBy('order_purchase_month', 'customer_unique_id').sum('sum(payment_value)').withColumnRenamed('sum(sum(payment_value))', 'month_payment')\n",
    "join_table_grouped_2.show()"
   ]
  },
  {
   "cell_type": "code",
   "execution_count": 172,
   "id": "c2ff11bc",
   "metadata": {},
   "outputs": [
    {
     "name": "stderr",
     "output_type": "stream",
     "text": [
      "[Stage 396:===================================================> (196 + 4) / 200]\r"
     ]
    },
    {
     "name": "stdout",
     "output_type": "stream",
     "text": [
      "+--------------------+--------------------+------------------+\n",
      "|order_purchase_month|  customer_unique_id|     month_payment|\n",
      "+--------------------+--------------------+------------------+\n",
      "|                   1|ee2bb06c1d3f368e9...|           3016.01|\n",
      "|                   2|dc4802a71eae9be1d...|           6929.31|\n",
      "|                   3|011875f0176909c5c...|           4016.91|\n",
      "|                   4|da122df9eeddfedc1...|           7571.63|\n",
      "|                   5|ff4159b92c40ebe40...|           6726.66|\n",
      "|                   6|ff0ae98646e7bbb41...|           3048.27|\n",
      "|                   7|6172bd5b7f52ade8c...|           3041.73|\n",
      "|                   8|575fa0cb05146c256...|           2480.58|\n",
      "|                   9|0a0a92112bd4c708c...|          13664.08|\n",
      "|                  10|895617ab63a9ad888...|            3126.5|\n",
      "|                  11|4007669dec559734d...|           6081.54|\n",
      "|                  12|7a96eb0a685f5c19b...|3297.3999999999996|\n",
      "+--------------------+--------------------+------------------+\n",
      "\n"
     ]
    },
    {
     "name": "stderr",
     "output_type": "stream",
     "text": [
      "\r",
      "                                                                                \r"
     ]
    }
   ],
   "source": [
    "window_2 = Window.partitionBy('order_purchase_month').orderBy(f.col('month_payment').desc())\n",
    "result_table_2 = join_table_grouped_2.withColumn('row', f.row_number().over(window_2))\\\n",
    "                                 .filter(f.col('row') == 1).drop('row').orderBy('order_purchase_month')\n",
    "result_table_2.show()"
   ]
  },
  {
   "cell_type": "code",
   "execution_count": 180,
   "id": "8774ff9d",
   "metadata": {},
   "outputs": [
    {
     "name": "stderr",
     "output_type": "stream",
     "text": [
      "[Stage 417:=============================================>       (173 + 8) / 200]\r"
     ]
    },
    {
     "name": "stdout",
     "output_type": "stream",
     "text": [
      "+--------------------+--------------------------------+------------------+\n",
      "|order_purchase_month|customer_unique_id              |month_payment     |\n",
      "+--------------------+--------------------------------+------------------+\n",
      "|1                   |ee2bb06c1d3f368e92084edefb7e4b57|3016.01           |\n",
      "|2                   |dc4802a71eae9be1dd28f5d788ceb526|6929.31           |\n",
      "|3                   |011875f0176909c5cf0b14a9138bb691|4016.91           |\n",
      "|4                   |da122df9eeddfedc1dc1f5349a1a690c|7571.63           |\n",
      "|5                   |ff4159b92c40ebe40454e3e6a7c35ed6|6726.66           |\n",
      "|6                   |ff0ae98646e7bbb41cf0f0d3991fef98|3048.27           |\n",
      "|7                   |6172bd5b7f52ade8c6c4548b448ff54f|3041.73           |\n",
      "|8                   |575fa0cb05146c256ec1c9d348ec0305|2480.58           |\n",
      "|9                   |0a0a92112bd4c708ca5fde585afaa872|13664.08          |\n",
      "|10                  |895617ab63a9ad8881d9470f7427cd25|3126.5            |\n",
      "|11                  |4007669dec559734d6f53e029e360987|6081.54           |\n",
      "|12                  |7a96eb0a685f5c19b7dad29fc802aa64|3297.3999999999996|\n",
      "+--------------------+--------------------------------+------------------+\n",
      "\n"
     ]
    },
    {
     "name": "stderr",
     "output_type": "stream",
     "text": [
      "\r",
      "                                                                                \r"
     ]
    }
   ],
   "source": [
    "result_table_2.show(truncate=False)"
   ]
  },
  {
   "cell_type": "code",
   "execution_count": 173,
   "id": "0b9773c0",
   "metadata": {},
   "outputs": [
    {
     "name": "stderr",
     "output_type": "stream",
     "text": [
      "                                                                                \r"
     ]
    }
   ],
   "source": [
    "df_2 = result_table_2.toPandas()"
   ]
  },
  {
   "cell_type": "code",
   "execution_count": 176,
   "id": "125bfbf4",
   "metadata": {},
   "outputs": [
    {
     "data": {
      "application/vnd.plotly.v1+json": {
       "config": {
        "plotlyServerURL": "https://plot.ly"
       },
       "data": [
        {
         "alignmentgroup": "True",
         "hovertemplate": "Customer unique ID=ee2bb06c1d3f368e92084edefb7e4b57<br>Month=%{x}<br>Amount spent=%{y}<extra></extra>",
         "legendgroup": "ee2bb06c1d3f368e92084edefb7e4b57",
         "marker": {
          "color": "#2E91E5",
          "pattern": {
           "shape": ""
          }
         },
         "name": "ee2bb06c1d3f368e92084edefb7e4b57",
         "offsetgroup": "ee2bb06c1d3f368e92084edefb7e4b57",
         "orientation": "v",
         "showlegend": true,
         "textposition": "auto",
         "type": "bar",
         "x": [
          1
         ],
         "xaxis": "x",
         "y": [
          3016.01
         ],
         "yaxis": "y"
        },
        {
         "alignmentgroup": "True",
         "hovertemplate": "Customer unique ID=dc4802a71eae9be1dd28f5d788ceb526<br>Month=%{x}<br>Amount spent=%{y}<extra></extra>",
         "legendgroup": "dc4802a71eae9be1dd28f5d788ceb526",
         "marker": {
          "color": "#E15F99",
          "pattern": {
           "shape": ""
          }
         },
         "name": "dc4802a71eae9be1dd28f5d788ceb526",
         "offsetgroup": "dc4802a71eae9be1dd28f5d788ceb526",
         "orientation": "v",
         "showlegend": true,
         "textposition": "auto",
         "type": "bar",
         "x": [
          2
         ],
         "xaxis": "x",
         "y": [
          6929.31
         ],
         "yaxis": "y"
        },
        {
         "alignmentgroup": "True",
         "hovertemplate": "Customer unique ID=011875f0176909c5cf0b14a9138bb691<br>Month=%{x}<br>Amount spent=%{y}<extra></extra>",
         "legendgroup": "011875f0176909c5cf0b14a9138bb691",
         "marker": {
          "color": "#1CA71C",
          "pattern": {
           "shape": ""
          }
         },
         "name": "011875f0176909c5cf0b14a9138bb691",
         "offsetgroup": "011875f0176909c5cf0b14a9138bb691",
         "orientation": "v",
         "showlegend": true,
         "textposition": "auto",
         "type": "bar",
         "x": [
          3
         ],
         "xaxis": "x",
         "y": [
          4016.91
         ],
         "yaxis": "y"
        },
        {
         "alignmentgroup": "True",
         "hovertemplate": "Customer unique ID=da122df9eeddfedc1dc1f5349a1a690c<br>Month=%{x}<br>Amount spent=%{y}<extra></extra>",
         "legendgroup": "da122df9eeddfedc1dc1f5349a1a690c",
         "marker": {
          "color": "#FB0D0D",
          "pattern": {
           "shape": ""
          }
         },
         "name": "da122df9eeddfedc1dc1f5349a1a690c",
         "offsetgroup": "da122df9eeddfedc1dc1f5349a1a690c",
         "orientation": "v",
         "showlegend": true,
         "textposition": "auto",
         "type": "bar",
         "x": [
          4
         ],
         "xaxis": "x",
         "y": [
          7571.63
         ],
         "yaxis": "y"
        },
        {
         "alignmentgroup": "True",
         "hovertemplate": "Customer unique ID=ff4159b92c40ebe40454e3e6a7c35ed6<br>Month=%{x}<br>Amount spent=%{y}<extra></extra>",
         "legendgroup": "ff4159b92c40ebe40454e3e6a7c35ed6",
         "marker": {
          "color": "#DA16FF",
          "pattern": {
           "shape": ""
          }
         },
         "name": "ff4159b92c40ebe40454e3e6a7c35ed6",
         "offsetgroup": "ff4159b92c40ebe40454e3e6a7c35ed6",
         "orientation": "v",
         "showlegend": true,
         "textposition": "auto",
         "type": "bar",
         "x": [
          5
         ],
         "xaxis": "x",
         "y": [
          6726.66
         ],
         "yaxis": "y"
        },
        {
         "alignmentgroup": "True",
         "hovertemplate": "Customer unique ID=ff0ae98646e7bbb41cf0f0d3991fef98<br>Month=%{x}<br>Amount spent=%{y}<extra></extra>",
         "legendgroup": "ff0ae98646e7bbb41cf0f0d3991fef98",
         "marker": {
          "color": "#222A2A",
          "pattern": {
           "shape": ""
          }
         },
         "name": "ff0ae98646e7bbb41cf0f0d3991fef98",
         "offsetgroup": "ff0ae98646e7bbb41cf0f0d3991fef98",
         "orientation": "v",
         "showlegend": true,
         "textposition": "auto",
         "type": "bar",
         "x": [
          6
         ],
         "xaxis": "x",
         "y": [
          3048.27
         ],
         "yaxis": "y"
        },
        {
         "alignmentgroup": "True",
         "hovertemplate": "Customer unique ID=6172bd5b7f52ade8c6c4548b448ff54f<br>Month=%{x}<br>Amount spent=%{y}<extra></extra>",
         "legendgroup": "6172bd5b7f52ade8c6c4548b448ff54f",
         "marker": {
          "color": "#B68100",
          "pattern": {
           "shape": ""
          }
         },
         "name": "6172bd5b7f52ade8c6c4548b448ff54f",
         "offsetgroup": "6172bd5b7f52ade8c6c4548b448ff54f",
         "orientation": "v",
         "showlegend": true,
         "textposition": "auto",
         "type": "bar",
         "x": [
          7
         ],
         "xaxis": "x",
         "y": [
          3041.73
         ],
         "yaxis": "y"
        },
        {
         "alignmentgroup": "True",
         "hovertemplate": "Customer unique ID=575fa0cb05146c256ec1c9d348ec0305<br>Month=%{x}<br>Amount spent=%{y}<extra></extra>",
         "legendgroup": "575fa0cb05146c256ec1c9d348ec0305",
         "marker": {
          "color": "#750D86",
          "pattern": {
           "shape": ""
          }
         },
         "name": "575fa0cb05146c256ec1c9d348ec0305",
         "offsetgroup": "575fa0cb05146c256ec1c9d348ec0305",
         "orientation": "v",
         "showlegend": true,
         "textposition": "auto",
         "type": "bar",
         "x": [
          8
         ],
         "xaxis": "x",
         "y": [
          2480.58
         ],
         "yaxis": "y"
        },
        {
         "alignmentgroup": "True",
         "hovertemplate": "Customer unique ID=0a0a92112bd4c708ca5fde585afaa872<br>Month=%{x}<br>Amount spent=%{y}<extra></extra>",
         "legendgroup": "0a0a92112bd4c708ca5fde585afaa872",
         "marker": {
          "color": "#EB663B",
          "pattern": {
           "shape": ""
          }
         },
         "name": "0a0a92112bd4c708ca5fde585afaa872",
         "offsetgroup": "0a0a92112bd4c708ca5fde585afaa872",
         "orientation": "v",
         "showlegend": true,
         "textposition": "auto",
         "type": "bar",
         "x": [
          9
         ],
         "xaxis": "x",
         "y": [
          13664.08
         ],
         "yaxis": "y"
        },
        {
         "alignmentgroup": "True",
         "hovertemplate": "Customer unique ID=895617ab63a9ad8881d9470f7427cd25<br>Month=%{x}<br>Amount spent=%{y}<extra></extra>",
         "legendgroup": "895617ab63a9ad8881d9470f7427cd25",
         "marker": {
          "color": "#511CFB",
          "pattern": {
           "shape": ""
          }
         },
         "name": "895617ab63a9ad8881d9470f7427cd25",
         "offsetgroup": "895617ab63a9ad8881d9470f7427cd25",
         "orientation": "v",
         "showlegend": true,
         "textposition": "auto",
         "type": "bar",
         "x": [
          10
         ],
         "xaxis": "x",
         "y": [
          3126.5
         ],
         "yaxis": "y"
        },
        {
         "alignmentgroup": "True",
         "hovertemplate": "Customer unique ID=4007669dec559734d6f53e029e360987<br>Month=%{x}<br>Amount spent=%{y}<extra></extra>",
         "legendgroup": "4007669dec559734d6f53e029e360987",
         "marker": {
          "color": "#00A08B",
          "pattern": {
           "shape": ""
          }
         },
         "name": "4007669dec559734d6f53e029e360987",
         "offsetgroup": "4007669dec559734d6f53e029e360987",
         "orientation": "v",
         "showlegend": true,
         "textposition": "auto",
         "type": "bar",
         "x": [
          11
         ],
         "xaxis": "x",
         "y": [
          6081.54
         ],
         "yaxis": "y"
        },
        {
         "alignmentgroup": "True",
         "hovertemplate": "Customer unique ID=7a96eb0a685f5c19b7dad29fc802aa64<br>Month=%{x}<br>Amount spent=%{y}<extra></extra>",
         "legendgroup": "7a96eb0a685f5c19b7dad29fc802aa64",
         "marker": {
          "color": "#FB00D1",
          "pattern": {
           "shape": ""
          }
         },
         "name": "7a96eb0a685f5c19b7dad29fc802aa64",
         "offsetgroup": "7a96eb0a685f5c19b7dad29fc802aa64",
         "orientation": "v",
         "showlegend": true,
         "textposition": "auto",
         "type": "bar",
         "x": [
          12
         ],
         "xaxis": "x",
         "y": [
          3297.3999999999996
         ],
         "yaxis": "y"
        }
       ],
       "layout": {
        "barmode": "relative",
        "legend": {
         "title": {
          "text": "Customer unique ID"
         },
         "tracegroupgap": 0
        },
        "template": {
         "data": {
          "bar": [
           {
            "error_x": {
             "color": "#2a3f5f"
            },
            "error_y": {
             "color": "#2a3f5f"
            },
            "marker": {
             "line": {
              "color": "#E5ECF6",
              "width": 0.5
             },
             "pattern": {
              "fillmode": "overlay",
              "size": 10,
              "solidity": 0.2
             }
            },
            "type": "bar"
           }
          ],
          "barpolar": [
           {
            "marker": {
             "line": {
              "color": "#E5ECF6",
              "width": 0.5
             },
             "pattern": {
              "fillmode": "overlay",
              "size": 10,
              "solidity": 0.2
             }
            },
            "type": "barpolar"
           }
          ],
          "carpet": [
           {
            "aaxis": {
             "endlinecolor": "#2a3f5f",
             "gridcolor": "white",
             "linecolor": "white",
             "minorgridcolor": "white",
             "startlinecolor": "#2a3f5f"
            },
            "baxis": {
             "endlinecolor": "#2a3f5f",
             "gridcolor": "white",
             "linecolor": "white",
             "minorgridcolor": "white",
             "startlinecolor": "#2a3f5f"
            },
            "type": "carpet"
           }
          ],
          "choropleth": [
           {
            "colorbar": {
             "outlinewidth": 0,
             "ticks": ""
            },
            "type": "choropleth"
           }
          ],
          "contour": [
           {
            "colorbar": {
             "outlinewidth": 0,
             "ticks": ""
            },
            "colorscale": [
             [
              0,
              "#0d0887"
             ],
             [
              0.1111111111111111,
              "#46039f"
             ],
             [
              0.2222222222222222,
              "#7201a8"
             ],
             [
              0.3333333333333333,
              "#9c179e"
             ],
             [
              0.4444444444444444,
              "#bd3786"
             ],
             [
              0.5555555555555556,
              "#d8576b"
             ],
             [
              0.6666666666666666,
              "#ed7953"
             ],
             [
              0.7777777777777778,
              "#fb9f3a"
             ],
             [
              0.8888888888888888,
              "#fdca26"
             ],
             [
              1,
              "#f0f921"
             ]
            ],
            "type": "contour"
           }
          ],
          "contourcarpet": [
           {
            "colorbar": {
             "outlinewidth": 0,
             "ticks": ""
            },
            "type": "contourcarpet"
           }
          ],
          "heatmap": [
           {
            "colorbar": {
             "outlinewidth": 0,
             "ticks": ""
            },
            "colorscale": [
             [
              0,
              "#0d0887"
             ],
             [
              0.1111111111111111,
              "#46039f"
             ],
             [
              0.2222222222222222,
              "#7201a8"
             ],
             [
              0.3333333333333333,
              "#9c179e"
             ],
             [
              0.4444444444444444,
              "#bd3786"
             ],
             [
              0.5555555555555556,
              "#d8576b"
             ],
             [
              0.6666666666666666,
              "#ed7953"
             ],
             [
              0.7777777777777778,
              "#fb9f3a"
             ],
             [
              0.8888888888888888,
              "#fdca26"
             ],
             [
              1,
              "#f0f921"
             ]
            ],
            "type": "heatmap"
           }
          ],
          "heatmapgl": [
           {
            "colorbar": {
             "outlinewidth": 0,
             "ticks": ""
            },
            "colorscale": [
             [
              0,
              "#0d0887"
             ],
             [
              0.1111111111111111,
              "#46039f"
             ],
             [
              0.2222222222222222,
              "#7201a8"
             ],
             [
              0.3333333333333333,
              "#9c179e"
             ],
             [
              0.4444444444444444,
              "#bd3786"
             ],
             [
              0.5555555555555556,
              "#d8576b"
             ],
             [
              0.6666666666666666,
              "#ed7953"
             ],
             [
              0.7777777777777778,
              "#fb9f3a"
             ],
             [
              0.8888888888888888,
              "#fdca26"
             ],
             [
              1,
              "#f0f921"
             ]
            ],
            "type": "heatmapgl"
           }
          ],
          "histogram": [
           {
            "marker": {
             "pattern": {
              "fillmode": "overlay",
              "size": 10,
              "solidity": 0.2
             }
            },
            "type": "histogram"
           }
          ],
          "histogram2d": [
           {
            "colorbar": {
             "outlinewidth": 0,
             "ticks": ""
            },
            "colorscale": [
             [
              0,
              "#0d0887"
             ],
             [
              0.1111111111111111,
              "#46039f"
             ],
             [
              0.2222222222222222,
              "#7201a8"
             ],
             [
              0.3333333333333333,
              "#9c179e"
             ],
             [
              0.4444444444444444,
              "#bd3786"
             ],
             [
              0.5555555555555556,
              "#d8576b"
             ],
             [
              0.6666666666666666,
              "#ed7953"
             ],
             [
              0.7777777777777778,
              "#fb9f3a"
             ],
             [
              0.8888888888888888,
              "#fdca26"
             ],
             [
              1,
              "#f0f921"
             ]
            ],
            "type": "histogram2d"
           }
          ],
          "histogram2dcontour": [
           {
            "colorbar": {
             "outlinewidth": 0,
             "ticks": ""
            },
            "colorscale": [
             [
              0,
              "#0d0887"
             ],
             [
              0.1111111111111111,
              "#46039f"
             ],
             [
              0.2222222222222222,
              "#7201a8"
             ],
             [
              0.3333333333333333,
              "#9c179e"
             ],
             [
              0.4444444444444444,
              "#bd3786"
             ],
             [
              0.5555555555555556,
              "#d8576b"
             ],
             [
              0.6666666666666666,
              "#ed7953"
             ],
             [
              0.7777777777777778,
              "#fb9f3a"
             ],
             [
              0.8888888888888888,
              "#fdca26"
             ],
             [
              1,
              "#f0f921"
             ]
            ],
            "type": "histogram2dcontour"
           }
          ],
          "mesh3d": [
           {
            "colorbar": {
             "outlinewidth": 0,
             "ticks": ""
            },
            "type": "mesh3d"
           }
          ],
          "parcoords": [
           {
            "line": {
             "colorbar": {
              "outlinewidth": 0,
              "ticks": ""
             }
            },
            "type": "parcoords"
           }
          ],
          "pie": [
           {
            "automargin": true,
            "type": "pie"
           }
          ],
          "scatter": [
           {
            "fillpattern": {
             "fillmode": "overlay",
             "size": 10,
             "solidity": 0.2
            },
            "type": "scatter"
           }
          ],
          "scatter3d": [
           {
            "line": {
             "colorbar": {
              "outlinewidth": 0,
              "ticks": ""
             }
            },
            "marker": {
             "colorbar": {
              "outlinewidth": 0,
              "ticks": ""
             }
            },
            "type": "scatter3d"
           }
          ],
          "scattercarpet": [
           {
            "marker": {
             "colorbar": {
              "outlinewidth": 0,
              "ticks": ""
             }
            },
            "type": "scattercarpet"
           }
          ],
          "scattergeo": [
           {
            "marker": {
             "colorbar": {
              "outlinewidth": 0,
              "ticks": ""
             }
            },
            "type": "scattergeo"
           }
          ],
          "scattergl": [
           {
            "marker": {
             "colorbar": {
              "outlinewidth": 0,
              "ticks": ""
             }
            },
            "type": "scattergl"
           }
          ],
          "scattermapbox": [
           {
            "marker": {
             "colorbar": {
              "outlinewidth": 0,
              "ticks": ""
             }
            },
            "type": "scattermapbox"
           }
          ],
          "scatterpolar": [
           {
            "marker": {
             "colorbar": {
              "outlinewidth": 0,
              "ticks": ""
             }
            },
            "type": "scatterpolar"
           }
          ],
          "scatterpolargl": [
           {
            "marker": {
             "colorbar": {
              "outlinewidth": 0,
              "ticks": ""
             }
            },
            "type": "scatterpolargl"
           }
          ],
          "scatterternary": [
           {
            "marker": {
             "colorbar": {
              "outlinewidth": 0,
              "ticks": ""
             }
            },
            "type": "scatterternary"
           }
          ],
          "surface": [
           {
            "colorbar": {
             "outlinewidth": 0,
             "ticks": ""
            },
            "colorscale": [
             [
              0,
              "#0d0887"
             ],
             [
              0.1111111111111111,
              "#46039f"
             ],
             [
              0.2222222222222222,
              "#7201a8"
             ],
             [
              0.3333333333333333,
              "#9c179e"
             ],
             [
              0.4444444444444444,
              "#bd3786"
             ],
             [
              0.5555555555555556,
              "#d8576b"
             ],
             [
              0.6666666666666666,
              "#ed7953"
             ],
             [
              0.7777777777777778,
              "#fb9f3a"
             ],
             [
              0.8888888888888888,
              "#fdca26"
             ],
             [
              1,
              "#f0f921"
             ]
            ],
            "type": "surface"
           }
          ],
          "table": [
           {
            "cells": {
             "fill": {
              "color": "#EBF0F8"
             },
             "line": {
              "color": "white"
             }
            },
            "header": {
             "fill": {
              "color": "#C8D4E3"
             },
             "line": {
              "color": "white"
             }
            },
            "type": "table"
           }
          ]
         },
         "layout": {
          "annotationdefaults": {
           "arrowcolor": "#2a3f5f",
           "arrowhead": 0,
           "arrowwidth": 1
          },
          "autotypenumbers": "strict",
          "coloraxis": {
           "colorbar": {
            "outlinewidth": 0,
            "ticks": ""
           }
          },
          "colorscale": {
           "diverging": [
            [
             0,
             "#8e0152"
            ],
            [
             0.1,
             "#c51b7d"
            ],
            [
             0.2,
             "#de77ae"
            ],
            [
             0.3,
             "#f1b6da"
            ],
            [
             0.4,
             "#fde0ef"
            ],
            [
             0.5,
             "#f7f7f7"
            ],
            [
             0.6,
             "#e6f5d0"
            ],
            [
             0.7,
             "#b8e186"
            ],
            [
             0.8,
             "#7fbc41"
            ],
            [
             0.9,
             "#4d9221"
            ],
            [
             1,
             "#276419"
            ]
           ],
           "sequential": [
            [
             0,
             "#0d0887"
            ],
            [
             0.1111111111111111,
             "#46039f"
            ],
            [
             0.2222222222222222,
             "#7201a8"
            ],
            [
             0.3333333333333333,
             "#9c179e"
            ],
            [
             0.4444444444444444,
             "#bd3786"
            ],
            [
             0.5555555555555556,
             "#d8576b"
            ],
            [
             0.6666666666666666,
             "#ed7953"
            ],
            [
             0.7777777777777778,
             "#fb9f3a"
            ],
            [
             0.8888888888888888,
             "#fdca26"
            ],
            [
             1,
             "#f0f921"
            ]
           ],
           "sequentialminus": [
            [
             0,
             "#0d0887"
            ],
            [
             0.1111111111111111,
             "#46039f"
            ],
            [
             0.2222222222222222,
             "#7201a8"
            ],
            [
             0.3333333333333333,
             "#9c179e"
            ],
            [
             0.4444444444444444,
             "#bd3786"
            ],
            [
             0.5555555555555556,
             "#d8576b"
            ],
            [
             0.6666666666666666,
             "#ed7953"
            ],
            [
             0.7777777777777778,
             "#fb9f3a"
            ],
            [
             0.8888888888888888,
             "#fdca26"
            ],
            [
             1,
             "#f0f921"
            ]
           ]
          },
          "colorway": [
           "#636efa",
           "#EF553B",
           "#00cc96",
           "#ab63fa",
           "#FFA15A",
           "#19d3f3",
           "#FF6692",
           "#B6E880",
           "#FF97FF",
           "#FECB52"
          ],
          "font": {
           "color": "#2a3f5f"
          },
          "geo": {
           "bgcolor": "white",
           "lakecolor": "white",
           "landcolor": "#E5ECF6",
           "showlakes": true,
           "showland": true,
           "subunitcolor": "white"
          },
          "hoverlabel": {
           "align": "left"
          },
          "hovermode": "closest",
          "mapbox": {
           "style": "light"
          },
          "paper_bgcolor": "white",
          "plot_bgcolor": "#E5ECF6",
          "polar": {
           "angularaxis": {
            "gridcolor": "white",
            "linecolor": "white",
            "ticks": ""
           },
           "bgcolor": "#E5ECF6",
           "radialaxis": {
            "gridcolor": "white",
            "linecolor": "white",
            "ticks": ""
           }
          },
          "scene": {
           "xaxis": {
            "backgroundcolor": "#E5ECF6",
            "gridcolor": "white",
            "gridwidth": 2,
            "linecolor": "white",
            "showbackground": true,
            "ticks": "",
            "zerolinecolor": "white"
           },
           "yaxis": {
            "backgroundcolor": "#E5ECF6",
            "gridcolor": "white",
            "gridwidth": 2,
            "linecolor": "white",
            "showbackground": true,
            "ticks": "",
            "zerolinecolor": "white"
           },
           "zaxis": {
            "backgroundcolor": "#E5ECF6",
            "gridcolor": "white",
            "gridwidth": 2,
            "linecolor": "white",
            "showbackground": true,
            "ticks": "",
            "zerolinecolor": "white"
           }
          },
          "shapedefaults": {
           "line": {
            "color": "#2a3f5f"
           }
          },
          "ternary": {
           "aaxis": {
            "gridcolor": "white",
            "linecolor": "white",
            "ticks": ""
           },
           "baxis": {
            "gridcolor": "white",
            "linecolor": "white",
            "ticks": ""
           },
           "bgcolor": "#E5ECF6",
           "caxis": {
            "gridcolor": "white",
            "linecolor": "white",
            "ticks": ""
           }
          },
          "title": {
           "x": 0.05
          },
          "xaxis": {
           "automargin": true,
           "gridcolor": "white",
           "linecolor": "white",
           "ticks": "",
           "title": {
            "standoff": 15
           },
           "zerolinecolor": "white",
           "zerolinewidth": 2
          },
          "yaxis": {
           "automargin": true,
           "gridcolor": "white",
           "linecolor": "white",
           "ticks": "",
           "title": {
            "standoff": 15
           },
           "zerolinecolor": "white",
           "zerolinewidth": 2
          }
         }
        },
        "title": {
         "text": "Maximum spending customers (using customer_unique_id) for every month"
        },
        "xaxis": {
         "anchor": "y",
         "domain": [
          0,
          1
         ],
         "tickmode": "array",
         "ticktext": [
          "Jan",
          "Feb",
          "Mar",
          "Apr",
          "May",
          "Jun",
          "Jul",
          "Aug",
          "Sep",
          "Oct",
          "Nov",
          "Dec"
         ],
         "tickvals": [
          1,
          2,
          3,
          4,
          5,
          6,
          7,
          8,
          9,
          10,
          11,
          12
         ],
         "title": {
          "text": "Month"
         }
        },
        "yaxis": {
         "anchor": "x",
         "domain": [
          0,
          1
         ],
         "title": {
          "text": "Amount spent"
         }
        }
       }
      },
      "text/html": [
       "<div>                            <div id=\"bbbd4ee2-df2c-4bae-adb1-480c98110b05\" class=\"plotly-graph-div\" style=\"height:525px; width:100%;\"></div>            <script type=\"text/javascript\">                require([\"plotly\"], function(Plotly) {                    window.PLOTLYENV=window.PLOTLYENV || {};                                    if (document.getElementById(\"bbbd4ee2-df2c-4bae-adb1-480c98110b05\")) {                    Plotly.newPlot(                        \"bbbd4ee2-df2c-4bae-adb1-480c98110b05\",                        [{\"alignmentgroup\":\"True\",\"hovertemplate\":\"Customer unique ID=ee2bb06c1d3f368e92084edefb7e4b57<br>Month=%{x}<br>Amount spent=%{y}<extra></extra>\",\"legendgroup\":\"ee2bb06c1d3f368e92084edefb7e4b57\",\"marker\":{\"color\":\"#2E91E5\",\"pattern\":{\"shape\":\"\"}},\"name\":\"ee2bb06c1d3f368e92084edefb7e4b57\",\"offsetgroup\":\"ee2bb06c1d3f368e92084edefb7e4b57\",\"orientation\":\"v\",\"showlegend\":true,\"textposition\":\"auto\",\"x\":[1],\"xaxis\":\"x\",\"y\":[3016.01],\"yaxis\":\"y\",\"type\":\"bar\"},{\"alignmentgroup\":\"True\",\"hovertemplate\":\"Customer unique ID=dc4802a71eae9be1dd28f5d788ceb526<br>Month=%{x}<br>Amount spent=%{y}<extra></extra>\",\"legendgroup\":\"dc4802a71eae9be1dd28f5d788ceb526\",\"marker\":{\"color\":\"#E15F99\",\"pattern\":{\"shape\":\"\"}},\"name\":\"dc4802a71eae9be1dd28f5d788ceb526\",\"offsetgroup\":\"dc4802a71eae9be1dd28f5d788ceb526\",\"orientation\":\"v\",\"showlegend\":true,\"textposition\":\"auto\",\"x\":[2],\"xaxis\":\"x\",\"y\":[6929.31],\"yaxis\":\"y\",\"type\":\"bar\"},{\"alignmentgroup\":\"True\",\"hovertemplate\":\"Customer unique ID=011875f0176909c5cf0b14a9138bb691<br>Month=%{x}<br>Amount spent=%{y}<extra></extra>\",\"legendgroup\":\"011875f0176909c5cf0b14a9138bb691\",\"marker\":{\"color\":\"#1CA71C\",\"pattern\":{\"shape\":\"\"}},\"name\":\"011875f0176909c5cf0b14a9138bb691\",\"offsetgroup\":\"011875f0176909c5cf0b14a9138bb691\",\"orientation\":\"v\",\"showlegend\":true,\"textposition\":\"auto\",\"x\":[3],\"xaxis\":\"x\",\"y\":[4016.91],\"yaxis\":\"y\",\"type\":\"bar\"},{\"alignmentgroup\":\"True\",\"hovertemplate\":\"Customer unique ID=da122df9eeddfedc1dc1f5349a1a690c<br>Month=%{x}<br>Amount spent=%{y}<extra></extra>\",\"legendgroup\":\"da122df9eeddfedc1dc1f5349a1a690c\",\"marker\":{\"color\":\"#FB0D0D\",\"pattern\":{\"shape\":\"\"}},\"name\":\"da122df9eeddfedc1dc1f5349a1a690c\",\"offsetgroup\":\"da122df9eeddfedc1dc1f5349a1a690c\",\"orientation\":\"v\",\"showlegend\":true,\"textposition\":\"auto\",\"x\":[4],\"xaxis\":\"x\",\"y\":[7571.63],\"yaxis\":\"y\",\"type\":\"bar\"},{\"alignmentgroup\":\"True\",\"hovertemplate\":\"Customer unique ID=ff4159b92c40ebe40454e3e6a7c35ed6<br>Month=%{x}<br>Amount spent=%{y}<extra></extra>\",\"legendgroup\":\"ff4159b92c40ebe40454e3e6a7c35ed6\",\"marker\":{\"color\":\"#DA16FF\",\"pattern\":{\"shape\":\"\"}},\"name\":\"ff4159b92c40ebe40454e3e6a7c35ed6\",\"offsetgroup\":\"ff4159b92c40ebe40454e3e6a7c35ed6\",\"orientation\":\"v\",\"showlegend\":true,\"textposition\":\"auto\",\"x\":[5],\"xaxis\":\"x\",\"y\":[6726.66],\"yaxis\":\"y\",\"type\":\"bar\"},{\"alignmentgroup\":\"True\",\"hovertemplate\":\"Customer unique ID=ff0ae98646e7bbb41cf0f0d3991fef98<br>Month=%{x}<br>Amount spent=%{y}<extra></extra>\",\"legendgroup\":\"ff0ae98646e7bbb41cf0f0d3991fef98\",\"marker\":{\"color\":\"#222A2A\",\"pattern\":{\"shape\":\"\"}},\"name\":\"ff0ae98646e7bbb41cf0f0d3991fef98\",\"offsetgroup\":\"ff0ae98646e7bbb41cf0f0d3991fef98\",\"orientation\":\"v\",\"showlegend\":true,\"textposition\":\"auto\",\"x\":[6],\"xaxis\":\"x\",\"y\":[3048.27],\"yaxis\":\"y\",\"type\":\"bar\"},{\"alignmentgroup\":\"True\",\"hovertemplate\":\"Customer unique ID=6172bd5b7f52ade8c6c4548b448ff54f<br>Month=%{x}<br>Amount spent=%{y}<extra></extra>\",\"legendgroup\":\"6172bd5b7f52ade8c6c4548b448ff54f\",\"marker\":{\"color\":\"#B68100\",\"pattern\":{\"shape\":\"\"}},\"name\":\"6172bd5b7f52ade8c6c4548b448ff54f\",\"offsetgroup\":\"6172bd5b7f52ade8c6c4548b448ff54f\",\"orientation\":\"v\",\"showlegend\":true,\"textposition\":\"auto\",\"x\":[7],\"xaxis\":\"x\",\"y\":[3041.73],\"yaxis\":\"y\",\"type\":\"bar\"},{\"alignmentgroup\":\"True\",\"hovertemplate\":\"Customer unique ID=575fa0cb05146c256ec1c9d348ec0305<br>Month=%{x}<br>Amount spent=%{y}<extra></extra>\",\"legendgroup\":\"575fa0cb05146c256ec1c9d348ec0305\",\"marker\":{\"color\":\"#750D86\",\"pattern\":{\"shape\":\"\"}},\"name\":\"575fa0cb05146c256ec1c9d348ec0305\",\"offsetgroup\":\"575fa0cb05146c256ec1c9d348ec0305\",\"orientation\":\"v\",\"showlegend\":true,\"textposition\":\"auto\",\"x\":[8],\"xaxis\":\"x\",\"y\":[2480.58],\"yaxis\":\"y\",\"type\":\"bar\"},{\"alignmentgroup\":\"True\",\"hovertemplate\":\"Customer unique ID=0a0a92112bd4c708ca5fde585afaa872<br>Month=%{x}<br>Amount spent=%{y}<extra></extra>\",\"legendgroup\":\"0a0a92112bd4c708ca5fde585afaa872\",\"marker\":{\"color\":\"#EB663B\",\"pattern\":{\"shape\":\"\"}},\"name\":\"0a0a92112bd4c708ca5fde585afaa872\",\"offsetgroup\":\"0a0a92112bd4c708ca5fde585afaa872\",\"orientation\":\"v\",\"showlegend\":true,\"textposition\":\"auto\",\"x\":[9],\"xaxis\":\"x\",\"y\":[13664.08],\"yaxis\":\"y\",\"type\":\"bar\"},{\"alignmentgroup\":\"True\",\"hovertemplate\":\"Customer unique ID=895617ab63a9ad8881d9470f7427cd25<br>Month=%{x}<br>Amount spent=%{y}<extra></extra>\",\"legendgroup\":\"895617ab63a9ad8881d9470f7427cd25\",\"marker\":{\"color\":\"#511CFB\",\"pattern\":{\"shape\":\"\"}},\"name\":\"895617ab63a9ad8881d9470f7427cd25\",\"offsetgroup\":\"895617ab63a9ad8881d9470f7427cd25\",\"orientation\":\"v\",\"showlegend\":true,\"textposition\":\"auto\",\"x\":[10],\"xaxis\":\"x\",\"y\":[3126.5],\"yaxis\":\"y\",\"type\":\"bar\"},{\"alignmentgroup\":\"True\",\"hovertemplate\":\"Customer unique ID=4007669dec559734d6f53e029e360987<br>Month=%{x}<br>Amount spent=%{y}<extra></extra>\",\"legendgroup\":\"4007669dec559734d6f53e029e360987\",\"marker\":{\"color\":\"#00A08B\",\"pattern\":{\"shape\":\"\"}},\"name\":\"4007669dec559734d6f53e029e360987\",\"offsetgroup\":\"4007669dec559734d6f53e029e360987\",\"orientation\":\"v\",\"showlegend\":true,\"textposition\":\"auto\",\"x\":[11],\"xaxis\":\"x\",\"y\":[6081.54],\"yaxis\":\"y\",\"type\":\"bar\"},{\"alignmentgroup\":\"True\",\"hovertemplate\":\"Customer unique ID=7a96eb0a685f5c19b7dad29fc802aa64<br>Month=%{x}<br>Amount spent=%{y}<extra></extra>\",\"legendgroup\":\"7a96eb0a685f5c19b7dad29fc802aa64\",\"marker\":{\"color\":\"#FB00D1\",\"pattern\":{\"shape\":\"\"}},\"name\":\"7a96eb0a685f5c19b7dad29fc802aa64\",\"offsetgroup\":\"7a96eb0a685f5c19b7dad29fc802aa64\",\"orientation\":\"v\",\"showlegend\":true,\"textposition\":\"auto\",\"x\":[12],\"xaxis\":\"x\",\"y\":[3297.3999999999996],\"yaxis\":\"y\",\"type\":\"bar\"}],                        {\"template\":{\"data\":{\"histogram2dcontour\":[{\"type\":\"histogram2dcontour\",\"colorbar\":{\"outlinewidth\":0,\"ticks\":\"\"},\"colorscale\":[[0.0,\"#0d0887\"],[0.1111111111111111,\"#46039f\"],[0.2222222222222222,\"#7201a8\"],[0.3333333333333333,\"#9c179e\"],[0.4444444444444444,\"#bd3786\"],[0.5555555555555556,\"#d8576b\"],[0.6666666666666666,\"#ed7953\"],[0.7777777777777778,\"#fb9f3a\"],[0.8888888888888888,\"#fdca26\"],[1.0,\"#f0f921\"]]}],\"choropleth\":[{\"type\":\"choropleth\",\"colorbar\":{\"outlinewidth\":0,\"ticks\":\"\"}}],\"histogram2d\":[{\"type\":\"histogram2d\",\"colorbar\":{\"outlinewidth\":0,\"ticks\":\"\"},\"colorscale\":[[0.0,\"#0d0887\"],[0.1111111111111111,\"#46039f\"],[0.2222222222222222,\"#7201a8\"],[0.3333333333333333,\"#9c179e\"],[0.4444444444444444,\"#bd3786\"],[0.5555555555555556,\"#d8576b\"],[0.6666666666666666,\"#ed7953\"],[0.7777777777777778,\"#fb9f3a\"],[0.8888888888888888,\"#fdca26\"],[1.0,\"#f0f921\"]]}],\"heatmap\":[{\"type\":\"heatmap\",\"colorbar\":{\"outlinewidth\":0,\"ticks\":\"\"},\"colorscale\":[[0.0,\"#0d0887\"],[0.1111111111111111,\"#46039f\"],[0.2222222222222222,\"#7201a8\"],[0.3333333333333333,\"#9c179e\"],[0.4444444444444444,\"#bd3786\"],[0.5555555555555556,\"#d8576b\"],[0.6666666666666666,\"#ed7953\"],[0.7777777777777778,\"#fb9f3a\"],[0.8888888888888888,\"#fdca26\"],[1.0,\"#f0f921\"]]}],\"heatmapgl\":[{\"type\":\"heatmapgl\",\"colorbar\":{\"outlinewidth\":0,\"ticks\":\"\"},\"colorscale\":[[0.0,\"#0d0887\"],[0.1111111111111111,\"#46039f\"],[0.2222222222222222,\"#7201a8\"],[0.3333333333333333,\"#9c179e\"],[0.4444444444444444,\"#bd3786\"],[0.5555555555555556,\"#d8576b\"],[0.6666666666666666,\"#ed7953\"],[0.7777777777777778,\"#fb9f3a\"],[0.8888888888888888,\"#fdca26\"],[1.0,\"#f0f921\"]]}],\"contourcarpet\":[{\"type\":\"contourcarpet\",\"colorbar\":{\"outlinewidth\":0,\"ticks\":\"\"}}],\"contour\":[{\"type\":\"contour\",\"colorbar\":{\"outlinewidth\":0,\"ticks\":\"\"},\"colorscale\":[[0.0,\"#0d0887\"],[0.1111111111111111,\"#46039f\"],[0.2222222222222222,\"#7201a8\"],[0.3333333333333333,\"#9c179e\"],[0.4444444444444444,\"#bd3786\"],[0.5555555555555556,\"#d8576b\"],[0.6666666666666666,\"#ed7953\"],[0.7777777777777778,\"#fb9f3a\"],[0.8888888888888888,\"#fdca26\"],[1.0,\"#f0f921\"]]}],\"surface\":[{\"type\":\"surface\",\"colorbar\":{\"outlinewidth\":0,\"ticks\":\"\"},\"colorscale\":[[0.0,\"#0d0887\"],[0.1111111111111111,\"#46039f\"],[0.2222222222222222,\"#7201a8\"],[0.3333333333333333,\"#9c179e\"],[0.4444444444444444,\"#bd3786\"],[0.5555555555555556,\"#d8576b\"],[0.6666666666666666,\"#ed7953\"],[0.7777777777777778,\"#fb9f3a\"],[0.8888888888888888,\"#fdca26\"],[1.0,\"#f0f921\"]]}],\"mesh3d\":[{\"type\":\"mesh3d\",\"colorbar\":{\"outlinewidth\":0,\"ticks\":\"\"}}],\"scatter\":[{\"fillpattern\":{\"fillmode\":\"overlay\",\"size\":10,\"solidity\":0.2},\"type\":\"scatter\"}],\"parcoords\":[{\"type\":\"parcoords\",\"line\":{\"colorbar\":{\"outlinewidth\":0,\"ticks\":\"\"}}}],\"scatterpolargl\":[{\"type\":\"scatterpolargl\",\"marker\":{\"colorbar\":{\"outlinewidth\":0,\"ticks\":\"\"}}}],\"bar\":[{\"error_x\":{\"color\":\"#2a3f5f\"},\"error_y\":{\"color\":\"#2a3f5f\"},\"marker\":{\"line\":{\"color\":\"#E5ECF6\",\"width\":0.5},\"pattern\":{\"fillmode\":\"overlay\",\"size\":10,\"solidity\":0.2}},\"type\":\"bar\"}],\"scattergeo\":[{\"type\":\"scattergeo\",\"marker\":{\"colorbar\":{\"outlinewidth\":0,\"ticks\":\"\"}}}],\"scatterpolar\":[{\"type\":\"scatterpolar\",\"marker\":{\"colorbar\":{\"outlinewidth\":0,\"ticks\":\"\"}}}],\"histogram\":[{\"marker\":{\"pattern\":{\"fillmode\":\"overlay\",\"size\":10,\"solidity\":0.2}},\"type\":\"histogram\"}],\"scattergl\":[{\"type\":\"scattergl\",\"marker\":{\"colorbar\":{\"outlinewidth\":0,\"ticks\":\"\"}}}],\"scatter3d\":[{\"type\":\"scatter3d\",\"line\":{\"colorbar\":{\"outlinewidth\":0,\"ticks\":\"\"}},\"marker\":{\"colorbar\":{\"outlinewidth\":0,\"ticks\":\"\"}}}],\"scattermapbox\":[{\"type\":\"scattermapbox\",\"marker\":{\"colorbar\":{\"outlinewidth\":0,\"ticks\":\"\"}}}],\"scatterternary\":[{\"type\":\"scatterternary\",\"marker\":{\"colorbar\":{\"outlinewidth\":0,\"ticks\":\"\"}}}],\"scattercarpet\":[{\"type\":\"scattercarpet\",\"marker\":{\"colorbar\":{\"outlinewidth\":0,\"ticks\":\"\"}}}],\"carpet\":[{\"aaxis\":{\"endlinecolor\":\"#2a3f5f\",\"gridcolor\":\"white\",\"linecolor\":\"white\",\"minorgridcolor\":\"white\",\"startlinecolor\":\"#2a3f5f\"},\"baxis\":{\"endlinecolor\":\"#2a3f5f\",\"gridcolor\":\"white\",\"linecolor\":\"white\",\"minorgridcolor\":\"white\",\"startlinecolor\":\"#2a3f5f\"},\"type\":\"carpet\"}],\"table\":[{\"cells\":{\"fill\":{\"color\":\"#EBF0F8\"},\"line\":{\"color\":\"white\"}},\"header\":{\"fill\":{\"color\":\"#C8D4E3\"},\"line\":{\"color\":\"white\"}},\"type\":\"table\"}],\"barpolar\":[{\"marker\":{\"line\":{\"color\":\"#E5ECF6\",\"width\":0.5},\"pattern\":{\"fillmode\":\"overlay\",\"size\":10,\"solidity\":0.2}},\"type\":\"barpolar\"}],\"pie\":[{\"automargin\":true,\"type\":\"pie\"}]},\"layout\":{\"autotypenumbers\":\"strict\",\"colorway\":[\"#636efa\",\"#EF553B\",\"#00cc96\",\"#ab63fa\",\"#FFA15A\",\"#19d3f3\",\"#FF6692\",\"#B6E880\",\"#FF97FF\",\"#FECB52\"],\"font\":{\"color\":\"#2a3f5f\"},\"hovermode\":\"closest\",\"hoverlabel\":{\"align\":\"left\"},\"paper_bgcolor\":\"white\",\"plot_bgcolor\":\"#E5ECF6\",\"polar\":{\"bgcolor\":\"#E5ECF6\",\"angularaxis\":{\"gridcolor\":\"white\",\"linecolor\":\"white\",\"ticks\":\"\"},\"radialaxis\":{\"gridcolor\":\"white\",\"linecolor\":\"white\",\"ticks\":\"\"}},\"ternary\":{\"bgcolor\":\"#E5ECF6\",\"aaxis\":{\"gridcolor\":\"white\",\"linecolor\":\"white\",\"ticks\":\"\"},\"baxis\":{\"gridcolor\":\"white\",\"linecolor\":\"white\",\"ticks\":\"\"},\"caxis\":{\"gridcolor\":\"white\",\"linecolor\":\"white\",\"ticks\":\"\"}},\"coloraxis\":{\"colorbar\":{\"outlinewidth\":0,\"ticks\":\"\"}},\"colorscale\":{\"sequential\":[[0.0,\"#0d0887\"],[0.1111111111111111,\"#46039f\"],[0.2222222222222222,\"#7201a8\"],[0.3333333333333333,\"#9c179e\"],[0.4444444444444444,\"#bd3786\"],[0.5555555555555556,\"#d8576b\"],[0.6666666666666666,\"#ed7953\"],[0.7777777777777778,\"#fb9f3a\"],[0.8888888888888888,\"#fdca26\"],[1.0,\"#f0f921\"]],\"sequentialminus\":[[0.0,\"#0d0887\"],[0.1111111111111111,\"#46039f\"],[0.2222222222222222,\"#7201a8\"],[0.3333333333333333,\"#9c179e\"],[0.4444444444444444,\"#bd3786\"],[0.5555555555555556,\"#d8576b\"],[0.6666666666666666,\"#ed7953\"],[0.7777777777777778,\"#fb9f3a\"],[0.8888888888888888,\"#fdca26\"],[1.0,\"#f0f921\"]],\"diverging\":[[0,\"#8e0152\"],[0.1,\"#c51b7d\"],[0.2,\"#de77ae\"],[0.3,\"#f1b6da\"],[0.4,\"#fde0ef\"],[0.5,\"#f7f7f7\"],[0.6,\"#e6f5d0\"],[0.7,\"#b8e186\"],[0.8,\"#7fbc41\"],[0.9,\"#4d9221\"],[1,\"#276419\"]]},\"xaxis\":{\"gridcolor\":\"white\",\"linecolor\":\"white\",\"ticks\":\"\",\"title\":{\"standoff\":15},\"zerolinecolor\":\"white\",\"automargin\":true,\"zerolinewidth\":2},\"yaxis\":{\"gridcolor\":\"white\",\"linecolor\":\"white\",\"ticks\":\"\",\"title\":{\"standoff\":15},\"zerolinecolor\":\"white\",\"automargin\":true,\"zerolinewidth\":2},\"scene\":{\"xaxis\":{\"backgroundcolor\":\"#E5ECF6\",\"gridcolor\":\"white\",\"linecolor\":\"white\",\"showbackground\":true,\"ticks\":\"\",\"zerolinecolor\":\"white\",\"gridwidth\":2},\"yaxis\":{\"backgroundcolor\":\"#E5ECF6\",\"gridcolor\":\"white\",\"linecolor\":\"white\",\"showbackground\":true,\"ticks\":\"\",\"zerolinecolor\":\"white\",\"gridwidth\":2},\"zaxis\":{\"backgroundcolor\":\"#E5ECF6\",\"gridcolor\":\"white\",\"linecolor\":\"white\",\"showbackground\":true,\"ticks\":\"\",\"zerolinecolor\":\"white\",\"gridwidth\":2}},\"shapedefaults\":{\"line\":{\"color\":\"#2a3f5f\"}},\"annotationdefaults\":{\"arrowcolor\":\"#2a3f5f\",\"arrowhead\":0,\"arrowwidth\":1},\"geo\":{\"bgcolor\":\"white\",\"landcolor\":\"#E5ECF6\",\"subunitcolor\":\"white\",\"showland\":true,\"showlakes\":true,\"lakecolor\":\"white\"},\"title\":{\"x\":0.05},\"mapbox\":{\"style\":\"light\"}}},\"xaxis\":{\"anchor\":\"y\",\"domain\":[0.0,1.0],\"title\":{\"text\":\"Month\"},\"tickmode\":\"array\",\"tickvals\":[1,2,3,4,5,6,7,8,9,10,11,12],\"ticktext\":[\"Jan\",\"Feb\",\"Mar\",\"Apr\",\"May\",\"Jun\",\"Jul\",\"Aug\",\"Sep\",\"Oct\",\"Nov\",\"Dec\"]},\"yaxis\":{\"anchor\":\"x\",\"domain\":[0.0,1.0],\"title\":{\"text\":\"Amount spent\"}},\"legend\":{\"title\":{\"text\":\"Customer unique ID\"},\"tracegroupgap\":0},\"title\":{\"text\":\"Maximum spending customers (using customer_unique_id) for every month\"},\"barmode\":\"relative\"},                        {\"responsive\": true}                    ).then(function(){\n",
       "                            \n",
       "var gd = document.getElementById('bbbd4ee2-df2c-4bae-adb1-480c98110b05');\n",
       "var x = new MutationObserver(function (mutations, observer) {{\n",
       "        var display = window.getComputedStyle(gd).display;\n",
       "        if (!display || display === 'none') {{\n",
       "            console.log([gd, 'removed!']);\n",
       "            Plotly.purge(gd);\n",
       "            observer.disconnect();\n",
       "        }}\n",
       "}});\n",
       "\n",
       "// Listen for the removal of the full notebook cells\n",
       "var notebookContainer = gd.closest('#notebook-container');\n",
       "if (notebookContainer) {{\n",
       "    x.observe(notebookContainer, {childList: true});\n",
       "}}\n",
       "\n",
       "// Listen for the clearing of the current output cell\n",
       "var outputEl = gd.closest('.output');\n",
       "if (outputEl) {{\n",
       "    x.observe(outputEl, {childList: true});\n",
       "}}\n",
       "\n",
       "                        })                };                });            </script>        </div>"
      ]
     },
     "metadata": {},
     "output_type": "display_data"
    }
   ],
   "source": [
    "fig_2 = px.bar(df_2, x='order_purchase_month', y='month_payment', color='customer_unique_id', color_discrete_sequence=px.colors.qualitative.Dark24,\n",
    "             title='Maximum spending customers (using customer_unique_id) for every month',\n",
    "             labels={\n",
    "                 \"month_payment\":\"Amount spent\",\n",
    "                 \"customer_unique_id\": \"Customer unique ID\",\n",
    "                 \"order_purchase_month\": 'Month'\n",
    "             })\n",
    "\n",
    "fig_2.update_layout(\n",
    "    xaxis = dict(\n",
    "        tickmode = 'array',\n",
    "        tickvals = [i for i in range(1, 13)],\n",
    "        ticktext = ['Jan', 'Feb', 'Mar', 'Apr', 'May', 'Jun', 'Jul', 'Aug', 'Sep', 'Oct', 'Nov', 'Dec']\n",
    "    )\n",
    ")\n",
    "fig_2.show()"
   ]
  },
  {
   "cell_type": "code",
   "execution_count": 185,
   "id": "5bf1618a",
   "metadata": {},
   "outputs": [
    {
     "name": "stdout",
     "output_type": "stream",
     "text": [
      "+--------------------+--------------------+\n",
      "|       customer_id_1|  customer_unique_id|\n",
      "+--------------------+--------------------+\n",
      "|df55c14d1476a9a34...|da122df9eeddfedc1...|\n",
      "|349509b216bd5ec11...|da122df9eeddfedc1...|\n",
      "+--------------------+--------------------+\n",
      "\n"
     ]
    }
   ],
   "source": [
    "olist_customers_dataset.filter(\"customer_unique_id == 'da122df9eeddfedc1dc1f5349a1a690c'\").show()"
   ]
  },
  {
   "cell_type": "code",
   "execution_count": null,
   "id": "301a34ab",
   "metadata": {},
   "outputs": [],
   "source": []
  }
 ],
 "metadata": {
  "kernelspec": {
   "display_name": "Python 3 (ipykernel)",
   "language": "python",
   "name": "python3"
  },
  "language_info": {
   "codemirror_mode": {
    "name": "ipython",
    "version": 3
   },
   "file_extension": ".py",
   "mimetype": "text/x-python",
   "name": "python",
   "nbconvert_exporter": "python",
   "pygments_lexer": "ipython3",
   "version": "3.9.7"
  }
 },
 "nbformat": 4,
 "nbformat_minor": 5
}
