{
 "cells": [
  {
   "cell_type": "code",
   "execution_count": 1,
   "id": "0f4cafa5",
   "metadata": {},
   "outputs": [
    {
     "name": "stderr",
     "output_type": "stream",
     "text": [
      "WARNING: An illegal reflective access operation has occurred\n",
      "WARNING: Illegal reflective access by org.apache.spark.unsafe.Platform (file:/usr/local/spark-3.1.2-bin-hadoop3.2/jars/spark-unsafe_2.12-3.1.2.jar) to constructor java.nio.DirectByteBuffer(long,int)\n",
      "WARNING: Please consider reporting this to the maintainers of org.apache.spark.unsafe.Platform\n",
      "WARNING: Use --illegal-access=warn to enable warnings of further illegal reflective access operations\n",
      "WARNING: All illegal access operations will be denied in a future release\n",
      "22/08/16 12:27:35 WARN NativeCodeLoader: Unable to load native-hadoop library for your platform... using builtin-java classes where applicable\n",
      "Using Spark's default log4j profile: org/apache/spark/log4j-defaults.properties\n",
      "Setting default log level to \"WARN\".\n",
      "To adjust logging level use sc.setLogLevel(newLevel). For SparkR, use setLogLevel(newLevel).\n",
      "22/08/16 12:27:36 WARN Utils: Service 'SparkUI' could not bind on port 4040. Attempting port 4041.\n"
     ]
    }
   ],
   "source": [
    "from pyspark.sql import SparkSession\n",
    "from pyspark.sql.types import TimestampType\n",
    "import pyspark.sql.functions as f\n",
    "\n",
    "spark = SparkSession.builder.getOrCreate()"
   ]
  },
  {
   "cell_type": "code",
   "execution_count": 7,
   "id": "39668f4b",
   "metadata": {},
   "outputs": [],
   "source": [
    "\n",
    "# 4\n",
    "olist_order_payments_dataset = spark.read.options(header='True', inferSchema='True', delimiter=',') \\\n",
    "                            .csv(\"data/olist_order_payments_dataset.csv\")\n",
    "# 6\n",
    "olist_orders_dataset = spark.read.options(header='True', inferSchema='True', delimiter=',') \\\n",
    "                            .csv(\"data/olist_orders_dataset.csv\")\n",
    "# 1\n",
    "olist_customers_dataset = spark.read.options(header='True', inferSchema='True', delimiter=',')\\\n",
    "                               .csv('data/olist_customers_dataset.csv')"
   ]
  },
  {
   "cell_type": "code",
   "execution_count": 10,
   "id": "ec51417b",
   "metadata": {},
   "outputs": [
    {
     "name": "stdout",
     "output_type": "stream",
     "text": [
      "+--------------------+--------------------+------------------------+--------------------+--------------+\n",
      "|         customer_id|  customer_unique_id|customer_zip_code_prefix|       customer_city|customer_state|\n",
      "+--------------------+--------------------+------------------------+--------------------+--------------+\n",
      "|06b8999e2fba1a1fb...|861eff4711a542e4b...|                   14409|              franca|            SP|\n",
      "|18955e83d337fd6b2...|290c77bc529b7ac93...|                    9790|sao bernardo do c...|            SP|\n",
      "|4e7b3e00288586ebd...|060e732b5b29e8181...|                    1151|           sao paulo|            SP|\n",
      "|b2b6027bc5c5109e5...|259dac757896d24d7...|                    8775|     mogi das cruzes|            SP|\n",
      "|4f2d8ab171c80ec83...|345ecd01c38d18a90...|                   13056|            campinas|            SP|\n",
      "|879864dab9bc30475...|4c93744516667ad3b...|                   89254|      jaragua do sul|            SC|\n",
      "|fd826e7cf63160e53...|addec96d2e059c80c...|                    4534|           sao paulo|            SP|\n",
      "|5e274e7a0c3809e14...|57b2a98a409812fe9...|                   35182|             timoteo|            MG|\n",
      "|5adf08e34b2e99398...|1175e95fb47ddff9d...|                   81560|            curitiba|            PR|\n",
      "|4b7139f34592b3a31...|9afe194fb833f79e3...|                   30575|      belo horizonte|            MG|\n",
      "|9fb35e4ed6f0a14a4...|2a7745e1ed516b289...|                   39400|       montes claros|            MG|\n",
      "|5aa9e4fdd4dfd2095...|2a46fb94aef5cbeeb...|                   20231|      rio de janeiro|            RJ|\n",
      "|b2d1536598b73a9ab...|918dc87cd72cd9f6e...|                   18682|    lencois paulista|            SP|\n",
      "|eabebad39a88bb6f5...|295c05e81917928d7...|                    5704|           sao paulo|            SP|\n",
      "|1f1c7bf1c9b041b29...|3151a81801c838636...|                   95110|       caxias do sul|            RS|\n",
      "|206f3129c0e4d7d0b...|21f748a16f4e1688a...|                   13412|          piracicaba|            SP|\n",
      "|a7c125a0a07b75146...|5c2991dbd08bbf3cf...|                   22750|      rio de janeiro|            RJ|\n",
      "|c5c61596a3b6bd0ce...|b6e99561fe6f34a55...|                    7124|           guarulhos|            SP|\n",
      "|9b8ce803689b3562d...|7f3a72e8f988c6e73...|                    5416|           sao paulo|            SP|\n",
      "|49d0ea0986edde72d...|3e6fd6b2f0d499456...|                   68485|              pacaja|            PA|\n",
      "+--------------------+--------------------+------------------------+--------------------+--------------+\n",
      "only showing top 20 rows\n",
      "\n"
     ]
    }
   ],
   "source": [
    "olist_customers_dataset.show()\n"
   ]
  },
  {
   "cell_type": "code",
   "execution_count": 21,
   "id": "f61701d5",
   "metadata": {},
   "outputs": [
    {
     "name": "stdout",
     "output_type": "stream",
     "text": [
      "Distinct values in column customer_id: 99441\n",
      "Null values in column customer_id: 0\n"
     ]
    }
   ],
   "source": [
    "print(f\"Distinct values in column customer_id: {olist_customers_dataset.select('customer_id').distinct().count()}\")\n",
    "print(f\"Null values in column customer_id: {olist_customers_dataset.where(f.col('customer_id').isNull()).count()}\")\n"
   ]
  },
  {
   "cell_type": "code",
   "execution_count": 22,
   "id": "741d21e1",
   "metadata": {},
   "outputs": [
    {
     "name": "stdout",
     "output_type": "stream",
     "text": [
      "Distinct values in column customer_id: 96096\n",
      "Null values in column customer_id: 0\n"
     ]
    }
   ],
   "source": [
    "print(f\"Distinct values in column customer_id: {olist_customers_dataset.select('customer_unique_id').distinct().count()}\")\n",
    "print(f\"Null values in column customer_id: {olist_customers_dataset.where(f.col('customer_unique_id').isNull()).count()}\")"
   ]
  },
  {
   "cell_type": "code",
   "execution_count": 17,
   "id": "863a9879",
   "metadata": {},
   "outputs": [
    {
     "name": "stdout",
     "output_type": "stream",
     "text": [
      "+-------------------------------------------------+\n",
      "|count(CASE WHEN isnan(customer_id) THEN true END)|\n",
      "+-------------------------------------------------+\n",
      "|                                                0|\n",
      "+-------------------------------------------------+\n",
      "\n"
     ]
    }
   ],
   "source": []
  },
  {
   "cell_type": "code",
   "execution_count": 28,
   "id": "8bd39403",
   "metadata": {},
   "outputs": [
    {
     "name": "stdout",
     "output_type": "stream",
     "text": [
      "+--------------------------------+------------------------+-------------------+--------------+-----+\n",
      "|customer_unique_id              |customer_zip_code_prefix|customer_city      |customer_state|count|\n",
      "+--------------------------------+------------------------+-------------------+--------------+-----+\n",
      "|44bd7571a7dad968306f7776bd5a5745|7500                    |santa isabel       |SP            |2    |\n",
      "|ceb767afcf00ef4fedae42343064aa3d|5171                    |sao paulo          |SP            |2    |\n",
      "|76c9a12722537319e44c31e70b7815c3|13960                   |socorro            |SP            |2    |\n",
      "|e5b6fb6c5e7e4adc25a5e400c0104508|88070                   |florianopolis      |SC            |2    |\n",
      "|93eeb8745a219d35b7e32d796528b681|24030                   |niteroi            |RJ            |2    |\n",
      "|af842a6ed9f77511c9bf46922a29ecb5|13140                   |paulinia           |SP            |2    |\n",
      "|addc1082e059523e5ef2e7486d1d8905|3456                    |sao paulo          |SP            |2    |\n",
      "|96701d73665eab8fc6fecb9863266efe|3040                    |sao paulo          |SP            |2    |\n",
      "|ea09b32bf96ba057088e140c6bec60da|4911                    |sao paulo          |SP            |2    |\n",
      "|07df27b714016cb827c99ec2ecd5ebfb|5540                    |sao paulo          |SP            |2    |\n",
      "|acc4424c209233de519e034152f30304|23070                   |rio de janeiro     |RJ            |2    |\n",
      "|d66f438b3fcdcf22e7224aaeaf525443|3132                    |sao paulo          |SP            |2    |\n",
      "|c2e9a50bcf76b5783bc96f906f95bceb|35367                   |matipo             |MG            |2    |\n",
      "|12328d63390726821fdcd8e8b77f10b5|47690                   |coribe             |BA            |2    |\n",
      "|683459cab0129375a071efb00da7c191|13400                   |piracicaba         |SP            |2    |\n",
      "|5dbba6c01268a8ad43f79157bf4454a0|69900                   |rio branco         |AC            |2    |\n",
      "|1a24445f0e6006e4336ecba4ba576e4b|21321                   |rio de janeiro     |RJ            |2    |\n",
      "|d60483078c0c81748581f80d355bbcba|7140                    |guarulhos          |SP            |2    |\n",
      "|ab744045d2445f5bae53b57a4b99bfbf|9240                    |santo andre        |SP            |3    |\n",
      "|d7a86208b8dd2e697ddf825c386a0402|12246                   |sao jose dos campos|SP            |2    |\n",
      "+--------------------------------+------------------------+-------------------+--------------+-----+\n",
      "only showing top 20 rows\n",
      "\n"
     ]
    }
   ],
   "source": [
    "olist_customers_dataset.groupBy(\"customer_unique_id\",\"customer_zip_code_prefix\", \"customer_city\", \"customer_state\").count().filter(\"count > 1\").show(truncate=False)"
   ]
  },
  {
   "cell_type": "code",
   "execution_count": 31,
   "id": "afc34b5d",
   "metadata": {},
   "outputs": [
    {
     "name": "stdout",
     "output_type": "stream",
     "text": [
      "+--------------------------------+--------------------------------+------------------------+-------------+--------------+\n",
      "|customer_id                     |customer_unique_id              |customer_zip_code_prefix|customer_city|customer_state|\n",
      "+--------------------------------+--------------------------------+------------------------+-------------+--------------+\n",
      "|0598384cf66a6bd49ac0c725af1c74e7|ab744045d2445f5bae53b57a4b99bfbf|9240                    |santo andre  |SP            |\n",
      "|6ca87302fa8a0163488bce8e49f9996c|ab744045d2445f5bae53b57a4b99bfbf|9240                    |santo andre  |SP            |\n",
      "|9e80bf15286ac4efa8833654940b0e1f|ab744045d2445f5bae53b57a4b99bfbf|9240                    |santo andre  |SP            |\n",
      "+--------------------------------+--------------------------------+------------------------+-------------+--------------+\n",
      "\n"
     ]
    }
   ],
   "source": [
    "olist_customers_dataset.filter(\"customer_unique_id == 'ab744045d2445f5bae53b57a4b99bfbf'\").show(truncate=False)"
   ]
  },
  {
   "cell_type": "code",
   "execution_count": 32,
   "id": "2baefa53",
   "metadata": {},
   "outputs": [
    {
     "name": "stdout",
     "output_type": "stream",
     "text": [
      "+--------------------------------+--------------------------------+------------------------+-------------------+--------------+\n",
      "|customer_id                     |customer_unique_id              |customer_zip_code_prefix|customer_city      |customer_state|\n",
      "+--------------------------------+--------------------------------+------------------------+-------------------+--------------+\n",
      "|e2d7302d9765c89609899067c37f4722|d7a86208b8dd2e697ddf825c386a0402|12246                   |sao jose dos campos|SP            |\n",
      "|f976a6aa7c97f6713c9b39e5bd74e04d|d7a86208b8dd2e697ddf825c386a0402|12246                   |sao jose dos campos|SP            |\n",
      "+--------------------------------+--------------------------------+------------------------+-------------------+--------------+\n",
      "\n"
     ]
    }
   ],
   "source": [
    "olist_customers_dataset.filter(\"customer_unique_id == 'd7a86208b8dd2e697ddf825c386a0402'\").show(truncate=False)"
   ]
  },
  {
   "cell_type": "code",
   "execution_count": 33,
   "id": "9fc64d58",
   "metadata": {},
   "outputs": [
    {
     "name": "stdout",
     "output_type": "stream",
     "text": [
      "+--------------------------------+--------------------------------+------------------------+-------------+--------------+\n",
      "|customer_id                     |customer_unique_id              |customer_zip_code_prefix|customer_city|customer_state|\n",
      "+--------------------------------+--------------------------------+------------------------+-------------+--------------+\n",
      "|210b65c1eb5a1df0da71126a258cfdc3|93eeb8745a219d35b7e32d796528b681|24030                   |niteroi      |RJ            |\n",
      "|7f1a08e2635252e5e256726471ef63ad|93eeb8745a219d35b7e32d796528b681|24030                   |niteroi      |RJ            |\n",
      "+--------------------------------+--------------------------------+------------------------+-------------+--------------+\n",
      "\n"
     ]
    }
   ],
   "source": [
    "olist_customers_dataset.filter(\"customer_unique_id == '93eeb8745a219d35b7e32d796528b681'\").show(truncate=False)"
   ]
  },
  {
   "cell_type": "code",
   "execution_count": 34,
   "id": "653f61b6",
   "metadata": {},
   "outputs": [
    {
     "name": "stdout",
     "output_type": "stream",
     "text": [
      "+--------------------------------+--------------------------------+------------------------+-------------+--------------+\n",
      "|customer_id                     |customer_unique_id              |customer_zip_code_prefix|customer_city|customer_state|\n",
      "+--------------------------------+--------------------------------+------------------------+-------------+--------------+\n",
      "|3cd215d1f5e1965177ecbce1f46dbdad|af842a6ed9f77511c9bf46922a29ecb5|13140                   |paulinia     |SP            |\n",
      "|1c901dd8f6bccda64fe8582fe3dd18a8|af842a6ed9f77511c9bf46922a29ecb5|13140                   |paulinia     |SP            |\n",
      "+--------------------------------+--------------------------------+------------------------+-------------+--------------+\n",
      "\n"
     ]
    }
   ],
   "source": [
    "olist_customers_dataset.filter(\"customer_unique_id == 'af842a6ed9f77511c9bf46922a29ecb5'\").show(truncate=False)"
   ]
  },
  {
   "cell_type": "code",
   "execution_count": 35,
   "id": "6a3c34ee",
   "metadata": {},
   "outputs": [
    {
     "name": "stderr",
     "output_type": "stream",
     "text": [
      "                                                                                \r"
     ]
    }
   ],
   "source": [
    "olist_geolocation_dataset = spark.read.options(header='True', inferSchema='True', delimiter=',') \\\n",
    "                            .csv(\"data/olist_geolocation_dataset.csv\")\n"
   ]
  },
  {
   "cell_type": "code",
   "execution_count": 36,
   "id": "fbd5d05e",
   "metadata": {},
   "outputs": [
    {
     "name": "stdout",
     "output_type": "stream",
     "text": [
      "+---------------------------+-------------------+-------------------+----------------+-----------------+\n",
      "|geolocation_zip_code_prefix|    geolocation_lat|    geolocation_lng|geolocation_city|geolocation_state|\n",
      "+---------------------------+-------------------+-------------------+----------------+-----------------+\n",
      "|                       1037| -23.54562128115268| -46.63929204800168|       sao paulo|               SP|\n",
      "|                       1046|-23.546081127035535| -46.64482029837157|       sao paulo|               SP|\n",
      "|                       1046| -23.54612896641469| -46.64295148361138|       sao paulo|               SP|\n",
      "|                       1041|  -23.5443921648681| -46.63949930627844|       sao paulo|               SP|\n",
      "|                       1035|-23.541577961711493| -46.64160722329613|       sao paulo|               SP|\n",
      "|                       1012|-23.547762303364266| -46.63536053788448|       são paulo|               SP|\n",
      "|                       1047|-23.546273112412678| -46.64122516971552|       sao paulo|               SP|\n",
      "|                       1013|-23.546923208436723|  -46.6342636964915|       sao paulo|               SP|\n",
      "|                       1029|-23.543769055769133| -46.63427784085132|       sao paulo|               SP|\n",
      "|                       1011|-23.547639550320632| -46.63603162315495|       sao paulo|               SP|\n",
      "|                       1013|-23.547325128224376| -46.63418378613892|       sao paulo|               SP|\n",
      "|                       1032| -23.53841810407414|-46.634778375266734|       sao paulo|               SP|\n",
      "|                       1014|-23.546435343326205| -46.63383023397196|       sao paulo|               SP|\n",
      "|                       1012|-23.548945985189434| -46.63467113292871|       sao paulo|               SP|\n",
      "|                       1037|-23.545187340816042| -46.63785524104107|       são paulo|               SP|\n",
      "|                       1046|-23.546081127035535| -46.64482029837157|       sao paulo|               SP|\n",
      "|                       1039|-23.541883009983316| -46.63991946670314|       sao paulo|               SP|\n",
      "|                       1024|-23.541389521053937|-46.629899087812184|       são paulo|               SP|\n",
      "|                       1009| -23.54693540437998| -46.63658792659698|       sao paulo|               SP|\n",
      "|                       1046|-23.545884279214015|-46.643163191240035|       sao paulo|               SP|\n",
      "+---------------------------+-------------------+-------------------+----------------+-----------------+\n",
      "only showing top 20 rows\n",
      "\n"
     ]
    }
   ],
   "source": [
    "olist_geolocation_dataset.show()"
   ]
  },
  {
   "cell_type": "code",
   "execution_count": 38,
   "id": "ceea37d4",
   "metadata": {},
   "outputs": [
    {
     "name": "stderr",
     "output_type": "stream",
     "text": [
      "[Stage 82:==============>                                           (2 + 6) / 8]\r"
     ]
    },
    {
     "name": "stdout",
     "output_type": "stream",
     "text": [
      "+---------------------------+-------------------+-------------------+----------------+-----------------+-----+\n",
      "|geolocation_zip_code_prefix|geolocation_lat    |geolocation_lng    |geolocation_city|geolocation_state|count|\n",
      "+---------------------------+-------------------+-------------------+----------------+-----------------+-----+\n",
      "|1026                       |-23.53925652899767 |-46.633440525535235|sao paulo       |SP               |2    |\n",
      "|1106                       |-23.531062064948905|-46.629505278925556|sao paulo       |SP               |2    |\n",
      "|1241                       |-23.545792634196992|-46.6567234730798  |sao paulo       |SP               |3    |\n",
      "|1226                       |-23.538190850683794|-46.651323227306854|são paulo       |SP               |4    |\n",
      "|1223                       |-23.543735510964265|-46.65415427699233 |sao paulo       |SP               |2    |\n",
      "|1303                       |-23.551504721622702|-46.64945164585375 |sao paulo       |SP               |3    |\n",
      "|1306                       |-23.554051920624367|-46.6487385976975  |são paulo       |SP               |4    |\n",
      "|1306                       |-23.554051920624367|-46.6487385976975  |sao paulo       |SP               |6    |\n",
      "|1332                       |-23.560667077990644|-46.65212849125743 |sao paulo       |SP               |2    |\n",
      "|1404                       |-23.56708790175425 |-46.654359318339246|sao paulo       |SP               |7    |\n",
      "|1433                       |-23.577661519562607|-46.67074707591319 |sao paulo       |SP               |2    |\n",
      "|1441                       |-23.577709985861734|-46.69330789771487 |sao paulo       |SP               |4    |\n",
      "|1415                       |-23.55150606272721 |-46.654135569940564|sao paulo       |SP               |2    |\n",
      "|1532                       |-23.57418642936694 |-46.6357481924808  |são paulo       |SP               |3    |\n",
      "|2013                       |-23.501039877603997|-46.637789893011686|sao paulo       |SP               |2    |\n",
      "|2022                       |-23.503235899124   |-46.63832674543861 |sao paulo       |SP               |3    |\n",
      "|2077                       |-23.501848610046736|-46.59854287330482 |sao paulo       |SP               |4    |\n",
      "|2180                       |-23.51796174271452 |-46.56586340175424 |sao paulo       |SP               |3    |\n",
      "|2168                       |-23.52218624279628 |-46.57970414962962 |sao paulo       |SP               |2    |\n",
      "|2121                       |-23.509798868168936|-46.592326749379616|sao paulo       |SP               |2    |\n",
      "+---------------------------+-------------------+-------------------+----------------+-----------------+-----+\n",
      "only showing top 20 rows\n",
      "\n"
     ]
    },
    {
     "name": "stderr",
     "output_type": "stream",
     "text": [
      "\r",
      "                                                                                \r"
     ]
    }
   ],
   "source": [
    "olist_geolocation_dataset.groupBy(\"geolocation_zip_code_prefix\",\"geolocation_lat\",\"geolocation_lng\", \"geolocation_city\", \"geolocation_state\").count().filter(\"count > 1\").show(truncate=False)"
   ]
  },
  {
   "cell_type": "code",
   "execution_count": 42,
   "id": "591e0587",
   "metadata": {},
   "outputs": [
    {
     "name": "stdout",
     "output_type": "stream",
     "text": [
      "+---------------------------+-------------------+-------------------+----------------+-----------------+\n",
      "|geolocation_zip_code_prefix|geolocation_lat    |geolocation_lng    |geolocation_city|geolocation_state|\n",
      "+---------------------------+-------------------+-------------------+----------------+-----------------+\n",
      "|24030                      |-22.883862923138043|-43.11562368659535 |niterói         |RJ               |\n",
      "|24030                      |-22.882993846173793|-43.12165872133218 |niteroi         |RJ               |\n",
      "|24030                      |-22.890436234928647|-43.12244643342076 |niteroi         |RJ               |\n",
      "|24030                      |-22.887588762132903|-43.11781399056493 |niteroi         |RJ               |\n",
      "|24030                      |-22.892535283368957|-43.113701585175356|niteroi         |RJ               |\n",
      "|24030                      |-22.884583788747086|-43.121444329332505|niterói         |RJ               |\n",
      "|24030                      |-22.885338477347375|-43.11521808185754 |niteroi         |RJ               |\n",
      "|24030                      |-22.89680079072655 |-43.12273300155787 |niteroi         |RJ               |\n",
      "|24030                      |-22.885087600323228|-43.12293184194123 |niteroi         |RJ               |\n",
      "|24030                      |-22.889483634456788|-43.11828498182236 |niteroi         |RJ               |\n",
      "|24030                      |-22.896421545117146|-43.11231576552474 |niteroi         |RJ               |\n",
      "|24030                      |-22.889726929686983|-43.121221106449966|niteroi         |RJ               |\n",
      "|24030                      |-22.890725860529923|-43.11406538805429 |niteroi         |RJ               |\n",
      "|24030                      |-22.881300299954525|-43.12211759998485 |niteroi         |RJ               |\n",
      "|24030                      |-22.8842989000808  |-43.12335302065914 |niteroi         |RJ               |\n",
      "|24030                      |-22.886053983899835|-43.12220199512392 |niteroi         |RJ               |\n",
      "|24030                      |-22.881300299954525|-43.12211759998485 |niteroi         |RJ               |\n",
      "|24030                      |-22.889328846781755|-43.11682096333334 |niteroi         |RJ               |\n",
      "|24030                      |-22.89256538412488 |-43.119922949910496|niterói         |RJ               |\n",
      "|24030                      |-22.889685380652125|-43.11938335843864 |niteroi         |RJ               |\n",
      "+---------------------------+-------------------+-------------------+----------------+-----------------+\n",
      "only showing top 20 rows\n",
      "\n"
     ]
    }
   ],
   "source": [
    "olist_geolocation_dataset.filter(\"geolocation_zip_code_prefix == '24030'\").show(truncate=False)"
   ]
  },
  {
   "cell_type": "code",
   "execution_count": 41,
   "id": "b3000ffa",
   "metadata": {},
   "outputs": [
    {
     "name": "stdout",
     "output_type": "stream",
     "text": [
      "+--------------------------------+--------------------------------+------------------------+-------------+--------------+\n",
      "|customer_id                     |customer_unique_id              |customer_zip_code_prefix|customer_city|customer_state|\n",
      "+--------------------------------+--------------------------------+------------------------+-------------+--------------+\n",
      "|da89768d5e47c76c1b3f2694e6c8f6a9|3bfe238d63378a92a404dc5c8ca31944|24030                   |niteroi      |RJ            |\n",
      "|71fdbaa760e25ef2449d79d1c4264021|776469358dc5cbca9e8987fa110d804a|24030                   |niteroi      |RJ            |\n",
      "|315d30072434c1feda91ba8676b54a25|22eecffbc2e4e56747eb329d96051962|24030                   |niteroi      |RJ            |\n",
      "|c1d3f90ae6566b0d6e0673d6a2de44d0|6856178ce177496369e3a83fd143e621|24030                   |niteroi      |RJ            |\n",
      "|8e6e118324e9b1a48fb079c5eee2d6ff|35c75f00917e33d1db28551ee906324e|24030                   |niteroi      |RJ            |\n",
      "|7f16d43cea70ede77ed426833543f3d6|6d4cbfa39985224e48a1bce59f5582e8|24030                   |niteroi      |RJ            |\n",
      "|210b65c1eb5a1df0da71126a258cfdc3|93eeb8745a219d35b7e32d796528b681|24030                   |niteroi      |RJ            |\n",
      "|a85f4461b4976515bf01ad76776638f9|a53b3da0cf3e158e78cad26c27a06d19|24030                   |niteroi      |RJ            |\n",
      "|393aae05549738ac7aaf9eea48768622|ed61830f49acb8f6926d5bfad923fc57|24030                   |niteroi      |RJ            |\n",
      "|5e57094d1ada2e661c8181b09765e0b5|5827a5de2baaea8fc423b608e06e1fb9|24030                   |niteroi      |RJ            |\n",
      "|941d03f0883fa067d8897ef31b501488|a53b3da0cf3e158e78cad26c27a06d19|24030                   |niteroi      |RJ            |\n",
      "|d1e9170a646370074dda424098fe10eb|95e7a0dd1929f9eb1be58075c99ac31e|24030                   |niteroi      |RJ            |\n",
      "|9ea4c5abbde4a7a943a9fb80a85176c3|0a8247e80253bcc2df41d9e770e07b67|24030                   |niteroi      |RJ            |\n",
      "|8d5de156173d208b9016b71852a670c3|d7b96a32d30b16c6e8c5af7087648ef0|24030                   |niteroi      |RJ            |\n",
      "|f7053eddb66314ab05cf2f344a75d04a|b31aa93dac6498f90336874e4d17f3d6|24030                   |niteroi      |RJ            |\n",
      "|6285985007f6fe44b21f65e3d0f5ec97|3c318225b706dec78fe46660529688fe|24030                   |niteroi      |RJ            |\n",
      "|9184be9401fc9b2bf61cf71bc64e8a2e|418b52303f8ba25bdf11d39ae6512ecf|24030                   |niteroi      |RJ            |\n",
      "|7f1a08e2635252e5e256726471ef63ad|93eeb8745a219d35b7e32d796528b681|24030                   |niteroi      |RJ            |\n",
      "|e34415cb97f778cce5acc0023594bb94|0fba92a4fd7e281bcd5c8d5f0cdb5f91|24030                   |niteroi      |RJ            |\n",
      "|06a2924116558070913fd36d2b01039c|d8b149991a6cff2088d31b0c3c419670|24030                   |niteroi      |RJ            |\n",
      "+--------------------------------+--------------------------------+------------------------+-------------+--------------+\n",
      "only showing top 20 rows\n",
      "\n"
     ]
    }
   ],
   "source": [
    "olist_customers_dataset.filter(\"customer_zip_code_prefix == '24030'\").show(truncate=False)"
   ]
  },
  {
   "cell_type": "code",
   "execution_count": null,
   "id": "c607b179",
   "metadata": {},
   "outputs": [],
   "source": []
  }
 ],
 "metadata": {
  "kernelspec": {
   "display_name": "Python 3 (ipykernel)",
   "language": "python",
   "name": "python3"
  },
  "language_info": {
   "codemirror_mode": {
    "name": "ipython",
    "version": 3
   },
   "file_extension": ".py",
   "mimetype": "text/x-python",
   "name": "python",
   "nbconvert_exporter": "python",
   "pygments_lexer": "ipython3",
   "version": "3.9.7"
  }
 },
 "nbformat": 4,
 "nbformat_minor": 5
}
