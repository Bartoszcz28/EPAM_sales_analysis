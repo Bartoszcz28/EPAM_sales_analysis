{
 "cells": [
  {
   "cell_type": "code",
   "execution_count": 2,
   "id": "b572d996",
   "metadata": {},
   "outputs": [
    {
     "name": "stderr",
     "output_type": "stream",
     "text": [
      "WARNING: An illegal reflective access operation has occurred\n",
      "WARNING: Illegal reflective access by org.apache.spark.unsafe.Platform (file:/usr/local/spark-3.1.2-bin-hadoop3.2/jars/spark-unsafe_2.12-3.1.2.jar) to constructor java.nio.DirectByteBuffer(long,int)\n",
      "WARNING: Please consider reporting this to the maintainers of org.apache.spark.unsafe.Platform\n",
      "WARNING: Use --illegal-access=warn to enable warnings of further illegal reflective access operations\n",
      "WARNING: All illegal access operations will be denied in a future release\n",
      "22/08/13 20:11:05 WARN NativeCodeLoader: Unable to load native-hadoop library for your platform... using builtin-java classes where applicable\n",
      "Using Spark's default log4j profile: org/apache/spark/log4j-defaults.properties\n",
      "Setting default log level to \"WARN\".\n",
      "To adjust logging level use sc.setLogLevel(newLevel). For SparkR, use setLogLevel(newLevel).\n",
      "22/08/13 20:11:06 WARN Utils: Service 'SparkUI' could not bind on port 4040. Attempting port 4041.\n",
      "22/08/13 20:11:06 WARN Utils: Service 'SparkUI' could not bind on port 4041. Attempting port 4042.\n",
      "22/08/13 20:11:06 WARN Utils: Service 'SparkUI' could not bind on port 4042. Attempting port 4043.\n",
      "22/08/13 20:11:06 WARN Utils: Service 'SparkUI' could not bind on port 4043. Attempting port 4044.\n",
      "22/08/13 20:11:06 WARN Utils: Service 'SparkUI' could not bind on port 4044. Attempting port 4045.\n"
     ]
    }
   ],
   "source": [
    "from pyspark.sql import SparkSession\n",
    "from pyspark.sql.functions import *\n",
    "from pyspark.sql.types import TimestampType\n",
    "import pyspark.sql.functions as F\n",
    "\n",
    "spark = SparkSession.builder.getOrCreate()"
   ]
  },
  {
   "cell_type": "code",
   "execution_count": 3,
   "id": "2fba95ad",
   "metadata": {},
   "outputs": [],
   "source": [
    "# 3\n",
    "olist_order_items_dataset = spark.read.options(header='True', inferSchema='True', delimiter=',') \\\n",
    "                            .csv(\"data/olist_order_items_dataset.csv\")\n",
    "# 8\n",
    "olist_sellers_dataset = spark.read.options(header='True', inferSchema='True', delimiter=',') \\\n",
    "                            .csv(\"data/olist_sellers_dataset.csv\")"
   ]
  },
  {
   "cell_type": "code",
   "execution_count": 5,
   "id": "76cc9376",
   "metadata": {},
   "outputs": [
    {
     "name": "stdout",
     "output_type": "stream",
     "text": [
      "+--------------------+-------------+--------------------+--------------------+-------------------+------+-------------+\n",
      "|            order_id|order_item_id|          product_id|           seller_id|shipping_limit_date| price|freight_value|\n",
      "+--------------------+-------------+--------------------+--------------------+-------------------+------+-------------+\n",
      "|00010242fe8c5a6d1...|            1|4244733e06e7ecb49...|48436dade18ac8b2b...|2017-09-19 09:45:35|  58.9|        13.29|\n",
      "|00018f77f2f0320c5...|            1|e5f2d52b802189ee6...|dd7ddc04e1b6c2c61...|2017-05-03 11:05:13| 239.9|        19.93|\n",
      "|000229ec398224ef6...|            1|c777355d18b72b67a...|5b51032eddd242adc...|2018-01-18 14:48:30| 199.0|        17.87|\n",
      "|00024acbcdf0a6daa...|            1|7634da152a4610f15...|9d7a1d34a50524090...|2018-08-15 10:10:18| 12.99|        12.79|\n",
      "|00042b26cf59d7ce6...|            1|ac6c3623068f30de0...|df560393f3a51e745...|2017-02-13 13:57:51| 199.9|        18.14|\n",
      "|00048cc3ae777c65d...|            1|ef92defde845ab845...|6426d21aca402a131...|2017-05-23 03:55:27|  21.9|        12.69|\n",
      "|00054e8431b9d7675...|            1|8d4f2bb7e93e6710a...|7040e82f899a04d1b...|2017-12-14 12:10:31|  19.9|        11.85|\n",
      "|000576fe39319847c...|            1|557d850972a7d6f79...|5996cddab893a4652...|2018-07-10 12:30:45| 810.0|        70.75|\n",
      "|0005a1a1728c9d785...|            1|310ae3c140ff94b03...|a416b6a846a117243...|2018-03-26 18:31:29|145.95|        11.65|\n",
      "|0005f50442cb953dc...|            1|4535b0e1091c278df...|ba143b05f0110f0dc...|2018-07-06 14:10:56| 53.99|         11.4|\n",
      "|00061f2a7bc09da83...|            1|d63c1011f49d98b97...|cc419e0650a3c5ba7...|2018-03-29 22:28:09| 59.99|         8.88|\n",
      "|00063b381e2406b52...|            1|f177554ea93259a5b...|8602a61d680a10a82...|2018-07-31 17:30:39|  45.0|        12.98|\n",
      "|0006ec9db01a64e59...|            1|99a4788cb24856965...|4a3ca9315b744ce9f...|2018-07-26 17:24:20|  74.0|        23.32|\n",
      "|0008288aa423d2a3f...|            1|368c6c730842d7801...|1f50f920176fa81da...|2018-02-21 02:55:52|  49.9|        13.37|\n",
      "|0008288aa423d2a3f...|            2|368c6c730842d7801...|1f50f920176fa81da...|2018-02-21 02:55:52|  49.9|        13.37|\n",
      "|0009792311464db53...|            1|8cab8abac59158715...|530ec6109d11eaaf8...|2018-08-17 12:15:10|  99.9|        27.65|\n",
      "|0009c9a17f916a706...|            1|3f27ac8e699df3d30...|fcb5ace8bcc92f757...|2018-05-02 09:31:53| 639.0|        11.34|\n",
      "|000aed2e25dbad2f9...|            1|4fa33915031a8cde0...|fe2032dab1a61af87...|2018-05-16 20:57:03| 144.0|         8.77|\n",
      "|000c3e6612759851c...|            1|b50c950aba0dcead2...|218d46b86c1881d02...|2017-08-21 03:33:13|  99.0|        13.71|\n",
      "|000e562887b1f2006...|            1|5ed9eaf534f6936b5...|8cbac7e12637ed9cf...|2018-02-28 12:08:37|  25.0|        16.11|\n",
      "+--------------------+-------------+--------------------+--------------------+-------------------+------+-------------+\n",
      "only showing top 20 rows\n",
      "\n",
      "+--------------------+----------------------+-----------------+------------+\n",
      "|           seller_id|seller_zip_code_prefix|      seller_city|seller_state|\n",
      "+--------------------+----------------------+-----------------+------------+\n",
      "|3442f8959a84dea7e...|                 13023|         campinas|          SP|\n",
      "|d1b65fc7debc3361e...|                 13844|       mogi guacu|          SP|\n",
      "|ce3ad9de960102d06...|                 20031|   rio de janeiro|          RJ|\n",
      "|c0f3eea2e14555b6f...|                  4195|        sao paulo|          SP|\n",
      "|51a04a8a6bdcb23de...|                 12914|braganca paulista|          SP|\n",
      "|c240c4061717ac180...|                 20920|   rio de janeiro|          RJ|\n",
      "|e49c26c3edfa46d22...|                 55325|           brejao|          PE|\n",
      "|1b938a7ec6ac5061a...|                 16304|        penapolis|          SP|\n",
      "|768a86e36ad6aae3d...|                  1529|        sao paulo|          SP|\n",
      "|ccc4bbb5f32a6ab2b...|                 80310|         curitiba|          PR|\n",
      "|8cb7c5ddf41f4d506...|                 75110|         anapolis|          GO|\n",
      "|a7a9b880c49781da6...|                 13530|        itirapina|          SP|\n",
      "|8bd0f31cf0a614c65...|                  1222|        sao paulo|          SP|\n",
      "|05a48cc8859962767...|                  5372|        sao paulo|          SP|\n",
      "|7b8e8ec35bad4b0ef...|                 88705|          tubarao|          SC|\n",
      "|1444c08e64d55fb3c...|                 42738| lauro de freitas|          BA|\n",
      "|166e8f1381e096519...|                 88780|         imbituba|          SC|\n",
      "|e38db885400cd35c7...|                 70740|         brasilia|          DF|\n",
      "|d2e753bb80b7d4faa...|                 45810|     porto seguro|          BA|\n",
      "|f9ec7093df3a7b346...|                  5138|        sao paulo|          SP|\n",
      "+--------------------+----------------------+-----------------+------------+\n",
      "only showing top 20 rows\n",
      "\n"
     ]
    }
   ],
   "source": [
    "olist_order_items_dataset.show()\n",
    "olist_sellers_dataset.show()"
   ]
  },
  {
   "cell_type": "code",
   "execution_count": 7,
   "id": "278fac42",
   "metadata": {},
   "outputs": [
    {
     "name": "stdout",
     "output_type": "stream",
     "text": [
      "+------+--------------------+--------------------+------------+\n",
      "| price|           seller_id|         seller_city|seller_state|\n",
      "+------+--------------------+--------------------+------------+\n",
      "|  58.9|48436dade18ac8b2b...|       volta redonda|          SP|\n",
      "| 239.9|dd7ddc04e1b6c2c61...|           sao paulo|          SP|\n",
      "| 199.0|5b51032eddd242adc...|       borda da mata|          MG|\n",
      "| 12.99|9d7a1d34a50524090...|              franca|          SP|\n",
      "| 199.9|df560393f3a51e745...|              loanda|          PR|\n",
      "|  21.9|6426d21aca402a131...|      ribeirao preto|          SP|\n",
      "|  19.9|7040e82f899a04d1b...|           sao paulo|          SP|\n",
      "| 810.0|5996cddab893a4652...| presidente prudente|          SP|\n",
      "|145.95|a416b6a846a117243...|           sao paulo|          SP|\n",
      "| 53.99|ba143b05f0110f0dc...|           sao paulo|          SP|\n",
      "| 59.99|cc419e0650a3c5ba7...|         santo andre|          SP|\n",
      "|  45.0|8602a61d680a10a82...|           sao paulo|          SP|\n",
      "|  74.0|4a3ca9315b744ce9f...|            ibitinga|          SP|\n",
      "|  49.9|1f50f920176fa81da...|sao jose do rio p...|          SP|\n",
      "|  49.9|1f50f920176fa81da...|sao jose do rio p...|          SP|\n",
      "|  99.9|530ec6109d11eaaf8...|            cascavel|          PR|\n",
      "| 639.0|fcb5ace8bcc92f757...|           guarulhos|          SP|\n",
      "| 144.0|fe2032dab1a61af87...|            campinas|          SP|\n",
      "|  99.0|218d46b86c1881d02...|      ribeirao preto|          SP|\n",
      "|  25.0|8cbac7e12637ed9cf...|      jaragua do sul|          SC|\n",
      "+------+--------------------+--------------------+------------+\n",
      "only showing top 20 rows\n",
      "\n"
     ]
    }
   ],
   "source": [
    "items = olist_order_items_dataset.select(col(\"seller_id\").alias(\"seller_id_2\"),\"price\")\n",
    "sellers = olist_sellers_dataset.select(\"seller_id\",\"seller_city\",\"seller_state\")\n",
    "join_table = items.join(sellers, items.seller_id_2 == sellers.seller_id, \"Inner\")\n",
    "join_table = join_table.drop(\"seller_id_2\")\n",
    "join_table.show()"
   ]
  },
  {
   "cell_type": "code",
   "execution_count": 10,
   "id": "a736d44a",
   "metadata": {},
   "outputs": [],
   "source": [
    "join_table.createOrReplaceTempView(\"join_table\")"
   ]
  },
  {
   "cell_type": "markdown",
   "id": "e6171b65",
   "metadata": {},
   "source": [
    "#### Order by seller_state"
   ]
  },
  {
   "cell_type": "code",
   "execution_count": 27,
   "id": "0681d23d",
   "metadata": {},
   "outputs": [
    {
     "name": "stderr",
     "output_type": "stream",
     "text": [
      "\r",
      "[Stage 93:==================================================>   (186 + 8) / 200]\r",
      "\r",
      "                                                                                \r"
     ]
    },
    {
     "name": "stdout",
     "output_type": "stream",
     "text": [
      "+--------------------+------------+---------+\n",
      "|           seller_id|seller_state|sum_price|\n",
      "+--------------------+------------+---------+\n",
      "|04308b1ee57b6625f...|          SC|  60131.0|\n",
      "|eeb6de78f79159600...|          SC|  43740.0|\n",
      "|3364a91ec4d56c98e...|          RO|   3580.0|\n",
      "|a5259c149128e82c9...|          RO|   1182.0|\n",
      "|47efca563408aae19...|          PI|   2522.0|\n",
      "|327b89b872c14d1c0...|          AM|   1177.0|\n",
      "|9d5a9018aee56acb3...|          GO|  10292.0|\n",
      "|750303a20e9c56b2a...|          GO|   8085.0|\n",
      "|2dee2ce60de9709b1...|          MT|   7785.0|\n",
      "|abcd2cb37d46c2c8f...|          MT|   4880.0|\n",
      "|4869f7a5dfa277a7d...|          SP| 229473.0|\n",
      "|4a3ca9315b744ce9f...|          SP| 200473.0|\n",
      "|001cca7ae9ae17fb1...|          ES|  25080.0|\n",
      "|33dd941c27854f762...|          ES|   6788.0|\n",
      "|a6bd7d1ccdac48c6b...|          PB|  14369.0|\n",
      "|07017df32dc5f2f1d...|          PB|    946.0|\n",
      "|87142160b41353c4e...|          RS|  31096.0|\n",
      "|b32be1695eb7ec5f1...|          RS|  26874.0|\n",
      "|b1fecf4da1fa2689b...|          MS|   3670.0|\n",
      "|9c068d10aca38e85c...|          MS|   2659.0|\n",
      "+--------------------+------------+---------+\n",
      "only showing top 20 rows\n",
      "\n"
     ]
    }
   ],
   "source": [
    "df = spark.sql(\"\"\"WITH seller AS (\n",
    "               SELECT\n",
    "               seller_id,\n",
    "               seller_state,\n",
    "               ROUND(SUM(price)) AS sum_price\n",
    "               FROM join_table\n",
    "               GROUP BY seller_state, seller_id\n",
    "               )\n",
    "               SELECT seller_id, seller_state, sum_price\n",
    "               FROM (SELECT *,\n",
    "               ROW_NUMBER() OVER(PARTITION BY seller_state ORDER BY sum_price DESC) AS row_number\n",
    "               FROM seller)\n",
    "               WHERE row_number < 3\n",
    "               \"\"\")\n",
    "df.show()"
   ]
  },
  {
   "cell_type": "markdown",
   "id": "d6c1477d",
   "metadata": {},
   "source": [
    "#### Order by seller_city"
   ]
  },
  {
   "cell_type": "code",
   "execution_count": 28,
   "id": "9028a41e",
   "metadata": {},
   "outputs": [
    {
     "name": "stdout",
     "output_type": "stream",
     "text": [
      "+--------------------+--------------------+---------+\n",
      "|           seller_id|         seller_city|sum_price|\n",
      "+--------------------+--------------------+---------+\n",
      "|da20530872245d6cd...|           igrejinha|    315.0|\n",
      "|c33847515fa6305ce...|             brusque|  15520.0|\n",
      "|ad97a199236354e53...|             brusque|  13206.0|\n",
      "|2c4c47cb51acd5ea5...|            buritama|   2576.0|\n",
      "|f181738b150df1f37...|         carapicuiba|   5530.0|\n",
      "|f680f85bee2d25355...|         carapicuiba|   5184.0|\n",
      "|60da8bfa7eebe230b...|    fernando prestes|     87.0|\n",
      "|527801b552d0077ff...|               garca|  17943.0|\n",
      "|c12b92bf1c350f3e6...|               garca|   4809.0|\n",
      "|e333046ce6517bd8b...|             ipaussu|   7268.0|\n",
      "|3c03b12bab54d8b37...|  sao joao de meriti|   4236.0|\n",
      "|117cfc326c6d50da6...|  sao joao de meriti|    455.0|\n",
      "|45213867cefbf2cd4...|              araras|   4955.0|\n",
      "|31da954dc0855f249...|              araras|   4583.0|\n",
      "|7a241947449cc45db...|           jacutinga|   8028.0|\n",
      "|198c7ea11960a9844...|           jacutinga|   1734.0|\n",
      "|2bf6a2c1e71bbd29a...|       nova friburgo|  50629.0|\n",
      "|c26a2be5b53b7db6b...|       nova friburgo|   7482.0|\n",
      "|da6a60cc8cc724fe5...| sao pedro da aldeia|    729.0|\n",
      "|c9c7905cffc4ef9ff...|itapecerica da serra|  10657.0|\n",
      "+--------------------+--------------------+---------+\n",
      "only showing top 20 rows\n",
      "\n"
     ]
    },
    {
     "name": "stderr",
     "output_type": "stream",
     "text": [
      "22/08/14 13:15:44 WARN HeartbeatReceiver: Removing executor driver with no recent heartbeats: 5692441 ms exceeds timeout 120000 ms\n",
      "22/08/14 13:15:44 WARN SparkContext: Killing executors is not supported by current scheduler.\n"
     ]
    }
   ],
   "source": [
    "df = spark.sql(\"\"\"WITH seller AS (\n",
    "               SELECT\n",
    "               seller_id,\n",
    "               seller_city,\n",
    "               ROUND(SUM(price)) AS sum_price\n",
    "               FROM join_table\n",
    "               GROUP BY seller_city, seller_id\n",
    "               )\n",
    "               SELECT seller_id, seller_city, sum_price\n",
    "               FROM (SELECT *,\n",
    "               ROW_NUMBER() OVER(PARTITION BY seller_city ORDER BY sum_price DESC) AS row_number\n",
    "               FROM seller)\n",
    "               WHERE row_number < 3\n",
    "               \"\"\")\n",
    "df.show()"
   ]
  },
  {
   "cell_type": "code",
   "execution_count": null,
   "id": "75eaefb7",
   "metadata": {},
   "outputs": [],
   "source": []
  }
 ],
 "metadata": {
  "kernelspec": {
   "display_name": "Python 3 (ipykernel)",
   "language": "python",
   "name": "python3"
  },
  "language_info": {
   "codemirror_mode": {
    "name": "ipython",
    "version": 3
   },
   "file_extension": ".py",
   "mimetype": "text/x-python",
   "name": "python",
   "nbconvert_exporter": "python",
   "pygments_lexer": "ipython3",
   "version": "3.9.7"
  }
 },
 "nbformat": 4,
 "nbformat_minor": 5
}
