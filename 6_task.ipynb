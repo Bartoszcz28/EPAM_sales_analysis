{
 "cells": [
  {
   "cell_type": "code",
   "execution_count": 1,
   "id": "a17f12fd",
   "metadata": {},
   "outputs": [
    {
     "name": "stderr",
     "output_type": "stream",
     "text": [
      "WARNING: An illegal reflective access operation has occurred\n",
      "WARNING: Illegal reflective access by org.apache.spark.unsafe.Platform (file:/usr/local/spark-3.1.2-bin-hadoop3.2/jars/spark-unsafe_2.12-3.1.2.jar) to constructor java.nio.DirectByteBuffer(long,int)\n",
      "WARNING: Please consider reporting this to the maintainers of org.apache.spark.unsafe.Platform\n",
      "WARNING: Use --illegal-access=warn to enable warnings of further illegal reflective access operations\n",
      "WARNING: All illegal access operations will be denied in a future release\n",
      "22/08/16 09:59:01 WARN NativeCodeLoader: Unable to load native-hadoop library for your platform... using builtin-java classes where applicable\n",
      "Using Spark's default log4j profile: org/apache/spark/log4j-defaults.properties\n",
      "Setting default log level to \"WARN\".\n",
      "To adjust logging level use sc.setLogLevel(newLevel). For SparkR, use setLogLevel(newLevel).\n",
      "22/08/16 09:59:02 WARN Utils: Service 'SparkUI' could not bind on port 4040. Attempting port 4041.\n",
      "22/08/16 09:59:02 WARN Utils: Service 'SparkUI' could not bind on port 4041. Attempting port 4042.\n",
      "22/08/16 09:59:02 WARN Utils: Service 'SparkUI' could not bind on port 4042. Attempting port 4043.\n",
      "22/08/16 09:59:02 WARN Utils: Service 'SparkUI' could not bind on port 4043. Attempting port 4044.\n",
      "22/08/16 09:59:02 WARN Utils: Service 'SparkUI' could not bind on port 4044. Attempting port 4045.\n",
      "22/08/16 09:59:02 WARN Utils: Service 'SparkUI' could not bind on port 4045. Attempting port 4046.\n",
      "22/08/16 09:59:02 WARN Utils: Service 'SparkUI' could not bind on port 4046. Attempting port 4047.\n",
      "22/08/16 09:59:02 WARN Utils: Service 'SparkUI' could not bind on port 4047. Attempting port 4048.\n"
     ]
    }
   ],
   "source": [
    "from pyspark.sql import SparkSession\n",
    "from pyspark.sql.functions import *\n",
    "from pyspark.sql.types import TimestampType\n",
    "import pyspark.sql.functions as F\n",
    "import pandas as pd\n",
    "import plotly.express as px\n",
    "\n",
    "spark = SparkSession.builder.getOrCreate()"
   ]
  },
  {
   "cell_type": "code",
   "execution_count": 2,
   "id": "6c3efb19",
   "metadata": {},
   "outputs": [
    {
     "name": "stderr",
     "output_type": "stream",
     "text": [
      "                                                                                \r"
     ]
    }
   ],
   "source": [
    "# 6\n",
    "olist_orders_dataset = spark.read.options(header='True', inferSchema='True', delimiter=',') \\\n",
    "                            .csv(\"data/olist_orders_dataset.csv\")"
   ]
  },
  {
   "cell_type": "code",
   "execution_count": 3,
   "id": "54476933",
   "metadata": {},
   "outputs": [
    {
     "data": {
      "text/plain": [
       "['order_id',\n",
       " 'customer_id',\n",
       " 'order_status',\n",
       " 'order_purchase_timestamp',\n",
       " 'order_approved_at',\n",
       " 'order_delivered_carrier_date',\n",
       " 'order_delivered_customer_date',\n",
       " 'order_estimated_delivery_date']"
      ]
     },
     "execution_count": 3,
     "metadata": {},
     "output_type": "execute_result"
    }
   ],
   "source": [
    "olist_orders_dataset.columns"
   ]
  },
  {
   "cell_type": "code",
   "execution_count": 4,
   "id": "1ae88e47",
   "metadata": {},
   "outputs": [
    {
     "name": "stdout",
     "output_type": "stream",
     "text": [
      "+--------------------+----------------------------+-----------------------------+\n",
      "|            order_id|order_delivered_carrier_date|order_estimated_delivery_date|\n",
      "+--------------------+----------------------------+-----------------------------+\n",
      "|e481f51cbdc54678b...|                  2017-10-04|                   2017-10-18|\n",
      "|53cdb2fc8bc7dce0b...|                  2018-07-26|                   2018-08-13|\n",
      "|47770eb9100c2d0c4...|                  2018-08-08|                   2018-09-04|\n",
      "|949d5b44dbf5de918...|                  2017-11-22|                   2017-12-15|\n",
      "|ad21c59c0840e6cb8...|                  2018-02-14|                   2018-02-26|\n",
      "|a4591c265e18cb1dc...|                  2017-07-11|                   2017-08-01|\n",
      "|136cce7faa42fdb2c...|                        null|                   2017-05-09|\n",
      "|6514b8ad8028c9f2c...|                  2017-05-22|                   2017-06-07|\n",
      "|76c6e866289321a7c...|                  2017-01-26|                   2017-03-06|\n",
      "|e69bfb5eb88e0ed6a...|                  2017-08-10|                   2017-08-23|\n",
      "|e6ce16cb79ec1d90b...|                  2017-05-18|                   2017-06-07|\n",
      "|34513ce0c4fab462a...|                  2017-07-14|                   2017-08-08|\n",
      "|82566a660a982b15f...|                  2018-06-11|                   2018-07-18|\n",
      "|5ff96c15d0b717ac6...|                  2018-07-26|                   2018-08-08|\n",
      "|432aaf21d85167c2c...|                  2018-03-02|                   2018-03-21|\n",
      "|dcb36b511fcac050b...|                  2018-06-11|                   2018-07-04|\n",
      "|403b97836b0c04a62...|                  2018-01-03|                   2018-02-06|\n",
      "|116f0b09343b49556...|                  2017-12-28|                   2018-01-29|\n",
      "|85ce859fd6dc634de...|                  2017-11-23|                   2017-12-11|\n",
      "|83018ec114eee8641...|                  2017-10-26|                   2017-11-23|\n",
      "+--------------------+----------------------------+-----------------------------+\n",
      "only showing top 20 rows\n",
      "\n"
     ]
    }
   ],
   "source": [
    "orders = olist_orders_dataset.select(\"order_id\",\"order_delivered_carrier_date\",\"order_estimated_delivery_date\")\n",
    "orders = orders.withColumn('order_delivered_carrier_date',to_date(unix_timestamp \\\n",
    "            (orders.order_delivered_carrier_date, 'yyyy-MM-dd HH:mm:ss').cast('timestamp'))) \\\n",
    "            .withColumn('order_estimated_delivery_date',to_date(unix_timestamp \\\n",
    "            (orders.order_estimated_delivery_date, 'yyyy-MM-dd HH:mm:ss').cast('timestamp')))\n",
    "orders.show()"
   ]
  },
  {
   "cell_type": "code",
   "execution_count": 5,
   "id": "f9d83357",
   "metadata": {},
   "outputs": [
    {
     "data": {
      "text/plain": [
       "[('order_id', 'string'),\n",
       " ('order_delivered_carrier_date', 'date'),\n",
       " ('order_estimated_delivery_date', 'date')]"
      ]
     },
     "execution_count": 5,
     "metadata": {},
     "output_type": "execute_result"
    }
   ],
   "source": [
    "orders.dtypes"
   ]
  },
  {
   "cell_type": "markdown",
   "id": "09dcba7f",
   "metadata": {},
   "source": [
    "#### We drop rows with null values because we assume that these orders never will by deliverd"
   ]
  },
  {
   "cell_type": "code",
   "execution_count": 6,
   "id": "8cb7a7db",
   "metadata": {},
   "outputs": [],
   "source": [
    "orders = orders.na.drop(\"any\")"
   ]
  },
  {
   "cell_type": "markdown",
   "id": "cbc50cf3",
   "metadata": {},
   "source": [
    "#### two_days column description\n",
    "__True__ - order was sent more then 2 days before expected delivery date   \n",
    "__False__ - The order has not been shipped more than two days before the expected delivery date"
   ]
  },
  {
   "cell_type": "code",
   "execution_count": 7,
   "id": "86cd4e0c",
   "metadata": {},
   "outputs": [
    {
     "name": "stdout",
     "output_type": "stream",
     "text": [
      "+--------------------+----------------------------+-----------------------------+--------+\n",
      "|            order_id|order_delivered_carrier_date|order_estimated_delivery_date|two_days|\n",
      "+--------------------+----------------------------+-----------------------------+--------+\n",
      "|e481f51cbdc54678b...|                  2017-10-04|                   2017-10-18|    true|\n",
      "|53cdb2fc8bc7dce0b...|                  2018-07-26|                   2018-08-13|    true|\n",
      "|47770eb9100c2d0c4...|                  2018-08-08|                   2018-09-04|    true|\n",
      "|949d5b44dbf5de918...|                  2017-11-22|                   2017-12-15|    true|\n",
      "|ad21c59c0840e6cb8...|                  2018-02-14|                   2018-02-26|    true|\n",
      "|a4591c265e18cb1dc...|                  2017-07-11|                   2017-08-01|    true|\n",
      "|6514b8ad8028c9f2c...|                  2017-05-22|                   2017-06-07|    true|\n",
      "|76c6e866289321a7c...|                  2017-01-26|                   2017-03-06|    true|\n",
      "|e69bfb5eb88e0ed6a...|                  2017-08-10|                   2017-08-23|    true|\n",
      "|e6ce16cb79ec1d90b...|                  2017-05-18|                   2017-06-07|    true|\n",
      "|34513ce0c4fab462a...|                  2017-07-14|                   2017-08-08|    true|\n",
      "|82566a660a982b15f...|                  2018-06-11|                   2018-07-18|    true|\n",
      "|5ff96c15d0b717ac6...|                  2018-07-26|                   2018-08-08|    true|\n",
      "|432aaf21d85167c2c...|                  2018-03-02|                   2018-03-21|    true|\n",
      "|dcb36b511fcac050b...|                  2018-06-11|                   2018-07-04|    true|\n",
      "|403b97836b0c04a62...|                  2018-01-03|                   2018-02-06|    true|\n",
      "|116f0b09343b49556...|                  2017-12-28|                   2018-01-29|    true|\n",
      "|85ce859fd6dc634de...|                  2017-11-23|                   2017-12-11|    true|\n",
      "|83018ec114eee8641...|                  2017-10-26|                   2017-11-23|    true|\n",
      "|203096f03d82e0dff...|                  2017-10-06|                   2017-09-28|   false|\n",
      "+--------------------+----------------------------+-----------------------------+--------+\n",
      "only showing top 20 rows\n",
      "\n"
     ]
    }
   ],
   "source": [
    "orders_big = orders.withColumn('two_days', F.date_add(orders['order_delivered_carrier_date'],2))\n",
    "orders_big = orders_big.withColumn(\"two_days\", F.when(F.col(\"two_days\") < F.col(\"order_estimated_delivery_date\"), True) \\\n",
    "                                   .otherwise(False))\n",
    "orders_big.show()"
   ]
  },
  {
   "cell_type": "code",
   "execution_count": 8,
   "id": "fee67f39",
   "metadata": {},
   "outputs": [
    {
     "data": {
      "text/plain": [
       "[('order_id', 'string'),\n",
       " ('order_delivered_carrier_date', 'date'),\n",
       " ('order_estimated_delivery_date', 'date'),\n",
       " ('two_days', 'boolean')]"
      ]
     },
     "execution_count": 8,
     "metadata": {},
     "output_type": "execute_result"
    }
   ],
   "source": [
    "orders_big.dtypes"
   ]
  },
  {
   "cell_type": "code",
   "execution_count": null,
   "id": "a4187522",
   "metadata": {},
   "outputs": [],
   "source": [
    "pie = {}\n",
    "pie[\"t_value\"] = orders_big.where(F.col('two_days')==\"true\").count()\n",
    "pie[\"f_value\"] = orders_big.where(F.col('two_days')==\"false\").count()\n",
    "df = pd.DataFrame(pie.items())"
   ]
  },
  {
   "cell_type": "code",
   "execution_count": null,
   "id": "19647da3",
   "metadata": {},
   "outputs": [],
   "source": [
    "fig = px.pie(df, values=1, \n",
    "             names=[\"Shipped more than 2 days before scheduled delivery date\",\"Shipped less than 2 days before scheduled delivery date\"],\n",
    "             title='Percentage of parcels not shipped more than 2 days before the scheduled delivery date')\n",
    "fig.show()"
   ]
  }
 ],
 "metadata": {
  "kernelspec": {
   "display_name": "Python 3 (ipykernel)",
   "language": "python",
   "name": "python3"
  },
  "language_info": {
   "codemirror_mode": {
    "name": "ipython",
    "version": 3
   },
   "file_extension": ".py",
   "mimetype": "text/x-python",
   "name": "python",
   "nbconvert_exporter": "python",
   "pygments_lexer": "ipython3",
   "version": "3.9.7"
  }
 },
 "nbformat": 4,
 "nbformat_minor": 5
}
