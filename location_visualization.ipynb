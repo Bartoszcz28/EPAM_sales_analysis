{
 "cells": [
  {
   "cell_type": "code",
   "execution_count": 1,
   "id": "1e1aceed",
   "metadata": {},
   "outputs": [],
   "source": [
    "from pyspark.sql import SparkSession\n",
    "from pyspark.sql.functions import *\n",
    "from pyspark.sql.types import TimestampType\n",
    "import pyspark.sql.functions as F\n",
    "import folium\n",
    "from folium import plugins\n",
    "from IPython.display import clear_output\n",
    "import pandas as pd\n",
    "\n",
    "spark = SparkSession.builder.getOrCreate()"
   ]
  },
  {
   "cell_type": "code",
   "execution_count": 2,
   "id": "ec3c34df",
   "metadata": {},
   "outputs": [
    {
     "name": "stderr",
     "output_type": "stream",
     "text": [
      "                                                                                \r"
     ]
    }
   ],
   "source": [
    "# 2\n",
    "olist_geolocation_dataset = spark.read.options(header='True', inferSchema='True', delimiter=',') \\\n",
    "                            .csv(\"data/olist_geolocation_dataset.csv\")"
   ]
  },
  {
   "cell_type": "code",
   "execution_count": 3,
   "id": "c697baea",
   "metadata": {},
   "outputs": [],
   "source": [
    "my_map = folium.Map()\n",
    "world = folium.Map(\n",
    "    zoom_start=11,\n",
    "    location=[-23.54, -46.63], prefer_canvas=True)"
   ]
  },
  {
   "cell_type": "code",
   "execution_count": 4,
   "id": "256fa93c",
   "metadata": {},
   "outputs": [],
   "source": [
    "world.save('Map_sell.html')"
   ]
  },
  {
   "cell_type": "code",
   "execution_count": 5,
   "id": "262a3c74",
   "metadata": {},
   "outputs": [],
   "source": [
    "lok_sell = olist_geolocation_dataset.select(\"geolocation_lat\",\"geolocation_lng\")"
   ]
  },
  {
   "cell_type": "code",
   "execution_count": 6,
   "id": "7bd8a0b5",
   "metadata": {},
   "outputs": [
    {
     "name": "stdout",
     "output_type": "stream",
     "text": [
      "+-------------------+-------------------+\n",
      "|    geolocation_lat|    geolocation_lng|\n",
      "+-------------------+-------------------+\n",
      "| -23.54562128115268| -46.63929204800168|\n",
      "|-23.546081127035535| -46.64482029837157|\n",
      "| -23.54612896641469| -46.64295148361138|\n",
      "|  -23.5443921648681| -46.63949930627844|\n",
      "|-23.541577961711493| -46.64160722329613|\n",
      "|-23.547762303364266| -46.63536053788448|\n",
      "|-23.546273112412678| -46.64122516971552|\n",
      "|-23.546923208436723|  -46.6342636964915|\n",
      "|-23.543769055769133| -46.63427784085132|\n",
      "|-23.547639550320632| -46.63603162315495|\n",
      "|-23.547325128224376| -46.63418378613892|\n",
      "| -23.53841810407414|-46.634778375266734|\n",
      "|-23.546435343326205| -46.63383023397196|\n",
      "|-23.548945985189434| -46.63467113292871|\n",
      "|-23.545187340816042| -46.63785524104107|\n",
      "|-23.546081127035535| -46.64482029837157|\n",
      "|-23.541883009983316| -46.63991946670314|\n",
      "|-23.541389521053937|-46.629899087812184|\n",
      "| -23.54693540437998| -46.63658792659698|\n",
      "|-23.545884279214015|-46.643163191240035|\n",
      "+-------------------+-------------------+\n",
      "only showing top 20 rows\n",
      "\n"
     ]
    }
   ],
   "source": [
    "lok_sell.show()"
   ]
  },
  {
   "cell_type": "code",
   "execution_count": 7,
   "id": "7f4d1ade",
   "metadata": {},
   "outputs": [
    {
     "name": "stderr",
     "output_type": "stream",
     "text": [
      "                                                                                \r"
     ]
    },
    {
     "data": {
      "text/plain": [
       "718463"
      ]
     },
     "execution_count": 7,
     "metadata": {},
     "output_type": "execute_result"
    }
   ],
   "source": [
    "df2 = lok_sell.dropDuplicates()\n",
    "df2.count()"
   ]
  },
  {
   "cell_type": "code",
   "execution_count": 8,
   "id": "0669f663",
   "metadata": {},
   "outputs": [
    {
     "name": "stderr",
     "output_type": "stream",
     "text": [
      "                                                                                \r"
     ]
    },
    {
     "data": {
      "text/plain": [
       "0.7183459096167325"
      ]
     },
     "execution_count": 8,
     "metadata": {},
     "output_type": "execute_result"
    }
   ],
   "source": [
    "df2.count()/lok_sell.count()"
   ]
  },
  {
   "cell_type": "markdown",
   "id": "3b4b1073",
   "metadata": {},
   "source": [
    "#### We have no value Null"
   ]
  },
  {
   "cell_type": "code",
   "execution_count": 9,
   "id": "e4caa93d",
   "metadata": {},
   "outputs": [
    {
     "name": "stderr",
     "output_type": "stream",
     "text": [
      "                                                                                \r"
     ]
    },
    {
     "name": "stdout",
     "output_type": "stream",
     "text": [
      "Null values in geolocation_lat: 0\n",
      "Null values in geolocation_lng: 0\n"
     ]
    },
    {
     "name": "stderr",
     "output_type": "stream",
     "text": [
      "\r",
      "[Stage 13:=======>                                                  (1 + 7) / 8]\r",
      "\r",
      "                                                                                \r"
     ]
    }
   ],
   "source": [
    "print(f\"Null values in geolocation_lat: {lok_sell.where(F.col('geolocation_lat').isNull()).count()}\")\n",
    "print(f\"Null values in geolocation_lng: {lok_sell.where(F.col('geolocation_lng').isNull()).count()}\")"
   ]
  },
  {
   "cell_type": "code",
   "execution_count": 18,
   "id": "6975d121",
   "metadata": {},
   "outputs": [
    {
     "data": {
      "text/plain": [
       "10060"
      ]
     },
     "execution_count": 18,
     "metadata": {},
     "output_type": "execute_result"
    }
   ],
   "source": [
    "# lok_samp = lok_sell\n",
    "lok_samp = lok_sell.sample(0.01)\n",
    "lok_samp.count()"
   ]
  },
  {
   "cell_type": "markdown",
   "id": "e74ef95b",
   "metadata": {},
   "source": [
    "#### How we can speed up this loop?"
   ]
  },
  {
   "cell_type": "code",
   "execution_count": null,
   "id": "40e6bdb6",
   "metadata": {},
   "outputs": [],
   "source": [
    "i = 0\n",
    "x = lok_samp.count()\n",
    "for row in range(lok_samp.count()):\n",
    "    i += 1\n",
    "    folium.CircleMarker(\n",
    "        location=[lok_samp.collect()[row]['geolocation_lat'], lok_samp.collect()[row]['geolocation_lng']],\n",
    "        radius=3,\n",
    "#         popup='My Birthplace',\n",
    "        color='red',\n",
    "        fill=True,\n",
    "        fill_color='red',\n",
    "        fill_opacity=1\n",
    "    ).add_to(world)\n",
    "    clear_output(wait=True)\n",
    "    print(f\"{i}/{x}\")"
   ]
  },
  {
   "cell_type": "markdown",
   "id": "71bfe4e0",
   "metadata": {},
   "source": [
    "#### Why pandas works more than 100 times faster than pyspark?"
   ]
  },
  {
   "cell_type": "code",
   "execution_count": 19,
   "id": "f7637246",
   "metadata": {},
   "outputs": [
    {
     "name": "stderr",
     "output_type": "stream",
     "text": [
      "\r",
      "[Stage 23:=======>                                                  (1 + 7) / 8]\r",
      "\r",
      "                                                                                \r"
     ]
    }
   ],
   "source": [
    "pd_lok_samp = lok_samp.toPandas()"
   ]
  },
  {
   "cell_type": "code",
   "execution_count": 20,
   "id": "c9b536c8",
   "metadata": {},
   "outputs": [
    {
     "name": "stdout",
     "output_type": "stream",
     "text": [
      "10060/10060\n"
     ]
    }
   ],
   "source": [
    "i = 0\n",
    "x = len(pd_lok_samp.index)\n",
    "for row in range(len(pd_lok_samp.index)):\n",
    "    i += 1\n",
    "    folium.CircleMarker(\n",
    "        location=[pd_lok_samp.at[row,'geolocation_lat'], pd_lok_samp.at[row,'geolocation_lng']],\n",
    "        radius=1,\n",
    "#         popup='My Birthplace',\n",
    "        color='red',\n",
    "        fill=True,\n",
    "        fill_color='red',\n",
    "        fill_opacity=1\n",
    "    ).add_to(world)\n",
    "    clear_output(wait=True)\n",
    "    print(f\"{i}/{x}\")"
   ]
  },
  {
   "cell_type": "code",
   "execution_count": 21,
   "id": "600ef787",
   "metadata": {},
   "outputs": [],
   "source": [
    "world.save('Map_sell.html')"
   ]
  },
  {
   "cell_type": "code",
   "execution_count": null,
   "id": "eada1595",
   "metadata": {},
   "outputs": [],
   "source": []
  }
 ],
 "metadata": {
  "kernelspec": {
   "display_name": "Python 3 (ipykernel)",
   "language": "python",
   "name": "python3"
  },
  "language_info": {
   "codemirror_mode": {
    "name": "ipython",
    "version": 3
   },
   "file_extension": ".py",
   "mimetype": "text/x-python",
   "name": "python",
   "nbconvert_exporter": "python",
   "pygments_lexer": "ipython3",
   "version": "3.9.7"
  }
 },
 "nbformat": 4,
 "nbformat_minor": 5
}
