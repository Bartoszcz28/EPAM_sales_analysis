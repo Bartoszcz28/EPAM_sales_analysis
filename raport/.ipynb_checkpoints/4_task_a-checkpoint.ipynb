{
 "cells": [
  {
   "cell_type": "markdown",
   "id": "dcb8d926",
   "metadata": {},
   "source": [
    "## Task 4 \n",
    "**Top 2 Highest earning sellers by each location.**</br>\n",
    "> We have 2 tables with sales history and data with all of the sellers. Sellers are assigned to one location. Our task is to find two sellers with highest profits grouped by location. Because we have information about state and city we will find top sellers grouping by those two categories. We assume that the revenue is equal to price of a product. At the end we will create the map of the whole country with scaled markers according to the number of sales done and revenue gained. "
   ]
  },
  {
   "cell_type": "code",
   "execution_count": 1,
   "id": "b572d996",
   "metadata": {},
   "outputs": [
    {
     "name": "stderr",
     "output_type": "stream",
     "text": [
      "WARNING: An illegal reflective access operation has occurred\n",
      "WARNING: Illegal reflective access by org.apache.spark.unsafe.Platform (file:/usr/local/spark-3.1.2-bin-hadoop3.2/jars/spark-unsafe_2.12-3.1.2.jar) to constructor java.nio.DirectByteBuffer(long,int)\n",
      "WARNING: Please consider reporting this to the maintainers of org.apache.spark.unsafe.Platform\n",
      "WARNING: Use --illegal-access=warn to enable warnings of further illegal reflective access operations\n",
      "WARNING: All illegal access operations will be denied in a future release\n",
      "22/08/17 19:00:26 WARN NativeCodeLoader: Unable to load native-hadoop library for your platform... using builtin-java classes where applicable\n",
      "Using Spark's default log4j profile: org/apache/spark/log4j-defaults.properties\n",
      "Setting default log level to \"WARN\".\n",
      "To adjust logging level use sc.setLogLevel(newLevel). For SparkR, use setLogLevel(newLevel).\n",
      "22/08/17 19:00:28 WARN Utils: Service 'SparkUI' could not bind on port 4040. Attempting port 4041.\n",
      "22/08/17 19:00:28 WARN Utils: Service 'SparkUI' could not bind on port 4041. Attempting port 4042.\n",
      "22/08/17 19:00:28 WARN Utils: Service 'SparkUI' could not bind on port 4042. Attempting port 4043.\n"
     ]
    }
   ],
   "source": [
    "from pyspark.sql import SparkSession\n",
    "from pyspark.sql.functions import *\n",
    "from pyspark.sql.types import TimestampType\n",
    "import pyspark.sql.functions as F\n",
    "from pyspark.sql.window import Window\n",
    "import folium\n",
    "from folium import plugins\n",
    "from IPython.display import clear_output\n",
    "import pandas as pd\n",
    "\n",
    "spark = SparkSession.builder.getOrCreate()"
   ]
  },
  {
   "cell_type": "code",
   "execution_count": 2,
   "id": "2fba95ad",
   "metadata": {},
   "outputs": [],
   "source": [
    "# Reading data from parquet and selecting only needed columns\n",
    "# Orders data\n",
    "items = spark.read.parquet('data_parquet/olist_order_items_dataset.parquet')\\\n",
    "    .select('order_id','seller_id','price')\n",
    "# Sellers data \n",
    "sellers = spark.read.parquet('data_parquet/olist_sellers_dataset.parquet')\\\n",
    "    .select('seller_id','seller_zip_code_prefix','seller_city','seller_state')\\\n",
    "    .withColumnRenamed('seller_zip_code_prefix','zip_code')\n",
    "# Geolocation data \n",
    "geo = spark.read.parquet('data_parquet/olist_geolocation_dataset.parquet')\\\n",
    "    .select('geolocation_zip_code_prefix','geolocation_lat','geolocation_lng')\\\n",
    "    .withColumnRenamed('geolocation_zip_code_prefix','zip_code')\\\n",
    "    .groupBy('zip_code')\\\n",
    "    .agg({'geolocation_lat':'avg','geolocation_lng':'avg'})\\\n",
    "    .withColumnRenamed('avg(geolocation_lat)','lat')\\\n",
    "    .withColumnRenamed('avg(geolocation_lng)','lng')\n",
    "# Orders data \n",
    "orders = spark.read.parquet('data_parquet/olist_orders_dataset.parquet')\\\n",
    "    .select('order_id','order_purchase_timestamp')\n",
    "\n",
    "# |-- order_id: string (nullable = true)\n",
    "# |-- seller_id: string (nullable = true)\n",
    "# |-- price: double (nullable = true)\n",
    "\n",
    "# |-- seller_id: string (nullable = true)\n",
    "# |-- seller_zip_code_prefix: integer (nullable = true)\n",
    "# |-- seller_city: string (nullable = true)\n",
    "# |-- seller_state: string (nullable = true)\n",
    "\n",
    "# |-- geolocation_zip_code_prefix: integer (nullable = true)\n",
    "# |-- lat: double (nullable = true)\n",
    "# |-- lng: double (nullable = true)\n",
    "\n",
    "# |-- order_id: string (nullable = true)\n",
    "# |-- order_purchase_timestamp: string (nullable = true)"
   ]
  },
  {
   "cell_type": "code",
   "execution_count": 3,
   "id": "278fac42",
   "metadata": {
    "scrolled": true
   },
   "outputs": [],
   "source": [
    "# Calculating sum of money earned by sellers \n",
    "# and joining sellers table to be able to calculate \n",
    "# money earned partitioning by location \n",
    "sales = items\\\n",
    "    .groupBy('seller_id')\\\n",
    "    .agg({'price':'sum'})\\\n",
    "    .withColumnRenamed('sum(price)','revenue')\\\n",
    "    .join(sellers,['seller_id'])"
   ]
  },
  {
   "cell_type": "markdown",
   "id": "4d009f29",
   "metadata": {},
   "source": [
    "### Top 2 sellers in every state\n",
    "**using pyspark dataframe**"
   ]
  },
  {
   "cell_type": "code",
   "execution_count": 4,
   "id": "e14138b8",
   "metadata": {
    "scrolled": true
   },
   "outputs": [],
   "source": [
    "# Partition by state\n",
    "window_state = Window.partitionBy('seller_state').orderBy(col('revenue').desc())\n",
    "state_df = sales\\\n",
    "    .withColumn('rank',rank().over(window_state))\\\n",
    "    .filter(col('rank')<=2)\\\n",
    "    .select('seller_id','seller_state','revenue')\\\n",
    "    .orderBy(col('revenue').desc())"
   ]
  },
  {
   "cell_type": "markdown",
   "id": "fe15a8ff",
   "metadata": {},
   "source": [
    "### Top 2 sellers in every city\n",
    "**using pyspark dataframe**"
   ]
  },
  {
   "cell_type": "code",
   "execution_count": 5,
   "id": "52765bae",
   "metadata": {},
   "outputs": [],
   "source": [
    "# Partition by city\n",
    "window_state = Window.partitionBy('seller_city').orderBy(col('revenue').desc())\n",
    "city_df = sales\\\n",
    "    .withColumn('rank',rank().over(window_state))\\\n",
    "    .filter(col('rank')<=2)\\\n",
    "    .select('seller_id','seller_city','revenue')\\\n",
    "    .orderBy(col('revenue').desc())"
   ]
  },
  {
   "cell_type": "code",
   "execution_count": 6,
   "id": "09198c56",
   "metadata": {
    "scrolled": true
   },
   "outputs": [
    {
     "name": "stdout",
     "output_type": "stream",
     "text": [
      "Top 2 sellers from every state:\n",
      "\n"
     ]
    },
    {
     "name": "stderr",
     "output_type": "stream",
     "text": [
      "                                                                                \r"
     ]
    },
    {
     "name": "stdout",
     "output_type": "stream",
     "text": [
      "+--------------------+------------+------------------+\n",
      "|           seller_id|seller_state|           revenue|\n",
      "+--------------------+------------+------------------+\n",
      "|4869f7a5dfa277a7d...|          SP| 229472.6300000005|\n",
      "|53243585a1d6dc264...|          BA|222776.05000000002|\n",
      "|4a3ca9315b744ce9f...|          SP| 200472.9200000013|\n",
      "|46dc3b2cc0980fb8e...|          RJ|128111.19000000028|\n",
      "|620c87c171fb2a6dd...|          RJ|114774.50000000041|\n",
      "|a1043bafd471dff53...|          MG|101901.16000000018|\n",
      "|ccc4bbb5f32a6ab2b...|          PR|          74004.62|\n",
      "|04308b1ee57b6625f...|          SC| 60130.59999999999|\n",
      "|522620dcb18a6b31c...|          PR| 57168.48999999999|\n",
      "|de722cd6dad950a92...|          PE|55426.099999999926|\n",
      "|25c5c91f63607446a...|          MG| 54679.21999999999|\n",
      "|eeb6de78f79159600...|          SC|43739.840000000004|\n",
      "+--------------------+------------+------------------+\n",
      "only showing top 12 rows\n",
      "\n",
      "\n",
      "Top 2 sellers from every city:\n",
      "\n"
     ]
    },
    {
     "name": "stderr",
     "output_type": "stream",
     "text": [
      "\r",
      "[Stage 10:====================================>                 (135 + 8) / 200]\r",
      "\r",
      "[Stage 10:================================================>     (181 + 8) / 200]\r"
     ]
    },
    {
     "name": "stdout",
     "output_type": "stream",
     "text": [
      "+--------------------+----------------+------------------+\n",
      "|           seller_id|     seller_city|           revenue|\n",
      "+--------------------+----------------+------------------+\n",
      "|4869f7a5dfa277a7d...|         guariba| 229472.6300000005|\n",
      "|53243585a1d6dc264...|lauro de freitas|222776.05000000002|\n",
      "|4a3ca9315b744ce9f...|        ibitinga| 200472.9200000013|\n",
      "|fa1c13f2614d7b5c4...|          sumare|194042.03000000038|\n",
      "|7c67e1448b00f6e96...| itaquaquecetuba|         187923.89|\n",
      "|7e93a43ef30c4f03f...|         barueri|         176431.87|\n",
      "|da8622b14eb17ae28...|      piracicaba|160236.57000000114|\n",
      "|7a67c85e85bb2ce85...|       sao paulo|141745.53000000032|\n",
      "|1025f0e2d44d7041d...|       sao paulo|138968.55000000022|\n",
      "|46dc3b2cc0980fb8e...|  rio de janeiro|128111.19000000028|\n",
      "|620c87c171fb2a6dd...|      petropolis|114774.50000000041|\n",
      "|7d13fca1522535862...|  ribeirao preto|113628.97000000007|\n",
      "+--------------------+----------------+------------------+\n",
      "only showing top 12 rows\n",
      "\n"
     ]
    },
    {
     "name": "stderr",
     "output_type": "stream",
     "text": [
      "\r",
      "                                                                                \r"
     ]
    }
   ],
   "source": [
    "# Showing first 12 results from answer. First calculated for states and second for cities. \n",
    "print('Top 2 sellers from every state:\\n')\n",
    "state_df.show(12)\n",
    "print('\\nTop 2 sellers from every city:\\n')\n",
    "city_df.show(12)"
   ]
  },
  {
   "cell_type": "markdown",
   "id": "c81832c5",
   "metadata": {},
   "source": [
    "### Creating map with sales markers "
   ]
  },
  {
   "cell_type": "code",
   "execution_count": 7,
   "id": "ca929af8",
   "metadata": {},
   "outputs": [],
   "source": [
    "# Creating data frame with different locations sum of sales and number of sales \n",
    "salesmap_df = sales.join(geo,'zip_code','left').orderBy(col('revenue').desc())\n",
    "salescity_df = salesmap_df\\\n",
    "    .groupby('seller_city')\\\n",
    "    .agg({'revenue':'sum','lat':'avg','lng':'avg','seller_state':'count'})\\\n",
    "    .orderBy(col('sum(revenue)'))\\\n",
    "    .select('seller_city',\n",
    "            col('sum(revenue)').alias('revenue'),\n",
    "            col('count(seller_state)').alias('count'),\n",
    "            col('avg(lat)').alias('lat'),\n",
    "            col('avg(lng)').alias('lng'))\n",
    "\n",
    "salesstate_df = salesmap_df\\\n",
    "    .groupby('seller_state')\\\n",
    "    .agg({'revenue':'sum','lat':'avg','lng':'avg','seller_city':'count'})\\\n",
    "    .orderBy(col('sum(revenue)'))\\\n",
    "    .select('seller_state',\n",
    "            col('sum(revenue)').alias('revenue'),\n",
    "            col('count(seller_city)').alias('count'),\n",
    "            col('avg(lat)').alias('lat'),\n",
    "            col('avg(lng)').alias('lng'))"
   ]
  },
  {
   "cell_type": "code",
   "execution_count": 8,
   "id": "5296e354",
   "metadata": {},
   "outputs": [],
   "source": [
    "# Function for further grouping of our results \n",
    "def count_group(x):\n",
    "    if x>1500:\n",
    "        return 0\n",
    "    elif x>200:\n",
    "        return 1\n",
    "    elif x>100:\n",
    "        return 2\n",
    "    elif x>20:\n",
    "        return 3\n",
    "    elif x>10:\n",
    "        return 4\n",
    "    else:\n",
    "        return 5\n",
    "def sum_group(x):\n",
    "    if x>8000000:\n",
    "        return 0\n",
    "    elif x>1000000:\n",
    "        return 1\n",
    "    elif x>500000:\n",
    "        return 2\n",
    "    elif x>50000:\n",
    "        return 3\n",
    "    elif x>10000:\n",
    "        return 4\n",
    "    else:\n",
    "        return 5"
   ]
  },
  {
   "cell_type": "code",
   "execution_count": 9,
   "id": "8f295bbf",
   "metadata": {},
   "outputs": [
    {
     "name": "stderr",
     "output_type": "stream",
     "text": [
      "                                                                                \r"
     ]
    }
   ],
   "source": [
    "# Collect values from loc_df\n",
    "# loc_data[i][j] | 0-seller state, 1-revenue, 2-count, 3-lat, 4-lng\n",
    "REV = 1\n",
    "COUNT = 2\n",
    "LAT = 3\n",
    "LNG = 4\n",
    "\n",
    "colors = ['#CE4C18','#D58321','#D5B421','#C3E839','#43A85F','#66CF83']\n",
    "sizes = [25,12,8,5,3,1]\n",
    "# Collect max num of sales \n",
    "loc_data = salesstate_df.collect()\n",
    "i = 0\n",
    "# W poprzednim pliku pętla for dla pysparka była spowolniona \n",
    "# przez to że collect był wywoływany w każdej iteracji pętli \n",
    "# zamiast raz przed pętlą for\n",
    "# Initialize folium map\n",
    "sales_map = folium.Map(zoom_start=4,location=[-23.54, -48.91], prefer_canvas=True)\n",
    "for row in range(salesstate_df.count()):\n",
    "    folium.CircleMarker(\n",
    "        location=[loc_data[i][LAT],loc_data[i][LNG]],\n",
    "        radius=sizes[count_group(loc_data[i][COUNT])],\n",
    "        color=colors[count_group(loc_data[i][COUNT])],\n",
    "        fill=True,\n",
    "        fill_color=colors[count_group(loc_data[i][COUNT])],\n",
    "        fill_opacity=1,\n",
    "        popup=loc_data[i][COUNT],\n",
    "        tooltip=loc_data[i][COUNT]\n",
    "    ).add_to(sales_map)\n",
    "    i += 1\n",
    "sales_map.save('state_sales_map.html')\n",
    "\n",
    "# Reinitialize folium map\n",
    "sales_map = folium.Map(zoom_start=4,location=[-23.54, -48.91], prefer_canvas=True)\n",
    "loc_data = salescity_df.collect()\n",
    "i = 0\n",
    "for row in range(salescity_df.count()):\n",
    "    folium.CircleMarker(\n",
    "        location=[loc_data[i][LAT],loc_data[i][LNG]],\n",
    "        radius=sizes[count_group(loc_data[i][COUNT])],\n",
    "        color=colors[count_group(loc_data[i][COUNT])],\n",
    "        fill=True,\n",
    "        fill_color=colors[count_group(loc_data[i][COUNT])],\n",
    "        fill_opacity=1,\n",
    "        popup=loc_data[i][COUNT],\n",
    "        tooltip=loc_data[i][COUNT]\n",
    "    ).add_to(sales_map)\n",
    "    i += 1\n",
    "sales_map.save('city_sales_map.html')"
   ]
  },
  {
   "cell_type": "markdown",
   "id": "f860f797",
   "metadata": {},
   "source": [
    "# Map with markers scaled by number of sales done in the given city\n",
    "<img src='sales_map.png'/>"
   ]
  },
  {
   "cell_type": "code",
   "execution_count": 14,
   "id": "2e39e7c2",
   "metadata": {},
   "outputs": [
    {
     "ename": "WebDriverException",
     "evalue": "Message: 'geckodriver' executable needs to be in PATH. \n",
     "output_type": "error",
     "traceback": [
      "\u001b[0;31m---------------------------------------------------------------------------\u001b[0m",
      "\u001b[0;31mFileNotFoundError\u001b[0m                         Traceback (most recent call last)",
      "\u001b[0;32m/opt/conda/lib/python3.9/site-packages/selenium/webdriver/common/service.py\u001b[0m in \u001b[0;36mstart\u001b[0;34m(self)\u001b[0m\n\u001b[1;32m     70\u001b[0m             \u001b[0mcmd\u001b[0m\u001b[0;34m.\u001b[0m\u001b[0mextend\u001b[0m\u001b[0;34m(\u001b[0m\u001b[0mself\u001b[0m\u001b[0;34m.\u001b[0m\u001b[0mcommand_line_args\u001b[0m\u001b[0;34m(\u001b[0m\u001b[0;34m)\u001b[0m\u001b[0;34m)\u001b[0m\u001b[0;34m\u001b[0m\u001b[0;34m\u001b[0m\u001b[0m\n\u001b[0;32m---> 71\u001b[0;31m             self.process = subprocess.Popen(cmd, env=self.env,\n\u001b[0m\u001b[1;32m     72\u001b[0m                                             \u001b[0mclose_fds\u001b[0m\u001b[0;34m=\u001b[0m\u001b[0msystem\u001b[0m\u001b[0;34m(\u001b[0m\u001b[0;34m)\u001b[0m \u001b[0;34m!=\u001b[0m \u001b[0;34m'Windows'\u001b[0m\u001b[0;34m,\u001b[0m\u001b[0;34m\u001b[0m\u001b[0;34m\u001b[0m\u001b[0m\n",
      "\u001b[0;32m/opt/conda/lib/python3.9/subprocess.py\u001b[0m in \u001b[0;36m__init__\u001b[0;34m(self, args, bufsize, executable, stdin, stdout, stderr, preexec_fn, close_fds, shell, cwd, env, universal_newlines, startupinfo, creationflags, restore_signals, start_new_session, pass_fds, user, group, extra_groups, encoding, errors, text, umask)\u001b[0m\n\u001b[1;32m    950\u001b[0m \u001b[0;34m\u001b[0m\u001b[0m\n\u001b[0;32m--> 951\u001b[0;31m             self._execute_child(args, executable, preexec_fn, close_fds,\n\u001b[0m\u001b[1;32m    952\u001b[0m                                 \u001b[0mpass_fds\u001b[0m\u001b[0;34m,\u001b[0m \u001b[0mcwd\u001b[0m\u001b[0;34m,\u001b[0m \u001b[0menv\u001b[0m\u001b[0;34m,\u001b[0m\u001b[0;34m\u001b[0m\u001b[0;34m\u001b[0m\u001b[0m\n",
      "\u001b[0;32m/opt/conda/lib/python3.9/subprocess.py\u001b[0m in \u001b[0;36m_execute_child\u001b[0;34m(self, args, executable, preexec_fn, close_fds, pass_fds, cwd, env, startupinfo, creationflags, shell, p2cread, p2cwrite, c2pread, c2pwrite, errread, errwrite, restore_signals, gid, gids, uid, umask, start_new_session)\u001b[0m\n\u001b[1;32m   1820\u001b[0m                         \u001b[0merr_msg\u001b[0m \u001b[0;34m=\u001b[0m \u001b[0mos\u001b[0m\u001b[0;34m.\u001b[0m\u001b[0mstrerror\u001b[0m\u001b[0;34m(\u001b[0m\u001b[0merrno_num\u001b[0m\u001b[0;34m)\u001b[0m\u001b[0;34m\u001b[0m\u001b[0;34m\u001b[0m\u001b[0m\n\u001b[0;32m-> 1821\u001b[0;31m                     \u001b[0;32mraise\u001b[0m \u001b[0mchild_exception_type\u001b[0m\u001b[0;34m(\u001b[0m\u001b[0merrno_num\u001b[0m\u001b[0;34m,\u001b[0m \u001b[0merr_msg\u001b[0m\u001b[0;34m,\u001b[0m \u001b[0merr_filename\u001b[0m\u001b[0;34m)\u001b[0m\u001b[0;34m\u001b[0m\u001b[0;34m\u001b[0m\u001b[0m\n\u001b[0m\u001b[1;32m   1822\u001b[0m                 \u001b[0;32mraise\u001b[0m \u001b[0mchild_exception_type\u001b[0m\u001b[0;34m(\u001b[0m\u001b[0merr_msg\u001b[0m\u001b[0;34m)\u001b[0m\u001b[0;34m\u001b[0m\u001b[0;34m\u001b[0m\u001b[0m\n",
      "\u001b[0;31mFileNotFoundError\u001b[0m: [Errno 2] No such file or directory: 'geckodriver'",
      "\nDuring handling of the above exception, another exception occurred:\n",
      "\u001b[0;31mWebDriverException\u001b[0m                        Traceback (most recent call last)",
      "\u001b[0;32m/tmp/ipykernel_2824/4211282548.py\u001b[0m in \u001b[0;36m<module>\u001b[0;34m\u001b[0m\n\u001b[1;32m      4\u001b[0m \u001b[0;32mfrom\u001b[0m \u001b[0mPIL\u001b[0m \u001b[0;32mimport\u001b[0m \u001b[0mImage\u001b[0m\u001b[0;34m\u001b[0m\u001b[0;34m\u001b[0m\u001b[0m\n\u001b[1;32m      5\u001b[0m \u001b[0;34m\u001b[0m\u001b[0m\n\u001b[0;32m----> 6\u001b[0;31m \u001b[0mimg_data\u001b[0m \u001b[0;34m=\u001b[0m \u001b[0msales_map\u001b[0m\u001b[0;34m.\u001b[0m\u001b[0m_to_png\u001b[0m\u001b[0;34m(\u001b[0m\u001b[0;36m5\u001b[0m\u001b[0;34m)\u001b[0m\u001b[0;34m\u001b[0m\u001b[0;34m\u001b[0m\u001b[0m\n\u001b[0m\u001b[1;32m      7\u001b[0m \u001b[0mimg\u001b[0m \u001b[0;34m=\u001b[0m \u001b[0mImage\u001b[0m\u001b[0;34m.\u001b[0m\u001b[0mopen\u001b[0m\u001b[0;34m(\u001b[0m\u001b[0mio\u001b[0m\u001b[0;34m.\u001b[0m\u001b[0mBytesIO\u001b[0m\u001b[0;34m(\u001b[0m\u001b[0mimg_data\u001b[0m\u001b[0;34m)\u001b[0m\u001b[0;34m)\u001b[0m\u001b[0;34m\u001b[0m\u001b[0;34m\u001b[0m\u001b[0m\n\u001b[1;32m      8\u001b[0m \u001b[0mimg\u001b[0m\u001b[0;34m.\u001b[0m\u001b[0msave\u001b[0m\u001b[0;34m(\u001b[0m\u001b[0;34m'sales_map.png'\u001b[0m\u001b[0;34m)\u001b[0m\u001b[0;34m\u001b[0m\u001b[0;34m\u001b[0m\u001b[0m\n",
      "\u001b[0;32m/opt/conda/lib/python3.9/site-packages/folium/folium.py\u001b[0m in \u001b[0;36m_to_png\u001b[0;34m(self, delay)\u001b[0m\n\u001b[1;32m    317\u001b[0m             \u001b[0moptions\u001b[0m \u001b[0;34m=\u001b[0m \u001b[0mwebdriver\u001b[0m\u001b[0;34m.\u001b[0m\u001b[0mfirefox\u001b[0m\u001b[0;34m.\u001b[0m\u001b[0moptions\u001b[0m\u001b[0;34m.\u001b[0m\u001b[0mOptions\u001b[0m\u001b[0;34m(\u001b[0m\u001b[0;34m)\u001b[0m\u001b[0;34m\u001b[0m\u001b[0;34m\u001b[0m\u001b[0m\n\u001b[1;32m    318\u001b[0m             \u001b[0moptions\u001b[0m\u001b[0;34m.\u001b[0m\u001b[0madd_argument\u001b[0m\u001b[0;34m(\u001b[0m\u001b[0;34m'--headless'\u001b[0m\u001b[0;34m)\u001b[0m\u001b[0;34m\u001b[0m\u001b[0;34m\u001b[0m\u001b[0m\n\u001b[0;32m--> 319\u001b[0;31m             \u001b[0mdriver\u001b[0m \u001b[0;34m=\u001b[0m \u001b[0mwebdriver\u001b[0m\u001b[0;34m.\u001b[0m\u001b[0mFirefox\u001b[0m\u001b[0;34m(\u001b[0m\u001b[0moptions\u001b[0m\u001b[0;34m=\u001b[0m\u001b[0moptions\u001b[0m\u001b[0;34m)\u001b[0m\u001b[0;34m\u001b[0m\u001b[0;34m\u001b[0m\u001b[0m\n\u001b[0m\u001b[1;32m    320\u001b[0m \u001b[0;34m\u001b[0m\u001b[0m\n\u001b[1;32m    321\u001b[0m             \u001b[0mhtml\u001b[0m \u001b[0;34m=\u001b[0m \u001b[0mself\u001b[0m\u001b[0;34m.\u001b[0m\u001b[0mget_root\u001b[0m\u001b[0;34m(\u001b[0m\u001b[0;34m)\u001b[0m\u001b[0;34m.\u001b[0m\u001b[0mrender\u001b[0m\u001b[0;34m(\u001b[0m\u001b[0;34m)\u001b[0m\u001b[0;34m\u001b[0m\u001b[0;34m\u001b[0m\u001b[0m\n",
      "\u001b[0;32m/opt/conda/lib/python3.9/site-packages/selenium/webdriver/firefox/webdriver.py\u001b[0m in \u001b[0;36m__init__\u001b[0;34m(self, firefox_profile, firefox_binary, capabilities, proxy, executable_path, options, service_log_path, service_args, service, desired_capabilities, log_path, keep_alive)\u001b[0m\n\u001b[1;32m    170\u001b[0m                 \u001b[0mservice_args\u001b[0m\u001b[0;34m=\u001b[0m\u001b[0mservice_args\u001b[0m\u001b[0;34m,\u001b[0m\u001b[0;34m\u001b[0m\u001b[0;34m\u001b[0m\u001b[0m\n\u001b[1;32m    171\u001b[0m                 log_path=service_log_path)\n\u001b[0;32m--> 172\u001b[0;31m         \u001b[0mself\u001b[0m\u001b[0;34m.\u001b[0m\u001b[0mservice\u001b[0m\u001b[0;34m.\u001b[0m\u001b[0mstart\u001b[0m\u001b[0;34m(\u001b[0m\u001b[0;34m)\u001b[0m\u001b[0;34m\u001b[0m\u001b[0;34m\u001b[0m\u001b[0m\n\u001b[0m\u001b[1;32m    173\u001b[0m \u001b[0;34m\u001b[0m\u001b[0m\n\u001b[1;32m    174\u001b[0m         executor = FirefoxRemoteConnection(\n",
      "\u001b[0;32m/opt/conda/lib/python3.9/site-packages/selenium/webdriver/common/service.py\u001b[0m in \u001b[0;36mstart\u001b[0;34m(self)\u001b[0m\n\u001b[1;32m     79\u001b[0m         \u001b[0;32mexcept\u001b[0m \u001b[0mOSError\u001b[0m \u001b[0;32mas\u001b[0m \u001b[0merr\u001b[0m\u001b[0;34m:\u001b[0m\u001b[0;34m\u001b[0m\u001b[0;34m\u001b[0m\u001b[0m\n\u001b[1;32m     80\u001b[0m             \u001b[0;32mif\u001b[0m \u001b[0merr\u001b[0m\u001b[0;34m.\u001b[0m\u001b[0merrno\u001b[0m \u001b[0;34m==\u001b[0m \u001b[0merrno\u001b[0m\u001b[0;34m.\u001b[0m\u001b[0mENOENT\u001b[0m\u001b[0;34m:\u001b[0m\u001b[0;34m\u001b[0m\u001b[0;34m\u001b[0m\u001b[0m\n\u001b[0;32m---> 81\u001b[0;31m                 raise WebDriverException(\n\u001b[0m\u001b[1;32m     82\u001b[0m                     \"'{}' executable needs to be in PATH. {}\".format(\n\u001b[1;32m     83\u001b[0m                         os.path.basename(self.path), self.start_error_message)\n",
      "\u001b[0;31mWebDriverException\u001b[0m: Message: 'geckodriver' executable needs to be in PATH. \n"
     ]
    }
   ],
   "source": [
    "# !pip install Pillow\n",
    "# !pip install selenium\n",
    "import io\n",
    "from PIL import Image\n",
    "\n",
    "img_data = sales_map._to_png(5)\n",
    "img = Image.open(io.BytesIO(img_data))\n",
    "img.save('sales_map.png')"
   ]
  },
  {
   "cell_type": "code",
   "execution_count": null,
   "id": "a05d48cd",
   "metadata": {},
   "outputs": [],
   "source": []
  }
 ],
 "metadata": {
  "kernelspec": {
   "display_name": "Python 3 (ipykernel)",
   "language": "python",
   "name": "python3"
  },
  "language_info": {
   "codemirror_mode": {
    "name": "ipython",
    "version": 3
   },
   "file_extension": ".py",
   "mimetype": "text/x-python",
   "name": "python",
   "nbconvert_exporter": "python",
   "pygments_lexer": "ipython3",
   "version": "3.9.7"
  }
 },
 "nbformat": 4,
 "nbformat_minor": 5
}
