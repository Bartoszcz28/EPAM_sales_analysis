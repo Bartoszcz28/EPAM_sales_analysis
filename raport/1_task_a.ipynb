{
 "cells": [
  {
   "cell_type": "code",
   "execution_count": 1,
   "id": "a0d0330c",
   "metadata": {},
   "outputs": [
    {
     "name": "stderr",
     "output_type": "stream",
     "text": [
      "WARNING: An illegal reflective access operation has occurred\n",
      "WARNING: Illegal reflective access by org.apache.spark.unsafe.Platform (file:/usr/local/spark-3.1.2-bin-hadoop3.2/jars/spark-unsafe_2.12-3.1.2.jar) to constructor java.nio.DirectByteBuffer(long,int)\n",
      "WARNING: Please consider reporting this to the maintainers of org.apache.spark.unsafe.Platform\n",
      "WARNING: Use --illegal-access=warn to enable warnings of further illegal reflective access operations\n",
      "WARNING: All illegal access operations will be denied in a future release\n",
      "22/08/18 09:13:28 WARN NativeCodeLoader: Unable to load native-hadoop library for your platform... using builtin-java classes where applicable\n",
      "Using Spark's default log4j profile: org/apache/spark/log4j-defaults.properties\n",
      "Setting default log level to \"WARN\".\n",
      "To adjust logging level use sc.setLogLevel(newLevel). For SparkR, use setLogLevel(newLevel).\n"
     ]
    }
   ],
   "source": [
    "from pyspark.sql import SparkSession, Row\n",
    "from pyspark.sql.functions import *\n",
    "from pyspark.sql.types import TimestampType\n",
    "import pyspark.sql.functions as F\n",
    "\n",
    "import matplotlib.pyplot as plt\n",
    "plt.rc(\"axes\", axisbelow=True)\n",
    "\n",
    "import os\n",
    "\n",
    "spark = SparkSession.builder.getOrCreate()"
   ]
  },
  {
   "cell_type": "markdown",
   "id": "7bcc0857",
   "metadata": {},
   "source": [
    "## Preparing datasets"
   ]
  },
  {
   "cell_type": "code",
   "execution_count": 2,
   "id": "412dfbd0",
   "metadata": {},
   "outputs": [],
   "source": [
    "#  Reading csv file\n",
    "olist_orders_dataset = spark.read.options(header='True', inferSchema='True', delimiter=',') \\\n",
    "                            .csv(\"/home/jovyan/work/sales_analysis/data/olist_orders_dataset.csv\")\n",
    "# olist_orders_dataset = spark.read.options(header='True', inferSchema='True', delimiter=',') \\\n",
    "#                             .csv(\"ecommerce_data/olist_orders_dataset.csv\")"
   ]
  },
  {
   "cell_type": "code",
   "execution_count": 3,
   "id": "65421a47",
   "metadata": {},
   "outputs": [],
   "source": [
    "# orders_date - dataframe with order id, its estimated delivery date and date of receipt of the order by the customer\n",
    "orders_date = olist_orders_dataset.select(\"order_id\",\"order_estimated_delivery_date\",\"order_delivered_customer_date\")\n",
    "orders_date = orders_date.withColumn('order_estimated_delivery_date',to_date(unix_timestamp \\\n",
    "            (orders_date.order_estimated_delivery_date, 'yyyy-MM-dd HH:mm:ss').cast('timestamp'))) \\\n",
    "                        .withColumn('order_delivered_customer_date',to_date(unix_timestamp \\\n",
    "            (orders_date.order_delivered_customer_date, 'yyyy-MM-dd HH:mm:ss').cast('timestamp')))\n",
    "\n",
    "# delayed_orders - subset of orders_date (orders that took longer to deliver than estimated time)\n",
    "delayed_orders = orders_date.select(\"order_id\",\"order_estimated_delivery_date\",\"order_delivered_customer_date\") \\\n",
    "            .filter(orders_date.order_estimated_delivery_date < orders_date.order_delivered_customer_date)\n",
    "\n",
    "# delayed_days - dataframe with information about the amount of orders delayed by n days\n",
    "delayed_orders.createOrReplaceTempView(\"delayed_orders\")\n",
    "delayed_days = spark.sql(\"\"\"\n",
    "    SELECT days_delayed, COUNT(*) as no_orders FROM\n",
    "        (SELECT order_id, DATEDIFF(order_delivered_customer_date, order_estimated_delivery_date) days_delayed FROM delayed_orders)\n",
    "        GROUP BY days_delayed\n",
    "        ORDER BY days_delayed\n",
    "    ;\n",
    "\"\"\")\n",
    "\n",
    "# orders_days_delayed - dataframe with deleyed orders_id and number of days by wich each order was delayed\n",
    "\n",
    "orders_days_delayed = spark.sql(\"\"\"\n",
    "    SELECT order_id, DATEDIFF(order_delivered_customer_date, order_estimated_delivery_date) days_delayed FROM delayed_orders;\n",
    "\"\"\")"
   ]
  },
  {
   "cell_type": "markdown",
   "id": "16f4f5a9",
   "metadata": {},
   "source": [
    "## Basic statistics"
   ]
  },
  {
   "cell_type": "code",
   "execution_count": 4,
   "id": "f535c5aa",
   "metadata": {
    "scrolled": true
   },
   "outputs": [
    {
     "name": "stderr",
     "output_type": "stream",
     "text": [
      "\r",
      "[Stage 4:===========>                                               (1 + 4) / 5]\r",
      "\r",
      "                                                                                \r"
     ]
    },
    {
     "name": "stdout",
     "output_type": "stream",
     "text": [
      "All orders: 99441\n",
      "Delayed orders: 6535 (6.6% of all orders)\n",
      "Undelivered orders: 2965 (3.0% of all orders)\n"
     ]
    }
   ],
   "source": [
    "orders_count = orders_date.count()\n",
    "delayed_orders_count = delayed_orders.count()\n",
    "undelivered_orders_count = orders_date.where(F.col('order_delivered_customer_date').isNull()).count()\n",
    "print(f\"All orders: {orders_count}\")\n",
    "print(f\"Delayed orders: {delayed_orders_count} ({delayed_orders_count / orders_count * 100:.1f}% of all orders)\")\n",
    "print(f\"Undelivered orders: {undelivered_orders_count} ({undelivered_orders_count / orders_count * 100:.1f}% of all orders)\")"
   ]
  },
  {
   "cell_type": "markdown",
   "id": "6253db14",
   "metadata": {},
   "source": [
    "### Saving dataframes to parquet"
   ]
  },
  {
   "cell_type": "code",
   "execution_count": 5,
   "id": "bed93e79",
   "metadata": {},
   "outputs": [],
   "source": [
    "delayed_days.write.parquet(\"/home/jovyan/work/sales_analysis/raport/transformed_data/1_task_days_delayed.parquet\",mode=\"overwrite\")\n",
    "orders_days_delayed.describe((\"days_delayed\")).write.parquet(\"/home/jovyan/work/sales_analysis/raport/transformed_data/1_task_days_delayed_basic_statistics.parquet\",mode=\"overwrite\")\n",
    "orders_dataframe = spark.createDataFrame([\n",
    "    Row(order_type=\"Delivered\", count=orders_count - delayed_orders_count - undelivered_orders_count),\n",
    "    Row(order_type=\"Delayed\", count=delayed_orders_count),\n",
    "    Row(order_type=\"Undelivered\", count=undelivered_orders_count)\n",
    "])\n",
    "orders_dataframe.write.parquet(\"/home/jovyan/work/sales_analysis/raport/transformed_data/1_task_orders_structure.parquet\",mode=\"overwrite\")"
   ]
  },
  {
   "cell_type": "code",
   "execution_count": 6,
   "id": "e30c2c3e",
   "metadata": {
    "scrolled": true
   },
   "outputs": [
    {
     "name": "stdout",
     "output_type": "stream",
     "text": [
      "+-------+------------------+\n",
      "|summary|      days_delayed|\n",
      "+-------+------------------+\n",
      "|  count|              6535|\n",
      "|   mean|  10.6203519510329|\n",
      "| stddev|14.643843860910607|\n",
      "|    min|                 1|\n",
      "|    max|               188|\n",
      "+-------+------------------+\n",
      "\n"
     ]
    },
    {
     "data": {
      "text/plain": [
       "1"
      ]
     },
     "execution_count": 6,
     "metadata": {},
     "output_type": "execute_result"
    }
   ],
   "source": [
    "orders_days_delayed.describe((\"days_delayed\")).show()\n",
    "orders_days_delayed.where(orders_days_delayed[\"days_delayed\"]==188).count()"
   ]
  },
  {
   "cell_type": "markdown",
   "id": "4861941b",
   "metadata": {},
   "source": [
    "### The most delayed order: 188 days\n",
    "### Average delay of an order: 10.62 days\n",
    "### Standard deviation of delayed orders: 14.64 days"
   ]
  },
  {
   "cell_type": "markdown",
   "id": "2a1a10d2",
   "metadata": {},
   "source": [
    "### Null values in  \"order_delivered_customer_date\" column we treat as not delivered orders"
   ]
  },
  {
   "cell_type": "code",
   "execution_count": 7,
   "id": "b886f2df",
   "metadata": {},
   "outputs": [
    {
     "name": "stdout",
     "output_type": "stream",
     "text": [
      "Null values in column order_id: 0\n",
      "Null values in column order_estimated_delivery_date: 0\n",
      "Null values in column order_delivered_customer_date: 2965\n"
     ]
    }
   ],
   "source": [
    "# Checking missing values\n",
    "print(f\"Null values in column order_id: {orders_date.where(F.col('order_id').isNull()).count()}\")\n",
    "print(f\"Null values in column order_estimated_delivery_date: {orders_date.where(F.col('order_estimated_delivery_date').isNull()).count()}\")\n",
    "print(f\"Null values in column order_delivered_customer_date: {undelivered_orders_count}\")"
   ]
  },
  {
   "cell_type": "markdown",
   "id": "952e32e2",
   "metadata": {},
   "source": [
    "### Make a schedule chart for all & delayed orders"
   ]
  },
  {
   "cell_type": "code",
   "execution_count": 8,
   "id": "f2423982",
   "metadata": {},
   "outputs": [],
   "source": [
    "#  preparing directory for plots\n",
    "try:\n",
    "    os.mkdir(\"plots\")\n",
    "except OSError as error:\n",
    "    pass"
   ]
  },
  {
   "cell_type": "code",
   "execution_count": 9,
   "id": "00038d2c",
   "metadata": {},
   "outputs": [
    {
     "name": "stdout",
     "output_type": "stream",
     "text": [
      "Number of undelivered & delayed orders: 9500\n",
      "Percent of undelivered & delayed orders: 9.553403525708712\n"
     ]
    }
   ],
   "source": [
    "print(f\"Number of undelivered & delayed orders: {orders_date.where(F.col('order_delivered_customer_date').isNull()).count()+delayed_orders.count()}\")\n",
    "print(f\"Percent of undelivered & delayed orders: {(orders_date.where(F.col('order_delivered_customer_date').isNull()).count()+delayed_orders.count())/orders_date.count()*100}\")"
   ]
  },
  {
   "cell_type": "code",
   "execution_count": 10,
   "id": "c5ba0608",
   "metadata": {
    "scrolled": true
   },
   "outputs": [
    {
     "data": {
      "image/png": "[encoded data removed]",
      "text/plain": [
       "<Figure size 432x288 with 1 Axes>"
      ]
     },
     "metadata": {},
     "output_type": "display_data"
    }
   ],
   "source": [
    "explode = (0, .15, .3)\n",
    "\n",
    "labels_d = \"Delivered on time\", \"Delivered with delay\", \"Undelivered\"\n",
    "data_d = [\n",
    "    orders_date.count() - (undelivered_orders_count + delayed_orders_count),\n",
    "    delayed_orders_count,\n",
    "    undelivered_orders_count \n",
    "]\n",
    "\n",
    "fig, ax = plt.subplots()\n",
    "ax.pie(data_d, explode=explode, labels=None, autopct=\"%1.1f%%\", shadow=True, startangle=90)\n",
    "ax.axis(\"equal\")\n",
    "\n",
    "plt.title(\"All Orders\")\n",
    "plt.legend(labels_d, loc=\"lower center\", bbox_to_anchor=(0.5, -.25))\n",
    "plt.savefig(\"plots/task_1_pie_chart.pdf\", bbox_inches=\"tight\")\n",
    "plt.savefig(\"plots/task_1_pie_chart.png\", dpi=200, bbox_inches=\"tight\")\n",
    "plt.show()\n"
   ]
  },
  {
   "cell_type": "code",
   "execution_count": 11,
   "id": "6dbea99b",
   "metadata": {},
   "outputs": [
    {
     "name": "stderr",
     "output_type": "stream",
     "text": [
      "                                                                                \r"
     ]
    },
    {
     "data": {
      "image/png": "[encoded data removed]",
      "text/plain": [
       "<Figure size 432x288 with 1 Axes>"
      ]
     },
     "metadata": {
      "needs_background": "light"
     },
     "output_type": "display_data"
    }
   ],
   "source": [
    "x = delayed_days.select(\"days_delayed\").rdd.flatMap(lambda _: _).collect()\n",
    "y = delayed_days.select(\"no_orders\").rdd.flatMap(lambda _: _).collect()\n",
    "\n",
    "plt.grid(which=\"both\")\n",
    "plt.bar(x[:50], [100 * i / delayed_orders_count for i in y[:50]])\n",
    "plt.title(\"Distribution of delayed orders\")\n",
    "plt.xlabel(\"number of days delayed\")\n",
    "plt.ylabel(\"percentage of delayed orders [%]\")\n",
    "\n",
    "plt.savefig(\"plots/task_1_distribution_of_delayed_orders.pdf\", bbox_inches=\"tight\")\n",
    "plt.savefig(\"plots/task_1_distribution_of_delayed_orders.png\", dpi=300, bbox_inches=\"tight\")\n",
    "plt.show()\n"
   ]
  }
 ],
 "metadata": {
  "kernelspec": {
   "display_name": "Python 3 (ipykernel)",
   "language": "python",
   "name": "python3"
  },
  "language_info": {
   "codemirror_mode": {
    "name": "ipython",
    "version": 3
   },
   "file_extension": ".py",
   "mimetype": "text/x-python",
   "name": "python",
   "nbconvert_exporter": "python",
   "pygments_lexer": "ipython3",
   "version": "3.9.7"
  }
 },
 "nbformat": 4,
 "nbformat_minor": 5
}
