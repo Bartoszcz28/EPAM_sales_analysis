{
 "cells": [
  {
   "cell_type": "code",
   "execution_count": null,
   "id": "a17f12fd",
   "metadata": {},
   "outputs": [
    {
     "name": "stderr",
     "output_type": "stream",
     "text": [
      "WARNING: An illegal reflective access operation has occurred\n",
      "WARNING: Illegal reflective access by org.apache.spark.unsafe.Platform (file:/usr/local/spark-3.1.2-bin-hadoop3.2/jars/spark-unsafe_2.12-3.1.2.jar) to constructor java.nio.DirectByteBuffer(long,int)\n",
      "WARNING: Please consider reporting this to the maintainers of org.apache.spark.unsafe.Platform\n",
      "WARNING: Use --illegal-access=warn to enable warnings of further illegal reflective access operations\n",
      "WARNING: All illegal access operations will be denied in a future release\n",
      "22/08/18 17:25:19 WARN NativeCodeLoader: Unable to load native-hadoop library for your platform... using builtin-java classes where applicable\n",
      "Using Spark's default log4j profile: org/apache/spark/log4j-defaults.properties\n",
      "Setting default log level to \"WARN\".\n",
      "To adjust logging level use sc.setLogLevel(newLevel). For SparkR, use setLogLevel(newLevel).\n",
      "22/08/18 17:25:20 WARN Utils: Service 'SparkUI' could not bind on port 4040. Attempting port 4041.\n",
      "22/08/18 17:25:20 WARN Utils: Service 'SparkUI' could not bind on port 4041. Attempting port 4042.\n"
     ]
    }
   ],
   "source": [
    "from pyspark.sql import SparkSession\n",
    "from pyspark.sql.functions import *\n",
    "from pyspark.sql.types import TimestampType\n",
    "import pyspark.sql.functions as F\n",
    "import pandas as pd\n",
    "import plotly\n",
    "import plotly.express as px\n",
    "\n",
    "spark = SparkSession.builder.getOrCreate()\n",
    "\n",
    "# Reading, selecting columns and changing data types\n",
    "\n",
    "orders = spark.read.options(header='True', inferSchema='True', delimiter=',') \\\n",
    "                            .csv(\"/home/jovyan/work/EPAM_sales_analysis/data/olist_orders_dataset.csv\") \\\n",
    "                            .select(\"order_id\",\"order_delivered_carrier_date\",\"order_estimated_delivery_date\")\n",
    "orders = orders.withColumn('order_delivered_carrier_date',to_date(unix_timestamp \\\n",
    "            (orders.order_delivered_carrier_date, 'yyyy-MM-dd HH:mm:ss').cast('timestamp'))) \\\n",
    "            .withColumn('order_estimated_delivery_date',to_date(unix_timestamp \\\n",
    "            (orders.order_estimated_delivery_date, 'yyyy-MM-dd HH:mm:ss').cast('timestamp')))\n",
    "\n",
    "# We drop rows with null values because we assume that these orders never will by deliverd\n",
    "orders = orders.na.drop(\"any\")\n",
    "\n",
    "# two_days column description\n",
    "  \n",
    "# True - order was sent more then 2 days before expected delivery date   \n",
    "# False - The order has not been shipped more than two days before the expected delivery date\n",
    "\n",
    "orders_big = orders.withColumn('two_days', F.date_add(orders['order_delivered_carrier_date'],2))\n",
    "orders_big = orders_big.withColumn(\"two_days\", F.when(F.col(\"two_days\") < F.col(\"order_estimated_delivery_date\"), True) \\\n",
    "                                   .otherwise(False))\n",
    "\n",
    "two_days = orders_big.groupBy(\"two_days\").count()\n",
    "two_days.write.parquet(\"/home/jovyan/work/EPAM_sales_analysis/raport/transformed_data/6_task_two_days.parquet\",mode=\"overwrite\")\n",
    "two_days.show()"
   ]
  }
 ],
 "metadata": {
  "kernelspec": {
   "display_name": "Python 3 (ipykernel)",
   "language": "python",
   "name": "python3"
  },
  "language_info": {
   "codemirror_mode": {
    "name": "ipython",
    "version": 3
   },
   "file_extension": ".py",
   "mimetype": "text/x-python",
   "name": "python",
   "nbconvert_exporter": "python",
   "pygments_lexer": "ipython3",
   "version": "3.9.7"
  }
 },
 "nbformat": 4,
 "nbformat_minor": 5
}
