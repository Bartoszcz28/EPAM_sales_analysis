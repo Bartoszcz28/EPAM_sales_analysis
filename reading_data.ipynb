{
 "cells": [
  {
   "cell_type": "code",
   "execution_count": 1,
   "id": "775e8245",
   "metadata": {},
   "outputs": [
    {
     "name": "stderr",
     "output_type": "stream",
     "text": [
      "WARNING: An illegal reflective access operation has occurred\n",
      "WARNING: Illegal reflective access by org.apache.spark.unsafe.Platform (file:/usr/local/spark-3.1.2-bin-hadoop3.2/jars/spark-unsafe_2.12-3.1.2.jar) to constructor java.nio.DirectByteBuffer(long,int)\n",
      "WARNING: Please consider reporting this to the maintainers of org.apache.spark.unsafe.Platform\n",
      "WARNING: Use --illegal-access=warn to enable warnings of further illegal reflective access operations\n",
      "WARNING: All illegal access operations will be denied in a future release\n",
      "22/08/12 11:23:21 WARN NativeCodeLoader: Unable to load native-hadoop library for your platform... using builtin-java classes where applicable\n",
      "Using Spark's default log4j profile: org/apache/spark/log4j-defaults.properties\n",
      "Setting default log level to \"WARN\".\n",
      "To adjust logging level use sc.setLogLevel(newLevel). For SparkR, use setLogLevel(newLevel).\n",
      "22/08/12 11:23:22 WARN Utils: Service 'SparkUI' could not bind on port 4040. Attempting port 4041.\n"
     ]
    }
   ],
   "source": [
    "from pyspark.sql import SparkSession\n",
    "spark = SparkSession.builder.getOrCreate()"
   ]
  },
  {
   "cell_type": "code",
   "execution_count": 8,
   "id": "02b02244",
   "metadata": {},
   "outputs": [],
   "source": [
    "# df = spark.read.options(delimiter=',').option(\"header\",True).csv(\"data/olist_customers_dataset.csv\")\n",
    "df = spark.read.options(header='True', inferSchema='True', delimiter=',').csv(\"data/olist_order_payments_dataset.csv\")"
   ]
  },
  {
   "cell_type": "code",
   "execution_count": 9,
   "id": "ca419c9a",
   "metadata": {},
   "outputs": [
    {
     "name": "stdout",
     "output_type": "stream",
     "text": [
      "+--------------------+------------------+------------+--------------------+-------------+\n",
      "|            order_id|payment_sequential|payment_type|payment_installments|payment_value|\n",
      "+--------------------+------------------+------------+--------------------+-------------+\n",
      "|b81ef226f3fe1789b...|                 1| credit_card|                   8|        99.33|\n",
      "|a9810da82917af2d9...|                 1| credit_card|                   1|        24.39|\n",
      "|25e8ea4e93396b6fa...|                 1| credit_card|                   1|        65.71|\n",
      "|ba78997921bbcdc13...|                 1| credit_card|                   8|       107.78|\n",
      "|42fdf880ba16b47b5...|                 1| credit_card|                   2|       128.45|\n",
      "|298fcdf1f73eb413e...|                 1| credit_card|                   2|        96.12|\n",
      "|771ee386b001f0620...|                 1| credit_card|                   1|        81.16|\n",
      "|3d7239c394a212faa...|                 1| credit_card|                   3|        51.84|\n",
      "|1f78449c87a54faf9...|                 1| credit_card|                   6|       341.09|\n",
      "|0573b5e23cbd79800...|                 1|      boleto|                   1|        51.95|\n",
      "|d88e0d5fa41661ce0...|                 1| credit_card|                   8|       188.73|\n",
      "|2480f727e869fdeb3...|                 1| credit_card|                   1|        141.9|\n",
      "|616105c9352a9668c...|                 1| credit_card|                   1|        75.78|\n",
      "|cf95215a722f3ebf2...|                 1| credit_card|                   5|       102.66|\n",
      "|769214176682788a9...|                 1| credit_card|                   4|       105.28|\n",
      "|12e5cfe0e4716b59a...|                 1| credit_card|                  10|       157.45|\n",
      "|61059985a6fc0ad64...|                 1| credit_card|                   1|       132.04|\n",
      "|79da3f5fe31ad1e45...|                 1| credit_card|                   1|        98.94|\n",
      "|8ac09207f415d55ac...|                 1| credit_card|                   4|       244.15|\n",
      "|b2349a3f20dfbeef6...|                 1| credit_card|                   3|       136.71|\n",
      "+--------------------+------------------+------------+--------------------+-------------+\n",
      "only showing top 20 rows\n",
      "\n"
     ]
    }
   ],
   "source": [
    "df.show()"
   ]
  },
  {
   "cell_type": "code",
   "execution_count": 10,
   "id": "9f12f5f5",
   "metadata": {},
   "outputs": [],
   "source": [
    "x = \"test\""
   ]
  },
  {
   "cell_type": "code",
   "execution_count": null,
   "id": "41d38c82",
   "metadata": {},
   "outputs": [],
   "source": []
  }
 ],
 "metadata": {
  "kernelspec": {
   "display_name": "Python 3 (ipykernel)",
   "language": "python",
   "name": "python3"
  },
  "language_info": {
   "codemirror_mode": {
    "name": "ipython",
    "version": 3
   },
   "file_extension": ".py",
   "mimetype": "text/x-python",
   "name": "python",
   "nbconvert_exporter": "python",
   "pygments_lexer": "ipython3",
   "version": "3.9.7"
  }
 },
 "nbformat": 4,
 "nbformat_minor": 5
}
